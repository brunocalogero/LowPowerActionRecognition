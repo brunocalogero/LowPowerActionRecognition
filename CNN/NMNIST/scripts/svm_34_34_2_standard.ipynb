{
 "cells": [
  {
   "cell_type": "code",
   "execution_count": 1,
   "metadata": {},
   "outputs": [],
   "source": [
    "# Standard scientific Python imports\n",
    "import matplotlib.pyplot as plt\n",
    "import numpy as np\n",
    "import time\n",
    "import datetime as dt\n",
    "import os\n",
    "\n",
    "# Import datasets, classifiers and performance metrics\n",
    "from sklearn import svm, metrics"
   ]
  },
  {
   "cell_type": "code",
   "execution_count": 11,
   "metadata": {},
   "outputs": [],
   "source": [
    "# Import whole N-MNIST Dataset\n",
    "def load_NMNIST(path):\n",
    "    \"\"\"\n",
    "    \"\"\"\n",
    "    xs_train = []\n",
    "    ys_train = []\n",
    "    xs_test = []\n",
    "    ys_test = []\n",
    "\n",
    "    for class_index in range(0, 10):\n",
    "        for (root, dirs, dat_files) in os.walk('{0}/n_Train_2/{1}'.format(path, str(class_index))):\n",
    "            for file in dat_files:\n",
    "                single_X = np.fromfile('{0}/n_Train_2/{1}/{2}'.format(path, str(class_index), file), dtype=np.int32)\n",
    "                xs_train.append(single_X)\n",
    "                ys_train.append(class_index)\n",
    "\n",
    "        for (root, dirs, dat_files) in os.walk('{0}/n_Test_2/{1}'.format(path, str(class_index))):\n",
    "            for file in dat_files:\n",
    "                xs_test.append(np.fromfile('{0}/n_Test_2/{1}/{2}'.format(path, str(class_index), file), dtype=np.int32))\n",
    "                ys_test.append(class_index)\n",
    "\n",
    "    Xtr = np.array(xs_train)\n",
    "    Ytr = np.array(ys_train)\n",
    "    Xte = np.array(xs_test)\n",
    "    Yte = np.array(ys_test)\n",
    "\n",
    "    return Xtr, Ytr, Xte, Yte"
   ]
  },
  {
   "cell_type": "code",
   "execution_count": 12,
   "metadata": {},
   "outputs": [],
   "source": [
    "dataset_class_path = '/Users/brunocalogero/Desktop/LowPowerActionRecognition/CNN/NMNIST/datasets'\n",
    "X_train, Y_train, X_test, Y_test = load_NMNIST(dataset_class_path)"
   ]
  },
  {
   "cell_type": "code",
   "execution_count": 13,
   "metadata": {},
   "outputs": [
    {
     "name": "stdout",
     "output_type": "stream",
     "text": [
      "('Training data shape: ', (60000, 2312))\n",
      "('Training labels shape: ', (60000,))\n",
      "('Test data shape: ', (10000, 2312))\n",
      "('Test labels shape: ', (10000,))\n"
     ]
    }
   ],
   "source": [
    "# As a sanity check, we print out the size of the training and test data.\n",
    "print('Training data shape: ', X_train.shape)\n",
    "print('Training labels shape: ', Y_train.shape)\n",
    "print('Test data shape: ', X_test.shape)\n",
    "print('Test labels shape: ', Y_test.shape)"
   ]
  },
  {
   "cell_type": "code",
   "execution_count": 11,
   "metadata": {},
   "outputs": [
    {
     "name": "stdout",
     "output_type": "stream",
     "text": [
      "Start learning at 2018-11-30 20:42:43.573398\n",
      "Stop learning 2018-12-01 20:57:56.467691\n",
      "Elapsed learning 1 day, 0:15:12.894293\n"
     ]
    }
   ],
   "source": [
    "classifier = svm.SVC(C=5,kernel='rbf',gamma=0.01,cache_size=8000,probability=False)\n",
    "\n",
    "start_time = dt.datetime.now()\n",
    "print('Start learning at {}'.format(str(start_time)))\n",
    "\n",
    "classifier.fit(X_train, Y_train)\n",
    "\n",
    "end_time = dt.datetime.now() \n",
    "print('Stop learning {}'.format(str(end_time)))\n",
    "elapsed_time= end_time - start_time\n",
    "print('Elapsed learning {}'.format(str(elapsed_time)))"
   ]
  },
  {
   "cell_type": "code",
   "execution_count": 12,
   "metadata": {},
   "outputs": [
    {
     "name": "stdout",
     "output_type": "stream",
     "text": [
      "Classification report for classifier SVC(C=5, cache_size=8000, class_weight=None, coef0=0.0,\n",
      "  decision_function_shape='ovr', degree=3, gamma=0.01, kernel='rbf',\n",
      "  max_iter=-1, probability=False, random_state=None, shrinking=True,\n",
      "  tol=0.001, verbose=False):\n",
      "              precision    recall  f1-score   support\n",
      "\n",
      "           0       0.00      0.00      0.00       980\n",
      "           1       0.99      0.76      0.86      1135\n",
      "           2       0.00      0.00      0.00      1032\n",
      "           3       0.87      0.04      0.07      1010\n",
      "           4       1.00      0.03      0.05       982\n",
      "           5       1.00      0.00      0.01       892\n",
      "           6       0.95      0.02      0.04       958\n",
      "           7       0.11      0.99      0.20      1028\n",
      "           8       0.00      0.00      0.00       974\n",
      "           9       0.87      0.05      0.09      1009\n",
      "\n",
      "   micro avg       0.20      0.20      0.20     10000\n",
      "   macro avg       0.58      0.19      0.13     10000\n",
      "weighted avg       0.58      0.20      0.14     10000\n",
      "\n",
      "\n",
      "Confusion matrix:\n",
      "[[   0    0    0    1    0    0    0  979    0    0]\n",
      " [   0  858    0    1    0    0    0  276    0    0]\n",
      " [   0    0    0    0    0    0    0 1032    0    0]\n",
      " [   0    0    0   39    0    0    0  971    0    0]\n",
      " [   0    0    0    0   27    0    0  950    0    5]\n",
      " [   0    1    0    0    0    4    0  887    0    0]\n",
      " [   0    1    0    0    0    0   21  936    0    0]\n",
      " [   0    4    0    0    0    0    0 1022    0    2]\n",
      " [   0    0    0    3    0    0    1  970    0    0]\n",
      " [   0    0    0    1    0    0    0  962    0   46]]\n",
      "Accuracy=0.2017\n"
     ]
    },
    {
     "name": "stderr",
     "output_type": "stream",
     "text": [
      "/usr/local/lib/python2.7/site-packages/sklearn/metrics/classification.py:1143: UndefinedMetricWarning: Precision and F-score are ill-defined and being set to 0.0 in labels with no predicted samples.\n",
      "  'precision', 'predicted', average, warn_for)\n"
     ]
    }
   ],
   "source": [
    "# Now predict the value of the test\n",
    "expected = Y_test\n",
    "predicted = classifier.predict(X_test)\n",
    "\n",
    "\n",
    "print(\"Classification report for classifier %s:\\n%s\\n\"\n",
    "      % (classifier, metrics.classification_report(expected, predicted)))\n",
    "      \n",
    "cm = metrics.confusion_matrix(expected, predicted)\n",
    "print(\"Confusion matrix:\\n%s\" % cm)\n",
    "\n",
    "# plot_confusion_matrix(cm)\n",
    "\n",
    "print(\"Accuracy={}\".format(metrics.accuracy_score(expected, predicted)))"
   ]
  },
  {
   "cell_type": "code",
   "execution_count": 14,
   "metadata": {},
   "outputs": [
    {
     "name": "stdout",
     "output_type": "stream",
     "text": [
      "Start learning at 2018-12-05 22:03:37.807504\n",
      "Stop learning 2018-12-06 01:28:24.590395\n",
      "Elapsed learning 3:24:46.782891\n"
     ]
    }
   ],
   "source": [
    "classifier = svm.SVC(C=5,kernel='rbf',gamma=0.0005,cache_size=8000,probability=False)\n",
    "\n",
    "start_time = dt.datetime.now()\n",
    "print('Start learning at {}'.format(str(start_time)))\n",
    "\n",
    "classifier.fit(X_train, Y_train)\n",
    "\n",
    "end_time = dt.datetime.now() \n",
    "print('Stop learning {}'.format(str(end_time)))\n",
    "elapsed_time= end_time - start_time\n",
    "print('Elapsed learning {}'.format(str(elapsed_time)))"
   ]
  },
  {
   "cell_type": "code",
   "execution_count": 15,
   "metadata": {},
   "outputs": [
    {
     "name": "stdout",
     "output_type": "stream",
     "text": [
      "Classification report for classifier SVC(C=5, cache_size=8000, class_weight=None, coef0=0.0,\n",
      "  decision_function_shape=None, degree=3, gamma=0.0005, kernel='rbf',\n",
      "  max_iter=-1, probability=False, random_state=None, shrinking=True,\n",
      "  tol=0.001, verbose=False):\n",
      "             precision    recall  f1-score   support\n",
      "\n",
      "          0       0.97      0.99      0.98       980\n",
      "          1       0.97      0.99      0.98      1135\n",
      "          2       0.97      0.97      0.97      1032\n",
      "          3       0.96      0.97      0.96      1010\n",
      "          4       0.97      0.98      0.97       982\n",
      "          5       0.97      0.97      0.97       892\n",
      "          6       0.98      0.97      0.98       958\n",
      "          7       0.97      0.96      0.97      1028\n",
      "          8       0.97      0.95      0.96       974\n",
      "          9       0.96      0.94      0.95      1009\n",
      "\n",
      "avg / total       0.97      0.97      0.97     10000\n",
      "\n",
      "\n",
      "Confusion matrix:\n",
      "[[ 967    1    1    1    0    3    3    3    0    1]\n",
      " [   0 1125    4    2    0    1    2    0    0    1]\n",
      " [   6    2 1002    3    1    0    6    6    6    0]\n",
      " [   1    2    6  978    0    8    2    5    6    2]\n",
      " [   2    3    0    0  958    0    2    1    3   13]\n",
      " [   3    2    0   13    1  865    5    0    2    1]\n",
      " [   8    7    1    1    2    5  932    0    2    0]\n",
      " [   0   10   13    1    4    0    0  986    1   13]\n",
      " [   4    1    7   12    6    5    0    3  930    6]\n",
      " [   4    4    3    7   19    4    1   10    5  952]]\n",
      "Accuracy=0.9695\n"
     ]
    }
   ],
   "source": [
    "# Now predict the value of the test\n",
    "expected = Y_test\n",
    "predicted = classifier.predict(X_test)\n",
    "\n",
    "\n",
    "print(\"Classification report for classifier %s:\\n%s\\n\"\n",
    "      % (classifier, metrics.classification_report(expected, predicted)))\n",
    "      \n",
    "cm = metrics.confusion_matrix(expected, predicted)\n",
    "print(\"Confusion matrix:\\n%s\" % cm)\n",
    "\n",
    "# plot_confusion_matrix(cm)\n",
    "\n",
    "print(\"Accuracy={}\".format(metrics.accuracy_score(expected, predicted)))"
   ]
  },
  {
   "cell_type": "code",
   "execution_count": 16,
   "metadata": {},
   "outputs": [
    {
     "name": "stdout",
     "output_type": "stream",
     "text": [
      "Start learning at 2018-12-06 01:38:18.915357\n",
      "Stop learning 2018-12-06 02:17:24.732880\n",
      "Elapsed learning 0:39:05.817523\n"
     ]
    }
   ],
   "source": [
    "classifier = svm.SVC(C=1,kernel='rbf',gamma=0.0005,cache_size=8000,probability=False)\n",
    "\n",
    "start_time = dt.datetime.now()\n",
    "print('Start learning at {}'.format(str(start_time)))\n",
    "\n",
    "classifier.fit(X_train, Y_train)\n",
    "\n",
    "end_time = dt.datetime.now() \n",
    "print('Stop learning {}'.format(str(end_time)))\n",
    "elapsed_time= end_time - start_time\n",
    "print('Elapsed learning {}'.format(str(elapsed_time)))\n",
    "\n"
   ]
  },
  {
   "cell_type": "code",
   "execution_count": 17,
   "metadata": {},
   "outputs": [
    {
     "name": "stdout",
     "output_type": "stream",
     "text": [
      "Classification report for classifier SVC(C=1, cache_size=8000, class_weight=None, coef0=0.0,\n",
      "  decision_function_shape=None, degree=3, gamma=0.0005, kernel='rbf',\n",
      "  max_iter=-1, probability=False, random_state=None, shrinking=True,\n",
      "  tol=0.001, verbose=False):\n",
      "             precision    recall  f1-score   support\n",
      "\n",
      "          0       0.97      0.98      0.98       980\n",
      "          1       0.97      0.99      0.98      1135\n",
      "          2       0.95      0.96      0.96      1032\n",
      "          3       0.97      0.96      0.96      1010\n",
      "          4       0.96      0.97      0.96       982\n",
      "          5       0.96      0.97      0.96       892\n",
      "          6       0.98      0.97      0.97       958\n",
      "          7       0.97      0.95      0.96      1028\n",
      "          8       0.96      0.95      0.96       974\n",
      "          9       0.96      0.93      0.95      1009\n",
      "\n",
      "avg / total       0.96      0.96      0.96     10000\n",
      "\n",
      "\n",
      "Confusion matrix:\n",
      "[[ 965    1    2    0    0    3    5    3    0    1]\n",
      " [   0 1127    4    2    0    1    1    0    0    0]\n",
      " [   6    2  992    2    4    1    6   10    9    0]\n",
      " [   0    2    9  971    0   11    2    5    7    3]\n",
      " [   2    3    3    0  953    0    2    2    2   15]\n",
      " [   4    2    2   10    1  861    6    1    5    0]\n",
      " [   9    6    2    1    4    6  928    0    2    0]\n",
      " [   0   14   16    2    3    0    0  975    3   15]\n",
      " [   4    1    7   11    7    8    0    4  927    5]\n",
      " [   7    6    2    4   25    9    1    7    9  939]]\n",
      "Accuracy=0.9638\n"
     ]
    }
   ],
   "source": [
    "# Now predict the value of the test\n",
    "expected = Y_test\n",
    "predicted = classifier.predict(X_test)\n",
    "\n",
    "\n",
    "print(\"Classification report for classifier %s:\\n%s\\n\"\n",
    "      % (classifier, metrics.classification_report(expected, predicted)))\n",
    "      \n",
    "cm = metrics.confusion_matrix(expected, predicted)\n",
    "print(\"Confusion matrix:\\n%s\" % cm)\n",
    "\n",
    "# plot_confusion_matrix(cm)\n",
    "\n",
    "print(\"Accuracy={}\".format(metrics.accuracy_score(expected, predicted)))"
   ]
  },
  {
   "cell_type": "code",
   "execution_count": 18,
   "metadata": {},
   "outputs": [
    {
     "name": "stdout",
     "output_type": "stream",
     "text": [
      "Start learning at 2018-12-06 14:28:39.611644\n",
      "Stop learning 2018-12-06 14:56:43.962824\n",
      "Elapsed learning 0:28:04.351180\n"
     ]
    }
   ],
   "source": [
    "classifier = svm.SVC(C=5,kernel='rbf',gamma=0.0004,cache_size=8000,probability=False)\n",
    "\n",
    "start_time = dt.datetime.now()\n",
    "print('Start learning at {}'.format(str(start_time)))\n",
    "\n",
    "classifier.fit(X_train, Y_train)\n",
    "\n",
    "end_time = dt.datetime.now() \n",
    "print('Stop learning {}'.format(str(end_time)))\n",
    "elapsed_time= end_time - start_time\n",
    "print('Elapsed learning {}'.format(str(elapsed_time)))\n"
   ]
  },
  {
   "cell_type": "code",
   "execution_count": 19,
   "metadata": {},
   "outputs": [
    {
     "name": "stdout",
     "output_type": "stream",
     "text": [
      "Classification report for classifier SVC(C=5, cache_size=8000, class_weight=None, coef0=0.0,\n",
      "  decision_function_shape=None, degree=3, gamma=0.0004, kernel='rbf',\n",
      "  max_iter=-1, probability=False, random_state=None, shrinking=True,\n",
      "  tol=0.001, verbose=False):\n",
      "             precision    recall  f1-score   support\n",
      "\n",
      "          0       0.97      0.99      0.98       980\n",
      "          1       0.97      0.99      0.98      1135\n",
      "          2       0.97      0.97      0.97      1032\n",
      "          3       0.96      0.97      0.96      1010\n",
      "          4       0.96      0.98      0.97       982\n",
      "          5       0.97      0.97      0.97       892\n",
      "          6       0.98      0.97      0.97       958\n",
      "          7       0.98      0.96      0.97      1028\n",
      "          8       0.97      0.96      0.96       974\n",
      "          9       0.97      0.94      0.95      1009\n",
      "\n",
      "avg / total       0.97      0.97      0.97     10000\n",
      "\n",
      "\n",
      "Confusion matrix:\n",
      "[[ 968    1    1    1    0    3    3    2    0    1]\n",
      " [   0 1126    4    2    0    1    1    0    0    1]\n",
      " [   5    3 1000    2    2    1    6    6    7    0]\n",
      " [   1    3    7  976    0    9    2    4    6    2]\n",
      " [   2    2    0    0  962    0    2    1    3   10]\n",
      " [   3    2    1   13    1  864    5    0    2    1]\n",
      " [   8    7    1    1    3    6  929    0    3    0]\n",
      " [   1   11   12    1    5    0    0  983    2   13]\n",
      " [   4    1    5   11    6    6    0    4  931    6]\n",
      " [   4    5    3    7   20    5    1    8    5  951]]\n",
      "Accuracy=0.969\n"
     ]
    }
   ],
   "source": [
    "# Now predict the value of the test\n",
    "expected = Y_test\n",
    "predicted = classifier.predict(X_test)\n",
    "\n",
    "\n",
    "print(\"Classification report for classifier %s:\\n%s\\n\"\n",
    "      % (classifier, metrics.classification_report(expected, predicted)))\n",
    "      \n",
    "cm = metrics.confusion_matrix(expected, predicted)\n",
    "print(\"Confusion matrix:\\n%s\" % cm)\n",
    "\n",
    "# plot_confusion_matrix(cm)\n",
    "\n",
    "print(\"Accuracy={}\".format(metrics.accuracy_score(expected, predicted)))"
   ]
  },
  {
   "cell_type": "code",
   "execution_count": null,
   "metadata": {},
   "outputs": [],
   "source": []
  }
 ],
 "metadata": {
  "kernelspec": {
   "display_name": "Python 3",
   "language": "python",
   "name": "python3"
  },
  "language_info": {
   "codemirror_mode": {
    "name": "ipython",
    "version": 3
   },
   "file_extension": ".py",
   "mimetype": "text/x-python",
   "name": "python",
   "nbconvert_exporter": "python",
   "pygments_lexer": "ipython3",
   "version": "3.7.1"
  }
 },
 "nbformat": 4,
 "nbformat_minor": 2
}
