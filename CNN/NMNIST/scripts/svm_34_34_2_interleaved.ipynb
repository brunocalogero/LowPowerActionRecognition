{
 "cells": [
  {
   "cell_type": "code",
   "execution_count": 2,
   "metadata": {},
   "outputs": [],
   "source": [
    "# Standard scientific Python imports\n",
    "import matplotlib.pyplot as plt\n",
    "import numpy as np\n",
    "import time\n",
    "import datetime as dt\n",
    "import os\n",
    "\n",
    "# Import datasets, classifiers and performance metrics\n",
    "from sklearn import svm, metrics"
   ]
  },
  {
   "cell_type": "code",
   "execution_count": 3,
   "metadata": {},
   "outputs": [],
   "source": [
    "# Import whole N-MNIST Dataset\n",
    "def load_NMNIST(path):\n",
    "    \"\"\"\n",
    "    \"\"\"\n",
    "    xs_train = []\n",
    "    ys_train = []\n",
    "    xs_test = []\n",
    "    ys_test = []\n",
    "\n",
    "    for class_index in range(0, 10):\n",
    "        for (root, dirs, dat_files) in os.walk('{0}/n_Train_3/{1}'.format(path, str(class_index))):\n",
    "            for file in dat_files:\n",
    "                single_X = np.fromfile('{0}/n_Train_3/{1}/{2}'.format(path, str(class_index), file), dtype=np.int32)\n",
    "                xs_train.append(single_X)\n",
    "                ys_train.append(class_index)\n",
    "\n",
    "        for (root, dirs, dat_files) in os.walk('{0}/n_Test_3/{1}'.format(path, str(class_index))):\n",
    "            for file in dat_files:\n",
    "                xs_test.append(np.fromfile('{0}/n_Test_3/{1}/{2}'.format(path, str(class_index), file), dtype=np.int32))\n",
    "                ys_test.append(class_index)\n",
    "\n",
    "    Xtr = np.array(xs_train)\n",
    "    Ytr = np.array(ys_train)\n",
    "    Xte = np.array(xs_test)\n",
    "    Yte = np.array(ys_test)\n",
    "\n",
    "    return Xtr, Ytr, Xte, Yte"
   ]
  },
  {
   "cell_type": "code",
   "execution_count": 4,
   "metadata": {},
   "outputs": [],
   "source": [
    "dataset_class_path = '/Users/brunocalogero/Desktop/LowPowerActionRecognition/CNN/NMNIST/datasets'\n",
    "X_train, Y_train, X_test, Y_test = load_NMNIST(dataset_class_path)"
   ]
  },
  {
   "cell_type": "code",
   "execution_count": 5,
   "metadata": {},
   "outputs": [
    {
     "name": "stdout",
     "output_type": "stream",
     "text": [
      "('Training data shape: ', (60000, 2312))\n",
      "('Training labels shape: ', (60000,))\n",
      "('Test data shape: ', (10000, 2312))\n",
      "('Test labels shape: ', (10000,))\n"
     ]
    }
   ],
   "source": [
    "# As a sanity check, we print out the size of the training and test data.\n",
    "print('Training data shape: ', X_train.shape)\n",
    "print('Training labels shape: ', Y_train.shape)\n",
    "print('Test data shape: ', X_test.shape)\n",
    "print('Test labels shape: ', Y_test.shape)"
   ]
  },
  {
   "cell_type": "code",
   "execution_count": 10,
   "metadata": {
    "collapsed": true
   },
   "outputs": [],
   "source": [
    "num_training = 60000\n",
    "num_dev = 60000\n",
    "\n",
    "\n",
    "# We will also make a development set, which is a small subset of\n",
    "# the training set.\n",
    "mask = np.random.choice(num_training, num_dev, replace=False)\n",
    "X_dev = X_train[mask]\n",
    "Y_dev = Y_train[mask]"
   ]
  },
  {
   "cell_type": "code",
   "execution_count": 14,
   "metadata": {},
   "outputs": [
    {
     "name": "stdout",
     "output_type": "stream",
     "text": [
      "('Training data shape: ', (60000, 2312))\n",
      "('Training labels shape: ', (60000,))\n"
     ]
    }
   ],
   "source": [
    "# As a sanity check, we print out the size of the training and test data.\n",
    "print('Training data shape: ', X_dev.shape)\n",
    "print('Training labels shape: ', Y_dev.shape)"
   ]
  },
  {
   "cell_type": "code",
   "execution_count": null,
   "metadata": {},
   "outputs": [
    {
     "name": "stdout",
     "output_type": "stream",
     "text": [
      "Start learning at 2018-12-02 17:15:35.962169\n"
     ]
    }
   ],
   "source": [
    "classifier = svm.SVC(C=5,kernel='rbf',gamma=0.01,cache_size=8000,probability=False)\n",
    "\n",
    "start_time = dt.datetime.now()\n",
    "print('Start learning at {}'.format(str(start_time)))\n",
    "\n",
    "classifier.fit(X_dev, Y_dev)\n",
    "\n",
    "end_time = dt.datetime.now() \n",
    "print('Stop learning {}'.format(str(end_time)))\n",
    "elapsed_time= end_time - start_time\n",
    "print('Elapsed learning {}'.format(str(elapsed_time)))"
   ]
  },
  {
   "cell_type": "code",
   "execution_count": null,
   "metadata": {
    "collapsed": true
   },
   "outputs": [],
   "source": [
    "# Now predict the value of the test\n",
    "expected = Y_test\n",
    "predicted = classifier.predict(X_test)\n",
    "\n",
    "\n",
    "print(\"Classification report for classifier %s:\\n%s\\n\"\n",
    "      % (classifier, metrics.classification_report(expected, predicted)))\n",
    "      \n",
    "cm = metrics.confusion_matrix(expected, predicted)\n",
    "print(\"Confusion matrix:\\n%s\" % cm)\n",
    "\n",
    "# plot_confusion_matrix(cm)\n",
    "\n",
    "print(\"Accuracy={}\".format(metrics.accuracy_score(expected, predicted)))"
   ]
  },
  {
   "cell_type": "code",
   "execution_count": 12,
   "metadata": {},
   "outputs": [
    {
     "name": "stdout",
     "output_type": "stream",
     "text": [
      "Start learning at 2018-12-04 03:08:02.840172\n",
      "Stop learning 2018-12-04 03:50:42.299998\n",
      "Elapsed learning 0:42:39.459826\n"
     ]
    }
   ],
   "source": [
    "classifier = svm.SVC(C=1,kernel='rbf',gamma=0.0005,cache_size=8000,probability=False)\n",
    "\n",
    "start_time = dt.datetime.now()\n",
    "print('Start learning at {}'.format(str(start_time)))\n",
    "\n",
    "classifier.fit(X_dev, Y_dev)\n",
    "\n",
    "end_time = dt.datetime.now() \n",
    "print('Stop learning {}'.format(str(end_time)))\n",
    "elapsed_time= end_time - start_time\n",
    "print('Elapsed learning {}'.format(str(elapsed_time)))"
   ]
  },
  {
   "cell_type": "code",
   "execution_count": 13,
   "metadata": {},
   "outputs": [
    {
     "name": "stdout",
     "output_type": "stream",
     "text": [
      "Classification report for classifier SVC(C=1, cache_size=8000, class_weight=None, coef0=0.0,\n",
      "  decision_function_shape=None, degree=3, gamma=0.0005, kernel='rbf',\n",
      "  max_iter=-1, probability=False, random_state=None, shrinking=True,\n",
      "  tol=0.001, verbose=False):\n",
      "             precision    recall  f1-score   support\n",
      "\n",
      "          0       0.96      0.98      0.97       980\n",
      "          1       0.97      0.99      0.98      1135\n",
      "          2       0.95      0.97      0.96      1032\n",
      "          3       0.97      0.96      0.97      1010\n",
      "          4       0.96      0.97      0.96       982\n",
      "          5       0.96      0.96      0.96       892\n",
      "          6       0.97      0.97      0.97       958\n",
      "          7       0.97      0.95      0.96      1028\n",
      "          8       0.96      0.94      0.95       974\n",
      "          9       0.96      0.94      0.95      1009\n",
      "\n",
      "avg / total       0.96      0.96      0.96     10000\n",
      "\n",
      "\n",
      "Confusion matrix:\n",
      "[[ 962    0    3    2    0    4    2    3    3    1]\n",
      " [   0 1126    2    2    0    0    3    0    2    0]\n",
      " [  11    2  999    4    2    0    1    7    6    0]\n",
      " [   1    1    5  973    0   11    0    7    8    4]\n",
      " [   0    2    4    0  951    0    6    1    3   15]\n",
      " [   3    1    0   10    0  856   10    2    7    3]\n",
      " [   9    4    1    0    5    6  931    0    2    0]\n",
      " [   1   12   17    2    5    1    1  976    3   10]\n",
      " [   4    1   12    8    7   12    2    6  919    3]\n",
      " [   8    6    4    5   19    3    0    5    8  951]]\n",
      "Accuracy=0.9644\n"
     ]
    }
   ],
   "source": [
    "# Now predict the value of the test\n",
    "expected = Y_test\n",
    "predicted = classifier.predict(X_test)\n",
    "\n",
    "\n",
    "print(\"Classification report for classifier %s:\\n%s\\n\"\n",
    "      % (classifier, metrics.classification_report(expected, predicted)))\n",
    "      \n",
    "cm = metrics.confusion_matrix(expected, predicted)\n",
    "print(\"Confusion matrix:\\n%s\" % cm)\n",
    "\n",
    "# plot_confusion_matrix(cm)\n",
    "\n",
    "print(\"Accuracy={}\".format(metrics.accuracy_score(expected, predicted)))"
   ]
  },
  {
   "cell_type": "code",
   "execution_count": 7,
   "metadata": {},
   "outputs": [
    {
     "name": "stdout",
     "output_type": "stream",
     "text": [
      "Start learning at 2018-12-06 12:43:46.470860\n",
      "Stop learning 2018-12-06 13:21:58.853775\n",
      "Elapsed learning 0:38:12.382915\n"
     ]
    }
   ],
   "source": [
    "classifier = svm.SVC(C=1,kernel='rbf',gamma=0.0005,cache_size=8000,probability=False)\n",
    "\n",
    "start_time = dt.datetime.now()\n",
    "print('Start learning at {}'.format(str(start_time)))\n",
    "\n",
    "classifier.fit(X_train, Y_train)\n",
    "\n",
    "end_time = dt.datetime.now() \n",
    "print('Stop learning {}'.format(str(end_time)))\n",
    "elapsed_time= end_time - start_time\n",
    "print('Elapsed learning {}'.format(str(elapsed_time)))"
   ]
  },
  {
   "cell_type": "code",
   "execution_count": 8,
   "metadata": {},
   "outputs": [
    {
     "name": "stdout",
     "output_type": "stream",
     "text": [
      "Classification report for classifier SVC(C=1, cache_size=8000, class_weight=None, coef0=0.0,\n",
      "  decision_function_shape=None, degree=3, gamma=0.0005, kernel='rbf',\n",
      "  max_iter=-1, probability=False, random_state=None, shrinking=True,\n",
      "  tol=0.001, verbose=False):\n",
      "             precision    recall  f1-score   support\n",
      "\n",
      "          0       0.96      0.98      0.97       980\n",
      "          1       0.97      0.99      0.98      1135\n",
      "          2       0.95      0.97      0.96      1032\n",
      "          3       0.97      0.96      0.97      1010\n",
      "          4       0.96      0.97      0.96       982\n",
      "          5       0.96      0.96      0.96       892\n",
      "          6       0.97      0.97      0.97       958\n",
      "          7       0.97      0.95      0.96      1028\n",
      "          8       0.96      0.94      0.95       974\n",
      "          9       0.96      0.94      0.95      1009\n",
      "\n",
      "avg / total       0.96      0.96      0.96     10000\n",
      "\n",
      "\n",
      "Confusion matrix:\n",
      "[[ 962    0    3    2    0    4    2    3    3    1]\n",
      " [   0 1126    2    2    0    0    3    0    2    0]\n",
      " [  11    2  999    4    2    0    1    7    6    0]\n",
      " [   1    1    5  973    0   11    0    7    8    4]\n",
      " [   0    2    4    0  951    0    6    1    3   15]\n",
      " [   3    1    0   10    0  856   10    2    7    3]\n",
      " [   9    4    1    0    5    6  931    0    2    0]\n",
      " [   1   12   17    2    5    1    1  976    3   10]\n",
      " [   4    1   12    8    7   12    2    6  919    3]\n",
      " [   8    6    4    5   19    3    0    5    8  951]]\n",
      "Accuracy=0.9644\n"
     ]
    }
   ],
   "source": [
    "# Now predict the value of the test\n",
    "expected = Y_test\n",
    "predicted = classifier.predict(X_test)\n",
    "\n",
    "\n",
    "print(\"Classification report for classifier %s:\\n%s\\n\"\n",
    "      % (classifier, metrics.classification_report(expected, predicted)))\n",
    "      \n",
    "cm = metrics.confusion_matrix(expected, predicted)\n",
    "print(\"Confusion matrix:\\n%s\" % cm)\n",
    "\n",
    "# plot_confusion_matrix(cm)\n",
    "\n",
    "print(\"Accuracy={}\".format(metrics.accuracy_score(expected, predicted)))"
   ]
  },
  {
   "cell_type": "code",
   "execution_count": 9,
   "metadata": {},
   "outputs": [
    {
     "name": "stdout",
     "output_type": "stream",
     "text": [
      "Start learning at 2018-12-06 13:32:28.124273\n",
      "Stop learning 2018-12-06 14:08:04.604238\n",
      "Elapsed learning 0:35:36.479965\n"
     ]
    }
   ],
   "source": [
    "classifier = svm.SVC(C=5,kernel='rbf',gamma=0.0005,cache_size=8000,probability=False)\n",
    "\n",
    "start_time = dt.datetime.now()\n",
    "print('Start learning at {}'.format(str(start_time)))\n",
    "\n",
    "classifier.fit(X_train, Y_train)\n",
    "\n",
    "end_time = dt.datetime.now() \n",
    "print('Stop learning {}'.format(str(end_time)))\n",
    "elapsed_time= end_time - start_time\n",
    "print('Elapsed learning {}'.format(str(elapsed_time)))"
   ]
  },
  {
   "cell_type": "code",
   "execution_count": 10,
   "metadata": {},
   "outputs": [
    {
     "name": "stdout",
     "output_type": "stream",
     "text": [
      "Classification report for classifier SVC(C=5, cache_size=8000, class_weight=None, coef0=0.0,\n",
      "  decision_function_shape=None, degree=3, gamma=0.0005, kernel='rbf',\n",
      "  max_iter=-1, probability=False, random_state=None, shrinking=True,\n",
      "  tol=0.001, verbose=False):\n",
      "             precision    recall  f1-score   support\n",
      "\n",
      "          0       0.97      0.99      0.98       980\n",
      "          1       0.98      0.99      0.99      1135\n",
      "          2       0.96      0.97      0.97      1032\n",
      "          3       0.96      0.97      0.97      1010\n",
      "          4       0.97      0.98      0.97       982\n",
      "          5       0.97      0.96      0.96       892\n",
      "          6       0.98      0.97      0.97       958\n",
      "          7       0.98      0.96      0.97      1028\n",
      "          8       0.96      0.95      0.96       974\n",
      "          9       0.97      0.95      0.96      1009\n",
      "\n",
      "avg / total       0.97      0.97      0.97     10000\n",
      "\n",
      "\n",
      "Confusion matrix:\n",
      "[[ 966    0    1    2    0    2    2    3    3    1]\n",
      " [   0 1126    3    2    0    0    2    1    1    0]\n",
      " [   5    2 1004    5    2    0    1    6    7    0]\n",
      " [   1    0    7  981    0    7    1    3    7    3]\n",
      " [   0    2    1    0  960    0    5    1    4    9]\n",
      " [   2    1    0   13    1  858    8    2    5    2]\n",
      " [   9    4    1    0    5    7  931    0    1    0]\n",
      " [   0   10   16    2    3    1    1  985    2    8]\n",
      " [   4    0   13   10    5   10    1    3  926    2]\n",
      " [   6    6    1    6   12    3    0    4    9  962]]\n",
      "Accuracy=0.9699\n"
     ]
    }
   ],
   "source": [
    "# Now predict the value of the test\n",
    "expected = Y_test\n",
    "predicted = classifier.predict(X_test)\n",
    "\n",
    "\n",
    "print(\"Classification report for classifier %s:\\n%s\\n\"\n",
    "      % (classifier, metrics.classification_report(expected, predicted)))\n",
    "      \n",
    "cm = metrics.confusion_matrix(expected, predicted)\n",
    "print(\"Confusion matrix:\\n%s\" % cm)\n",
    "\n",
    "# plot_confusion_matrix(cm)\n",
    "\n",
    "print(\"Accuracy={}\".format(metrics.accuracy_score(expected, predicted)))"
   ]
  },
  {
   "cell_type": "code",
   "execution_count": 11,
   "metadata": {},
   "outputs": [
    {
     "name": "stdout",
     "output_type": "stream",
     "text": [
      "Start learning at 2018-12-06 16:51:29.218941\n",
      "Stop learning 2018-12-06 17:21:17.373048\n",
      "Elapsed learning 0:29:48.154107\n"
     ]
    }
   ],
   "source": [
    "classifier = svm.SVC(C=5,kernel='rbf',gamma=0.0004,cache_size=8000,probability=False)\n",
    "\n",
    "start_time = dt.datetime.now()\n",
    "print('Start learning at {}'.format(str(start_time)))\n",
    "\n",
    "classifier.fit(X_train, Y_train)\n",
    "\n",
    "end_time = dt.datetime.now() \n",
    "print('Stop learning {}'.format(str(end_time)))\n",
    "elapsed_time= end_time - start_time\n",
    "print('Elapsed learning {}'.format(str(elapsed_time)))\n"
   ]
  },
  {
   "cell_type": "code",
   "execution_count": 12,
   "metadata": {},
   "outputs": [
    {
     "name": "stdout",
     "output_type": "stream",
     "text": [
      "Classification report for classifier SVC(C=5, cache_size=8000, class_weight=None, coef0=0.0,\n",
      "  decision_function_shape=None, degree=3, gamma=0.0004, kernel='rbf',\n",
      "  max_iter=-1, probability=False, random_state=None, shrinking=True,\n",
      "  tol=0.001, verbose=False):\n",
      "             precision    recall  f1-score   support\n",
      "\n",
      "          0       0.97      0.99      0.98       980\n",
      "          1       0.97      0.99      0.98      1135\n",
      "          2       0.96      0.97      0.96      1032\n",
      "          3       0.96      0.97      0.97      1010\n",
      "          4       0.97      0.98      0.97       982\n",
      "          5       0.97      0.96      0.96       892\n",
      "          6       0.98      0.97      0.97       958\n",
      "          7       0.97      0.95      0.96      1028\n",
      "          8       0.96      0.95      0.96       974\n",
      "          9       0.97      0.95      0.96      1009\n",
      "\n",
      "avg / total       0.97      0.97      0.97     10000\n",
      "\n",
      "\n",
      "Confusion matrix:\n",
      "[[ 966    0    1    2    0    2    2    3    3    1]\n",
      " [   0 1126    3    2    0    0    2    1    1    0]\n",
      " [   6    2 1005    4    1    0    1    7    5    1]\n",
      " [   1    0    8  980    0    7    1    4    6    3]\n",
      " [   0    4    2    0  960    0    4    1    3    8]\n",
      " [   2    1    0   14    1  857    8    2    5    2]\n",
      " [  10    4    1    0    5    7  930    0    1    0]\n",
      " [   0   12   18    2    4    1    1  978    2   10]\n",
      " [   4    1   13    9    5   10    1    4  925    2]\n",
      " [   5    5    1    5   14    4    0    5    9  961]]\n",
      "Accuracy=0.9688\n"
     ]
    }
   ],
   "source": [
    "# Now predict the value of the test\n",
    "expected = Y_test\n",
    "predicted = classifier.predict(X_test)\n",
    "\n",
    "\n",
    "print(\"Classification report for classifier %s:\\n%s\\n\"\n",
    "      % (classifier, metrics.classification_report(expected, predicted)))\n",
    "      \n",
    "cm = metrics.confusion_matrix(expected, predicted)\n",
    "print(\"Confusion matrix:\\n%s\" % cm)\n",
    "\n",
    "# plot_confusion_matrix(cm)\n",
    "\n",
    "print(\"Accuracy={}\".format(metrics.accuracy_score(expected, predicted)))"
   ]
  },
  {
   "cell_type": "code",
   "execution_count": 13,
   "metadata": {},
   "outputs": [
    {
     "name": "stdout",
     "output_type": "stream",
     "text": [
      "Start learning at 2018-12-06 21:12:10.634575\n",
      "Stop learning 2018-12-06 23:11:34.575331\n",
      "Elapsed learning 1:59:23.940756\n"
     ]
    }
   ],
   "source": [
    "classifier = svm.SVC(C=1,kernel='rbf',gamma=0.0004,cache_size=8000,probability=False)\n",
    "\n",
    "start_time = dt.datetime.now()\n",
    "print('Start learning at {}'.format(str(start_time)))\n",
    "\n",
    "classifier.fit(X_train, Y_train)\n",
    "\n",
    "end_time = dt.datetime.now() \n",
    "print('Stop learning {}'.format(str(end_time)))\n",
    "elapsed_time= end_time - start_time\n",
    "print('Elapsed learning {}'.format(str(elapsed_time)))"
   ]
  },
  {
   "cell_type": "code",
   "execution_count": 14,
   "metadata": {},
   "outputs": [
    {
     "name": "stdout",
     "output_type": "stream",
     "text": [
      "Classification report for classifier SVC(C=1, cache_size=8000, class_weight=None, coef0=0.0,\n",
      "  decision_function_shape=None, degree=3, gamma=0.0004, kernel='rbf',\n",
      "  max_iter=-1, probability=False, random_state=None, shrinking=True,\n",
      "  tol=0.001, verbose=False):\n",
      "             precision    recall  f1-score   support\n",
      "\n",
      "          0       0.96      0.98      0.97       980\n",
      "          1       0.97      0.99      0.98      1135\n",
      "          2       0.96      0.96      0.96      1032\n",
      "          3       0.97      0.96      0.96      1010\n",
      "          4       0.96      0.97      0.96       982\n",
      "          5       0.96      0.96      0.96       892\n",
      "          6       0.97      0.97      0.97       958\n",
      "          7       0.96      0.95      0.95      1028\n",
      "          8       0.95      0.94      0.95       974\n",
      "          9       0.96      0.94      0.95      1009\n",
      "\n",
      "avg / total       0.96      0.96      0.96     10000\n",
      "\n",
      "\n",
      "Confusion matrix:\n",
      "[[ 962    0    3    2    0    4    2    3    3    1]\n",
      " [   0 1126    2    1    0    0    3    0    3    0]\n",
      " [  12    3  992    5    3    1    2    7    6    1]\n",
      " [   2    1    4  970    0   12    0    9    8    4]\n",
      " [   0    2    4    0  951    0    6    1    3   15]\n",
      " [   3    2    0   10    0  852   10    3    8    4]\n",
      " [  10    5    1    0    5    6  929    0    2    0]\n",
      " [   1   12   18    2    5    1    1  973    3   12]\n",
      " [   4    1   10    9    8   12    3    8  915    4]\n",
      " [   8    6    3    5   21    4    0    6    9  947]]\n",
      "Accuracy=0.9617\n"
     ]
    }
   ],
   "source": [
    "# Now predict the value of the test\n",
    "expected = Y_test\n",
    "predicted = classifier.predict(X_test)\n",
    "\n",
    "\n",
    "print(\"Classification report for classifier %s:\\n%s\\n\"\n",
    "      % (classifier, metrics.classification_report(expected, predicted)))\n",
    "      \n",
    "cm = metrics.confusion_matrix(expected, predicted)\n",
    "print(\"Confusion matrix:\\n%s\" % cm)\n",
    "\n",
    "# plot_confusion_matrix(cm)\n",
    "\n",
    "print(\"Accuracy={}\".format(metrics.accuracy_score(expected, predicted)))"
   ]
  },
  {
   "cell_type": "code",
   "execution_count": null,
   "metadata": {},
   "outputs": [],
   "source": []
  }
 ],
 "metadata": {
  "anaconda-cloud": {},
  "kernelspec": {
   "display_name": "Python 3",
   "language": "python",
   "name": "python3"
  },
  "language_info": {
   "codemirror_mode": {
    "name": "ipython",
    "version": 3
   },
   "file_extension": ".py",
   "mimetype": "text/x-python",
   "name": "python",
   "nbconvert_exporter": "python",
   "pygments_lexer": "ipython3",
   "version": "3.7.1"
  }
 },
 "nbformat": 4,
 "nbformat_minor": 2
}
