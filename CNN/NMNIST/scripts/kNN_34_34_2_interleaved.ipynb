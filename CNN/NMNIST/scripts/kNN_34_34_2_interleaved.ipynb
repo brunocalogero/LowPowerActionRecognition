{
 "cells": [
  {
   "cell_type": "markdown",
   "metadata": {},
   "source": [
    "## Training NMNIST dataset using sklearn "
   ]
  },
  {
   "cell_type": "code",
   "execution_count": 1,
   "metadata": {},
   "outputs": [],
   "source": [
    "import numpy as np\n",
    "import os\n",
    "import matplotlib.pyplot as plt\n",
    "import time\n",
    "import datetime as dt\n",
    "from past.builtins import xrange\n",
    "\n",
    "#Classifier\n",
    "from sklearn import neighbors\n",
    "#Cross validation \n",
    "from sklearn.model_selection import cross_val_score\n",
    "#colour map for visualisation\n",
    "from matplotlib.colors import ListedColormap"
   ]
  },
  {
   "cell_type": "code",
   "execution_count": 2,
   "metadata": {},
   "outputs": [],
   "source": [
    "# Import whole N-MNIST Dataset\n",
    "def load_NMNIST(path):\n",
    "    xs_train = []\n",
    "    ys_train = []\n",
    "    xs_test = []\n",
    "    ys_test = []\n",
    "\n",
    "    for class_index in range(0, 10):\n",
    "        for (root, dirs, dat_files) in os.walk('{0}/n_Train_3/{1}'.format(path, str(class_index))):\n",
    "            for file in dat_files:\n",
    "                single_X = np.fromfile('{0}/n_Train_3/{1}/{2}'.format(path, str(class_index), file), dtype=np.int32)\n",
    "                xs_train.append(single_X)\n",
    "                ys_train.append(class_index)\n",
    "\n",
    "        for (root, dirs, dat_files) in os.walk('{0}/n_Test_3/{1}'.format(path, str(class_index))):\n",
    "            for file in dat_files:\n",
    "                xs_test.append(np.fromfile('{0}/n_Test_3/{1}/{2}'.format(path, str(class_index), file), dtype=np.int32))\n",
    "                ys_test.append(class_index)\n",
    "\n",
    "    Xtr = np.array(xs_train)\n",
    "    Ytr = np.array(ys_train)\n",
    "    Xte = np.array(xs_test)\n",
    "    Yte = np.array(ys_test)\n",
    "       \n",
    "    return Xtr, Ytr, Xte, Yte"
   ]
  },
  {
   "cell_type": "code",
   "execution_count": 3,
   "metadata": {},
   "outputs": [
    {
     "name": "stdout",
     "output_type": "stream",
     "text": [
      "Training data shape:  (60000, 2312)\n",
      "Training labels shape:  (60000,)\n",
      "Test data shape:  (10000, 2312)\n",
      "Test labels shape:  (10000,)\n"
     ]
    }
   ],
   "source": [
    "# Cleaning up variables to prevent loading data multiple times (which may cause memory issue)\n",
    "try:\n",
    "    del X_train, y_train\n",
    "    del X_test, y_test\n",
    "    print('Clear previously loaded data.')\n",
    "except:\n",
    "    pass\n",
    "\n",
    "#Load data\n",
    "data_set_path = 'M:/LowPowerActionRecognition/CNN/NMNIST/datasets'\n",
    "data = load_NMNIST(data_set_path)\n",
    "\n",
    "#initialise data\n",
    "\n",
    "X_train = data[0]\n",
    "y_train = data[1]\n",
    "X_test = data[2]\n",
    "y_test = data[3]\n",
    "\n",
    "# As a sanity check, we print out the size of the training and test data.\n",
    "print('Training data shape: ', X_train.shape)\n",
    "print('Training labels shape: ', y_train.shape)\n",
    "print('Test data shape: ', X_test.shape)\n",
    "print('Test labels shape: ', y_test.shape)"
   ]
  },
  {
   "cell_type": "code",
   "execution_count": 4,
   "metadata": {},
   "outputs": [],
   "source": [
    "# Subsample the data for more efficient code execution in this exercise\n",
    "num_training = 60000 #60000\n",
    "mask = list(range(num_training))\n",
    "X_train = X_train[mask]\n",
    "y_train = y_train[mask]\n",
    "\n",
    "num_test = 10000 #10000\n",
    "mask = list(range(num_test))\n",
    "X_test = X_test[mask]\n",
    "y_test = y_test[mask]"
   ]
  },
  {
   "cell_type": "code",
   "execution_count": 5,
   "metadata": {},
   "outputs": [
    {
     "name": "stdout",
     "output_type": "stream",
     "text": [
      "Start learning at 2018-12-05 15:50:17.394522\n",
      "Stop learning 2018-12-05 15:50:32.384592\n",
      "Elapsed learning 0:00:14.990070\n"
     ]
    }
   ],
   "source": [
    "#Set the number of neighbor,k\n",
    "n_neighbors = 5\n",
    "\n",
    "\"\"\"\n",
    "p is the distance -> L1=1 and L2=2\n",
    "\n",
    "weights will choose from uniform/distance\n",
    "\n",
    "algorithm will auto choose from: \n",
    "ball_tree’ will use BallTree ;‘kd_tree’ will use KDTree ; ‘brute’ will use a brute-force search.\n",
    "\"\"\"\n",
    "classifier = neighbors.KNeighborsClassifier(n_neighbors, weights='uniform', algorithm='auto', p=2)\n",
    "\n",
    "#Set timer\n",
    "start_time = dt.datetime.now()\n",
    "print('Start learning at {}'.format(str(start_time)))\n",
    "\n",
    "#Fit the data\n",
    "classifier.fit(X_train, y_train)\n",
    "\n",
    "end_time = dt.datetime.now() \n",
    "print('Stop learning {}'.format(str(end_time)))\n",
    "elapsed_time= end_time - start_time\n",
    "print('Elapsed learning {}'.format(str(elapsed_time)))"
   ]
  },
  {
   "cell_type": "code",
   "execution_count": 6,
   "metadata": {},
   "outputs": [
    {
     "name": "stdout",
     "output_type": "stream",
     "text": [
      "Start testing at 2018-12-05 15:50:32.390577\n",
      "Stop testing at 2018-12-05 17:00:10.719713\n",
      "Elapsed testing at 1:09:38.329136\n",
      ">>> SCORE: 0.924 <<<\n"
     ]
    }
   ],
   "source": [
    "#Set timer\n",
    "start_time = dt.datetime.now()\n",
    "print('Start testing at {}'.format(str(start_time)))    \n",
    "\n",
    "classifier.predict(X_test)\n",
    "final_score = classifier.score(X_test, y_test)\n",
    "\n",
    "end_time = dt.datetime.now() \n",
    "print('Stop testing at {}'.format(str(end_time)))\n",
    "elapsed_time= end_time - start_time\n",
    "print('Elapsed testing at {}'.format(str(elapsed_time)))\n",
    "print(\">>> SCORE:\",final_score,\"<<<\")"
   ]
  },
  {
   "cell_type": "code",
   "execution_count": 7,
   "metadata": {},
   "outputs": [
    {
     "name": "stdout",
     "output_type": "stream",
     "text": [
      "Start testing at 2018-12-05 17:00:10.725697\n",
      "Stop testing at 2018-12-05 18:05:51.107448\n",
      "Elapsed testing at 1:05:40.381751\n",
      "For L1 distance:\n",
      ">>> SCORE: 0.924 <<<\n"
     ]
    }
   ],
   "source": [
    "#Using L1 distance \n",
    "\n",
    "#Set timer\n",
    "start_time = dt.datetime.now()\n",
    "print('Start testing at {}'.format(str(start_time)))\n",
    "\n",
    "\n",
    "# we create an instance of Neighbours Classifier and fit the data.\n",
    "classifier_L1 = neighbors.KNeighborsClassifier(n_neighbors, weights='uniform', algorithm='auto', p=1)\n",
    "classifier_L1.fit(X_train, y_train)\n",
    "#classifier_L1.predict(X_test)\n",
    "final_score_L1 = classifier.score(X_test, y_test)\n",
    "\n",
    "end_time = dt.datetime.now() \n",
    "print('Stop testing at {}'.format(str(end_time)))\n",
    "elapsed_time= end_time - start_time\n",
    "print('Elapsed testing at {}'.format(str(elapsed_time)))\n",
    "\n",
    "print(\"For L1 distance:\")\n",
    "print(\">>> SCORE:\",final_score_L1,\"<<<\")"
   ]
  },
  {
   "cell_type": "code",
   "execution_count": 8,
   "metadata": {},
   "outputs": [
    {
     "name": "stdout",
     "output_type": "stream",
     "text": [
      "The comparision of L1 and L2 distance parameters:\n",
      "For L1, the accuracy is: 0.924\n",
      "For L2, the accuracy is: 0.924\n"
     ]
    }
   ],
   "source": [
    "print(\"The comparision of L1 and L2 distance parameters:\")\n",
    "print(\"For L1, the accuracy is:\",final_score_L1)\n",
    "print(\"For L2, the accuracy is:\",final_score)"
   ]
  },
  {
   "cell_type": "markdown",
   "metadata": {},
   "source": [
    "#### Discussion: From the result of comparing the manhattan_distance(L1) and euclidean_distance(L2) there has shown insignificant increase in accuracy for L2 and the time it takes is pretty much the same."
   ]
  },
  {
   "cell_type": "markdown",
   "metadata": {},
   "source": [
    "##                                        CROSS-VALIDATION ( with 10% dataset it still takes too long >30mins)"
   ]
  },
  {
   "cell_type": "code",
   "execution_count": null,
   "metadata": {},
   "outputs": [
    {
     "name": "stdout",
     "output_type": "stream",
     "text": [
      "Start testing at 2018-12-05 18:23:09.738027\n"
     ]
    }
   ],
   "source": [
    "#Set timer\n",
    "start_time = dt.datetime.now()\n",
    "print('Start testing at {}'.format(str(start_time)))\n",
    "\n",
    "n_neighbors_choices = [1, 3, 5, 8, 10, 12, 15, 20, 50, 100]\n",
    "k_to_accuracies = {}\n",
    "for n_neighbors in n_neighbors_choices:   \n",
    "    #create a new KNN model\n",
    "    #knn_cv = KNeighborsClassifier(n_neighbors)\n",
    "    knn_cv  = neighbors.KNeighborsClassifier(n_neighbors, weights='uniform', algorithm='auto', p=2)       \n",
    "    #train model with cv of 5 \n",
    "    cv_scores = cross_val_score(knn_cv, X_train, y_train, cv=5)\n",
    "           \n",
    "    #print each cv score (accuracy) and average them  \n",
    "    k_to_accuracies.setdefault(n_neighbors, []).append(cv_scores)\n",
    "\n",
    "# Print out the computed accuracies\n",
    "for n_neighbors in sorted(k_to_accuracies):\n",
    "    \"\"\"for cv_scores in k_to_accuracies[n_neighbors]:\n",
    "        #print('k = %d, accuracy = '%f' % (k, accuracy))\n",
    "        print('k = %d, accuracy = %f' % (n_neighbors, cv_scores))\"\"\"\n",
    "    print('mean for k=%d is %f' % (n_neighbors, np.mean(k_to_accuracies[n_neighbors])))\n",
    "    \n",
    "end_time = dt.datetime.now() \n",
    "print('Stop testing at {}'.format(str(end_time)))\n",
    "elapsed_time= end_time - start_time\n",
    "print('Elapsed testing at {}'.format(str(elapsed_time)))\n"
   ]
  }
 ],
 "metadata": {
  "kernelspec": {
   "display_name": "Python 3",
   "language": "python",
   "name": "python3"
  },
  "language_info": {
   "codemirror_mode": {
    "name": "ipython",
    "version": 3
   },
   "file_extension": ".py",
   "mimetype": "text/x-python",
   "name": "python",
   "nbconvert_exporter": "python",
   "pygments_lexer": "ipython3",
   "version": "3.6.6"
  }
 },
 "nbformat": 4,
 "nbformat_minor": 2
}
