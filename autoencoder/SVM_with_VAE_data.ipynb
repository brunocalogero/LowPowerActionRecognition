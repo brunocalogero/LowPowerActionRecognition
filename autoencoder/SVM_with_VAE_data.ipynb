{
 "cells": [
  {
   "cell_type": "code",
   "execution_count": 1,
   "metadata": {},
   "outputs": [],
   "source": [
    "import numpy as np\n",
    "from sklearn import svm, metrics\n",
    "import datetime as dt"
   ]
  },
  {
   "cell_type": "code",
   "execution_count": 2,
   "metadata": {},
   "outputs": [],
   "source": [
    "#Load data\n",
    "x_train = np.load('x_train_svm.npy')\n",
    "y_train = np.load('y_train.npy')\n",
    "x_test  = np.load('x_test_svm.npy')\n",
    "y_test  = np.load('x_test.npy')"
   ]
  },
  {
   "cell_type": "code",
   "execution_count": 3,
   "metadata": {},
   "outputs": [
    {
     "name": "stdout",
     "output_type": "stream",
     "text": [
      "Training dataset shape: (60000, 2312)\n",
      "Training labels shape: (60000,)\n",
      "Testing dataset shape: (10000, 2312)\n",
      "Training labels shape: (10000,)\n"
     ]
    }
   ],
   "source": [
    "#Check for dimensions\n",
    "print(\"Training dataset shape:\", x_train.shape)\n",
    "print(\"Training labels shape:\", y_train.shape)\n",
    "print(\"Testing dataset shape:\", x_test.shape)\n",
    "print(\"Training labels shape:\", y_test.shape)"
   ]
  },
  {
   "cell_type": "code",
   "execution_count": 4,
   "metadata": {},
   "outputs": [],
   "source": [
    "num_training = 60000\n",
    "num_dev = 60000\n",
    "\n",
    "# We will also make a development set, which is a small subset of\n",
    "# the training set.\n",
    "mask = np.random.choice(num_training, num_dev, replace=False)\n",
    "X_dev = x_train[mask]\n",
    "Y_dev = y_train[mask]"
   ]
  },
  {
   "cell_type": "code",
   "execution_count": 5,
   "metadata": {},
   "outputs": [
    {
     "name": "stdout",
     "output_type": "stream",
     "text": [
      "(60000, 2312)\n"
     ]
    }
   ],
   "source": [
    "#Check input_data dimensions\n",
    "print(X_dev.shape)"
   ]
  },
  {
   "cell_type": "code",
   "execution_count": 6,
   "metadata": {},
   "outputs": [
    {
     "name": "stdout",
     "output_type": "stream",
     "text": [
      "Start learning at 2019-01-30 13:20:47.483656\n",
      "Stop learning 2019-01-30 15:20:31.752671\n",
      "Elapsed learning 1:59:44.269015\n"
     ]
    }
   ],
   "source": [
    "#SVM\n",
    "#classifier = svm.SVC(C=5,kernel='rbf',gamma=0.01,cache_size=8000,probability=False)\n",
    "classifier = svm.SVC(C=5,kernel='rbf',gamma=0.0005,cache_size=8000,probability=False)\n",
    "\n",
    "start_time = dt.datetime.now()\n",
    "print('Start learning at {}'.format(str(start_time)))\n",
    "\n",
    "classifier.fit(X_dev, Y_dev)\n",
    "\n",
    "end_time = dt.datetime.now() \n",
    "print('Stop learning {}'.format(str(end_time)))\n",
    "elapsed_time= end_time - start_time\n",
    "print('Elapsed learning {}'.format(str(elapsed_time)))"
   ]
  },
  {
   "cell_type": "code",
   "execution_count": 10,
   "metadata": {},
   "outputs": [
    {
     "name": "stdout",
     "output_type": "stream",
     "text": [
      "Classification report for classifier SVC(C=5, cache_size=8000, class_weight=None, coef0=0.0,\n",
      "  decision_function_shape='ovr', degree=3, gamma=0.0005, kernel='rbf',\n",
      "  max_iter=-1, probability=False, random_state=None, shrinking=True,\n",
      "  tol=0.001, verbose=False):\n",
      "             precision    recall  f1-score   support\n",
      "\n",
      "          0       0.62      0.67      0.64       980\n",
      "          1       0.81      0.93      0.87      1135\n",
      "          2       0.31      0.25      0.28      1032\n",
      "          3       0.34      0.50      0.41      1010\n",
      "          4       0.44      0.28      0.34       982\n",
      "          5       0.42      0.17      0.24       892\n",
      "          6       0.37      0.63      0.47       958\n",
      "          7       0.53      0.69      0.60      1028\n",
      "          8       0.31      0.16      0.21       974\n",
      "          9       0.46      0.39      0.42      1009\n",
      "\n",
      "avg / total       0.47      0.48      0.46     10000\n",
      "\n",
      "\n",
      "Confusion matrix:\n",
      "[[ 656    1  134   39    8   15  101    1   23    2]\n",
      " [   0 1056    0   16    0   14   13    6   25    5]\n",
      " [ 119    8  258  377   22    7  218    5   17    1]\n",
      " [  44   45  108  509   15   11  199   15   36   28]\n",
      " [  20   48   24   10  276   57   85  186   55  221]\n",
      " [  63   11  106  211   31  149  139   48   99   35]\n",
      " [  89   35  112   57   18    1  607    6   32    1]\n",
      " [   2   42    3   15   75   31   18  707   21  114]\n",
      " [  56   25   76  244   30   55  230   42  154   62]\n",
      " [  11   26    5   15  157   17   36  315   30  397]]\n",
      "Accuracy=0.4769\n"
     ]
    }
   ],
   "source": [
    "# Now predict the value of the test\n",
    "expected = y_test\n",
    "\n",
    "predicted = classifier.predict(x_test)\n",
    "\n",
    "\n",
    "print(\"Classification report for classifier %s:\\n%s\\n\"\n",
    "      % (classifier, metrics.classification_report(expected, predicted)))\n",
    "      \n",
    "cm = metrics.confusion_matrix(expected, predicted)\n",
    "print(\"Confusion matrix:\\n%s\" % cm)\n",
    "\n",
    "#plot_confusion_matrix(cm)\n",
    "\n",
    "print(\"Accuracy={}\".format(metrics.accuracy_score(expected, predicted)))"
   ]
  },
  {
   "cell_type": "code",
   "execution_count": 9,
   "metadata": {},
   "outputs": [
    {
     "name": "stdout",
     "output_type": "stream",
     "text": [
      "Model saved at directory:\n"
     ]
    }
   ],
   "source": [
    "#Saving the model\n",
    "import pickle \n",
    "\n",
    "filename = 'SVM_VAE_data_model.sav'\n",
    "pickle.dump(classifier, open(filename, 'wb'))\n",
    "print(\"Model saved at directory:\")"
   ]
  },
  {
   "cell_type": "code",
   "execution_count": null,
   "metadata": {},
   "outputs": [],
   "source": []
  }
 ],
 "metadata": {
  "kernelspec": {
   "display_name": "Python 3",
   "language": "python",
   "name": "python3"
  },
  "language_info": {
   "codemirror_mode": {
    "name": "ipython",
    "version": 3
   },
   "file_extension": ".py",
   "mimetype": "text/x-python",
   "name": "python",
   "nbconvert_exporter": "python",
   "pygments_lexer": "ipython3",
   "version": "3.6.5"
  }
 },
 "nbformat": 4,
 "nbformat_minor": 2
}
