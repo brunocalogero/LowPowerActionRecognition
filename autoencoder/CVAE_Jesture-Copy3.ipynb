{
 "cells": [
  {
   "cell_type": "code",
   "execution_count": 1,
   "metadata": {},
   "outputs": [
    {
     "name": "stderr",
     "output_type": "stream",
     "text": [
      "Using TensorFlow backend.\n"
     ]
    }
   ],
   "source": [
    "from keras.layers import Lambda, Input, Dense, Conv2D, Flatten, MaxPooling2D, UpSampling2D, Reshape, Conv2DTranspose\n",
    "from keras.layers import MaxPooling3D, Conv3D, UpSampling3D, Conv3DTranspose\n",
    "from keras.models import Model, Sequential\n",
    "from keras.losses import mse, binary_crossentropy\n",
    "from keras.utils import plot_model\n",
    "from keras import backend as K\n",
    "from keras import metrics\n",
    "from keras.utils import to_categorical\n",
    "\n",
    "\n",
    "import numpy as np\n",
    "import matplotlib.pyplot as plt\n",
    "import argparse\n",
    "import os\n",
    "import datetime as dt\n",
    "import time\n",
    "import glob\n",
    "from IPython import display\n",
    "import tensorflow as tf\n",
    "\n",
    "import datetime as dt"
   ]
  },
  {
   "cell_type": "code",
   "execution_count": 2,
   "metadata": {},
   "outputs": [],
   "source": [
    "def plot_autoencoder_outputs(encoder, n, dims):\n",
    "    #decoded_imgs = enconder.predict(x_test)\n",
    "    x_test_encoded = vae.predict(x_test, batch_size = batch_size)\n",
    "    # number of example digits to show\n",
    "    n = 5\n",
    "    plt.figure(figsize=(20, 9))\n",
    "    for i in range(n):\n",
    "        # plot original image\n",
    "        ax = plt.subplot(2, n, i + 1)\n",
    "        plt.imshow(x_test[i].reshape(*dims))\n",
    "        #plt.gray()\n",
    "        ax.get_xaxis().set_visible(False)\n",
    "        ax.get_yaxis().set_visible(False)\n",
    "        if i == n/2:\n",
    "            ax.set_title('Original Images')\n",
    "\n",
    "        # plot reconstruction \n",
    "        ax = plt.subplot(2, n, i + 1 + n)\n",
    "        plt.imshow(x_test_encoded[i].reshape(*dims))\n",
    "        #plt.gray()\n",
    "        ax.get_xaxis().set_visible(False)\n",
    "        ax.get_yaxis().set_visible(False)\n",
    "        if i == n/2:\n",
    "            ax.set_title('Reconstructed Images')\n",
    "    plt.show()\n",
    "\n",
    "def plot_loss(history):\n",
    "    historydf = pd.DataFrame(history.history, index=history.epoch)\n",
    "    plt.figure(figsize=(8, 6))\n",
    "    historydf.plot(ylim=(0, historydf.values.max()))\n",
    "    plt.title('Loss: %.3f' % history.history['loss'][-1])\n",
    "    \n",
    "def plot_compare_histories(history_list, name_list, plot_accuracy=True):\n",
    "    dflist = []\n",
    "    min_epoch = len(history_list[0].epoch)\n",
    "    losses = []\n",
    "    for history in history_list:\n",
    "        h = {key: val for key, val in history.history.items() if not key.startswith('val_')}\n",
    "        dflist.append(pd.DataFrame(h, index=history.epoch))\n",
    "        min_epoch = min(min_epoch, len(history.epoch))\n",
    "        losses.append(h['loss'][-1])\n",
    "\n",
    "    historydf = pd.concat(dflist, axis=1)\n",
    "\n",
    "    metrics = dflist[0].columns\n",
    "    idx = pd.MultiIndex.from_product([name_list, metrics], names=['model', 'metric'])\n",
    "    historydf.columns = idx\n",
    "    \n",
    "    plt.figure(figsize=(6, 8))\n",
    "\n",
    "    ax = plt.subplot(211)\n",
    "    historydf.xs('loss', axis=1, level='metric').plot(ylim=(0,1), ax=ax)\n",
    "    plt.title(\"Training Loss: \" + ' vs '.join([str(round(x, 3)) for x in losses]))\n",
    "    \n",
    "    if plot_accuracy:\n",
    "        ax = plt.subplot(212)\n",
    "        historydf.xs('acc', axis=1, level='metric').plot(ylim=(0,1), ax=ax)\n",
    "        plt.title(\"Accuracy\")\n",
    "        plt.xlabel(\"Epochs\")\n",
    "    \n",
    "    plt.xlim(0, min_epoch-1)\n",
    "    plt.tight_layout()"
   ]
  },
  {
   "cell_type": "code",
   "execution_count": 3,
   "metadata": {},
   "outputs": [],
   "source": [
    "def load_JESTER(path):\n",
    "    \"\"\"\n",
    "    Imports the JESTER Dataset (12,2,100,176)\n",
    "    \"\"\"\n",
    "    xs_train, ys_train, xs_test, ys_test = [], [], [], []\n",
    "\n",
    "    classList=['Swiping_Left', 'Swiping_Right', 'Swiping_Up', 'Swiping_Down']\n",
    "    #classList=['Swiping_Left', 'Swiping_Right', 'Swiping_Up']    \n",
    "    for class_index in classList:\n",
    "        for (root, dirs, f) in os.walk('{0}/n_Train/{1}'.format(path, str(class_index))):\n",
    "            cnt=0\n",
    "            print('Loading Train set')\n",
    "            for file in f:\n",
    "                cnt += 1\n",
    "                if (cnt == 1001):\n",
    "                    #print('Percent : {}%'.format(round((cnt / len(f)) * 100, 2)))\n",
    "                    break\n",
    "                \n",
    "                X=np.load('{0}/n_Train/{1}/{2}'.format(path, str(class_index), file))\n",
    "                xs_train.append(X)\n",
    "                ys_train.append(class_index)\n",
    "\n",
    "        for (root, dirs, f) in os.walk('{0}/n_Test/{1}'.format(path, str(class_index))):\n",
    "            cnt=0\n",
    "            print('Loading Test set')\n",
    "            for file in f:\n",
    "                cnt += 1\n",
    "                if (cnt == 105):\n",
    "                    print('Percent : {}%'.format(round((cnt / len(f)) * 100, 2)))\n",
    "                    break\n",
    "                        \n",
    "                X = np.load('{0}/n_Test/{1}/{2}'.format(path, str(class_index), file))\n",
    "                xs_test.append(X)\n",
    "                ys_test.append(class_index)\n",
    "\n",
    "    Xtr = np.array(xs_train)\n",
    "    Ytr = np.array(ys_train)\n",
    "    Xte = np.array(xs_test)\n",
    "    Yte = np.array(ys_test)\n",
    "    \n",
    "    return Xtr, Ytr, Xte, Yte"
   ]
  },
  {
   "cell_type": "code",
   "execution_count": 4,
   "metadata": {},
   "outputs": [
    {
     "name": "stdout",
     "output_type": "stream",
     "text": [
      "Loading Train set\n",
      "Loading Test set\n",
      "Percent : 21.26%\n",
      "Loading Train set\n",
      "Loading Test set\n",
      "Percent : 21.6%\n",
      "Loading Train set\n",
      "Loading Test set\n",
      "Percent : 20.67%\n",
      "Loading Train set\n",
      "Loading Test set\n",
      "Percent : 20.19%\n",
      "Training data shape:  (4000, 12, 2, 100, 176)\n",
      "Training labels shape:  (4000,)\n",
      "Test data shape:  (416, 12, 2, 100, 176)\n",
      "Test labels shape:  (416,)\n"
     ]
    }
   ],
   "source": [
    "dataset_class_path = 'C:/Users/ching/Desktop/Project/autoencoder_nmnist/n_JESTER'\n",
    "x_train_1, y_train, x_test_1, y_test = load_JESTER(dataset_class_path)\n",
    "\n",
    "# As a sanity check, we print out the size of the training and test data.\n",
    "print('Training data shape: ', x_train_1.shape)\n",
    "print('Training labels shape: ', y_train.shape)\n",
    "print('Test data shape: ', x_test_1.shape)\n",
    "print('Test labels shape: ', y_test.shape)"
   ]
  },
  {
   "cell_type": "code",
   "execution_count": 5,
   "metadata": {},
   "outputs": [],
   "source": [
    "# to check memory size of the objects\n",
    "import sys"
   ]
  },
  {
   "cell_type": "code",
   "execution_count": 6,
   "metadata": {},
   "outputs": [
    {
     "name": "stdout",
     "output_type": "stream",
     "text": [
      "Memory size of x_train_1 is 6758400160 bytes\n",
      "Memory size of x_test_1 is 702873760 bytes\n"
     ]
    }
   ],
   "source": [
    "print(\"Memory size of x_train_1 is \" + str(sys.getsizeof(x_train_1)) + \" bytes\")\n",
    "print(\"Memory size of x_test_1 is \" + str(sys.getsizeof(x_test_1)) + \" bytes\")"
   ]
  },
  {
   "cell_type": "code",
   "execution_count": 7,
   "metadata": {},
   "outputs": [
    {
     "name": "stdout",
     "output_type": "stream",
     "text": [
      "Training data shape:  (4000, 12, 2, 100, 176)\n",
      "Training labels shape:  (4000,)\n",
      "Test data shape:  (416, 12, 2, 100, 176)\n",
      "Test labels shape:  (416,)\n",
      "Training data shape:  (48000, 100, 176, 2)\n",
      "Test data shape:  (4992, 100, 176, 2)\n",
      "\n",
      "Memory size of x_train_1 is 16 bytes\n",
      "Memory size of x_test_1 is 16 bytes\n",
      "Memory size of x_train_2 is 144 bytes\n",
      "Memory size of x_test_2 is 144 bytes\n"
     ]
    }
   ],
   "source": [
    "# As a sanity check, we print out the size of the training and test data.\n",
    "print('Training data shape: ', x_train_1.shape)\n",
    "print('Training labels shape: ', y_train.shape)\n",
    "print('Test data shape: ', x_test_1.shape)\n",
    "print('Test labels shape: ', y_test.shape)\n",
    "\n",
    "x_train_2 = x_train_1.reshape(48000, 100, 176, 2)\n",
    "x_train_1 = None\n",
    "\n",
    "x_test_2 = x_test_1.reshape(4992, 100, 176, 2)\n",
    "x_test_1 = None\n",
    "\n",
    "print('Training data shape: ', x_train_2.shape)\n",
    "print('Test data shape: ', x_test_2.shape)\n",
    "print()\n",
    "print(\"Memory size of x_train_1 is \" + str(sys.getsizeof(x_train_1)) + \" bytes\")\n",
    "print(\"Memory size of x_test_1 is \" + str(sys.getsizeof(x_test_1)) + \" bytes\")\n",
    "print(\"Memory size of x_train_2 is \" + str(sys.getsizeof(x_train_2)) + \" bytes\")\n",
    "print(\"Memory size of x_test_2 is \" + str(sys.getsizeof(x_test_2)) + \" bytes\")"
   ]
  },
  {
   "cell_type": "code",
   "execution_count": 8,
   "metadata": {},
   "outputs": [
    {
     "data": {
      "text/plain": [
       "0"
      ]
     },
     "execution_count": 8,
     "metadata": {},
     "output_type": "execute_result"
    }
   ],
   "source": [
    "np.amin(x_train_2[0])"
   ]
  },
  {
   "cell_type": "code",
   "execution_count": 9,
   "metadata": {},
   "outputs": [
    {
     "name": "stdout",
     "output_type": "stream",
     "text": [
      "Training data shape:  (48000, 104, 176, 2)\n",
      "Training labels shape:  (4000,)\n",
      "Test data shape:  (4992, 104, 176, 2)\n",
      "Test labels shape:  (416,)\n",
      "\n",
      "Memory size of x_train_2 is 144 bytes\n",
      "Memory size of x_test_2 is 144 bytes\n",
      "Memory size of x_train_3 is 14057472144 bytes\n",
      "Memory size of x_test_3 is 1461977232 bytes\n"
     ]
    }
   ],
   "source": [
    "x_train_3 = np.zeros((48000, 104, 176, 2))\n",
    "x_test_3 = np.zeros((4992, 104, 176, 2))\n",
    "4992\n",
    "for i in range (0, x_train_2.shape[0]):\n",
    "    #print(i)\n",
    "    x_train_3[i] = np.pad(x_train_2[i], ((2, 2), (0, 0), (0, 0)), 'edge')\n",
    "    if (i < x_test_2.shape[0]):\n",
    "        x_test_3[i] = np.pad(x_test_2[i], ((2, 2), (0, 0), (0, 0)), 'edge')\n",
    "\n",
    "\n",
    "# As a sanity check, we print out the size of the training and test data.\n",
    "print('Training data shape: ', x_train_3.shape)\n",
    "print('Training labels shape: ', y_train.shape)\n",
    "print('Test data shape: ', x_test_3.shape)\n",
    "print('Test labels shape: ', y_test.shape)\n",
    "\n",
    "\n",
    "print()\n",
    "print(\"Memory size of x_train_2 is \" + str(sys.getsizeof(x_train_2)) + \" bytes\")\n",
    "print(\"Memory size of x_test_2 is \" + str(sys.getsizeof(x_test_2)) + \" bytes\")\n",
    "print(\"Memory size of x_train_3 is \" + str(sys.getsizeof(x_train_3)) + \" bytes\")\n",
    "print(\"Memory size of x_test_3 is \" + str(sys.getsizeof(x_test_3)) + \" bytes\")"
   ]
  },
  {
   "cell_type": "code",
   "execution_count": 10,
   "metadata": {},
   "outputs": [],
   "source": [
    "x_train_2 = None\n",
    "x_train_2 = None"
   ]
  },
  {
   "cell_type": "code",
   "execution_count": 11,
   "metadata": {},
   "outputs": [
    {
     "name": "stdout",
     "output_type": "stream",
     "text": [
      "\n",
      "Memory size of x_train_3 is 16 bytes\n",
      "Memory size of x_test_3 is 16 bytes\n",
      "Memory size of x_train is 3514368144 bytes\n",
      "Memory size of x_test is 365494416 bytes\n"
     ]
    }
   ],
   "source": [
    "# Flatten the dataset from range -1 to 1. Since the maxima and minima lies btw 15 so we divide it by 15.\n",
    "x_train = (x_train_3.astype('float16'))\n",
    "x_train_3 = None\n",
    "\n",
    "x_test = (x_test_3.astype('float16'))\n",
    "x_test_3 = None\n",
    "\n",
    "print()\n",
    "print(\"Memory size of x_train_3 is \" + str(sys.getsizeof(x_train_3)) + \" bytes\")\n",
    "print(\"Memory size of x_test_3 is \" + str(sys.getsizeof(x_test_3)) + \" bytes\")\n",
    "print(\"Memory size of x_train is \" + str(sys.getsizeof(x_train)) + \" bytes\")\n",
    "print(\"Memory size of x_test is \" + str(sys.getsizeof(x_test)) + \" bytes\")\n"
   ]
  },
  {
   "cell_type": "code",
   "execution_count": 12,
   "metadata": {
    "scrolled": true
   },
   "outputs": [
    {
     "name": "stdout",
     "output_type": "stream",
     "text": [
      "(48000, 104, 176, 2)\n",
      "(4992, 104, 176, 2)\n"
     ]
    }
   ],
   "source": [
    "print(x_train.shape)\n",
    "print(x_test.shape)"
   ]
  },
  {
   "cell_type": "code",
   "execution_count": 13,
   "metadata": {},
   "outputs": [
    {
     "data": {
      "text/plain": [
       "2.0"
      ]
     },
     "execution_count": 13,
     "metadata": {},
     "output_type": "execute_result"
    }
   ],
   "source": [
    "np.amax(x_train[0])"
   ]
  },
  {
   "cell_type": "code",
   "execution_count": 14,
   "metadata": {},
   "outputs": [
    {
     "name": "stdout",
     "output_type": "stream",
     "text": [
      "2\n"
     ]
    }
   ],
   "source": [
    "# print('1')\n",
    "# x_train[x_train!=0]+=10\n",
    "# x_test[x_test!=0]+=10\n",
    "\n",
    "# print('2')\n",
    "\n",
    "# #Jesture range from 0-5\n",
    "# #x_train = x_train/45\n",
    "# x_train[:] = [x / 15 for x in x_train]\n",
    "# #x_test = x_test/45\n",
    "# x_test[:] = [x / 15 for x in x_test]\n",
    "\n",
    "\n",
    "\n",
    "print('2')\n",
    "\n",
    "#Jesture range from 0-5\n",
    "#x_train = x_train/45\n",
    "x_train[:] = [x / 5 for x in x_train]\n",
    "#x_test = x_test/45\n",
    "x_test[:] = [x / 5 for x in x_test]"
   ]
  },
  {
   "cell_type": "code",
   "execution_count": 15,
   "metadata": {},
   "outputs": [
    {
     "data": {
      "text/plain": [
       "0.0"
      ]
     },
     "execution_count": 15,
     "metadata": {},
     "output_type": "execute_result"
    }
   ],
   "source": [
    "np.amin(x_train[0])"
   ]
  },
  {
   "cell_type": "code",
   "execution_count": 16,
   "metadata": {},
   "outputs": [],
   "source": [
    "epsilon_std=0.001\n",
    "\n",
    "# z = z_mean + sqrt(var)*eps\n",
    "#returns random value of z with the gives mean and variance\n",
    "def sampling(args):\n",
    "    z_mean, z_log_sigma = args\n",
    "    epsilon = K.random_normal(shape=(batch_size, latent_dim), mean=0.0, stddev=epsilon_std)\n",
    "    return z_mean + K.exp(z_log_sigma/2) * epsilon"
   ]
  },
  {
   "cell_type": "code",
   "execution_count": 17,
   "metadata": {},
   "outputs": [],
   "source": [
    "#Defining number of kernels, strides and pooling sizes per layer\n",
    "\n",
    "filters_1 = 32\n",
    "filters_2 = 64\n",
    "filters_3 = 128\n",
    "#filters_1 = 32\n",
    "#filters_2 = 64\n",
    "#filters_3 = 128\n",
    "\n",
    "# filters_4 = 64\n",
    "# filters_5 = 128\n",
    "# filters_6 = 256\n",
    "# filters_7 = 512\n",
    "\n",
    "stride_1 = (3, 3)\n",
    "stride_2 = (3, 3)\n",
    "stride_3 = (3, 3)\n",
    "# stride_4 = (2, 2)\n",
    "# stride_5 = (2, 2)\n",
    "# stride_6 = (2, 2)\n",
    "# stride_7 = (2, 2)\n",
    "\n",
    "pool_1 = (2, 2)\n",
    "pool_2 = (2, 2)\n",
    "pool_3 = (2, 2)\n",
    "# pool_4 = (2, 2)\n",
    "# pool_5 = (2, 2)\n",
    "# pool_6 = (2, 2)\n",
    "# pool_7 = (2, 2)"
   ]
  },
  {
   "cell_type": "code",
   "execution_count": 99,
   "metadata": {},
   "outputs": [],
   "source": [
    "#input_shape = (image_size, image_size, 1)\n",
    "batch_size = 32 #fit_generator\n",
    "#kernel_size = 3\n",
    "#filters = 16\n",
    "latent_dim = 30\n",
    "epochs = 10"
   ]
  },
  {
   "cell_type": "code",
   "execution_count": 100,
   "metadata": {},
   "outputs": [],
   "source": [
    "#Defining encoder\n",
    "\n",
    "inputs = Input(shape = x_train[0].shape)\n",
    "\n",
    "x = MaxPooling2D(pool_1, padding='same')(inputs)\n",
    "\n",
    "x = Conv2D(filters_1, stride_1, activation='relu', padding='same')(x)\n",
    "x = MaxPooling2D(pool_2, padding='same')(x)\n",
    "\n",
    "x = Conv2D(filters_2, stride_2, activation='relu', padding='same')(x)\n",
    "x = MaxPooling2D(pool_2, padding='same')(x)\n",
    "\n",
    "x = Conv2D(filters_3, stride_3, activation='relu', padding='same')(x)\n",
    "#x = MaxPooling3D(pool_3, padding='same')(x)\n",
    "\n",
    "shape = K.int_shape(x)\n",
    "\n",
    "x = Flatten()(x)\n",
    "\n",
    "#Adding 1 hidden layer\n",
    "#x = Dense(512, activation='relu')(x)\n",
    "x = Dense(64, activation='relu')(x)\n",
    "#x = Dense(64, activation='relu')(x)\n",
    "\n",
    "\n",
    "z_mean = Dense(latent_dim, name='z_mean')(x)\n",
    "z_log_var = Dense(latent_dim, name='z_log_var')(x)\n",
    "z = Lambda(sampling, output_shape=(latent_dim,), name='z')([z_mean, z_log_var])"
   ]
  },
  {
   "cell_type": "code",
   "execution_count": 101,
   "metadata": {},
   "outputs": [
    {
     "name": "stdout",
     "output_type": "stream",
     "text": [
      "__________________________________________________________________________________________________\n",
      "Layer (type)                    Output Shape         Param #     Connected to                     \n",
      "==================================================================================================\n",
      "input_4 (InputLayer)            (None, 104, 176, 2)  0                                            \n",
      "__________________________________________________________________________________________________\n",
      "max_pooling2d_10 (MaxPooling2D) (None, 52, 88, 2)    0           input_4[0][0]                    \n",
      "__________________________________________________________________________________________________\n",
      "conv2d_10 (Conv2D)              (None, 52, 88, 32)   608         max_pooling2d_10[0][0]           \n",
      "__________________________________________________________________________________________________\n",
      "max_pooling2d_11 (MaxPooling2D) (None, 26, 44, 32)   0           conv2d_10[0][0]                  \n",
      "__________________________________________________________________________________________________\n",
      "conv2d_11 (Conv2D)              (None, 26, 44, 64)   18496       max_pooling2d_11[0][0]           \n",
      "__________________________________________________________________________________________________\n",
      "max_pooling2d_12 (MaxPooling2D) (None, 13, 22, 64)   0           conv2d_11[0][0]                  \n",
      "__________________________________________________________________________________________________\n",
      "conv2d_12 (Conv2D)              (None, 13, 22, 128)  73856       max_pooling2d_12[0][0]           \n",
      "__________________________________________________________________________________________________\n",
      "flatten_4 (Flatten)             (None, 36608)        0           conv2d_12[0][0]                  \n",
      "__________________________________________________________________________________________________\n",
      "dense_10 (Dense)                (None, 64)           2342976     flatten_4[0][0]                  \n",
      "__________________________________________________________________________________________________\n",
      "z_mean (Dense)                  (None, 30)           1950        dense_10[0][0]                   \n",
      "__________________________________________________________________________________________________\n",
      "z_log_var (Dense)               (None, 30)           1950        dense_10[0][0]                   \n",
      "__________________________________________________________________________________________________\n",
      "z (Lambda)                      (None, 30)           0           z_mean[0][0]                     \n",
      "                                                                 z_log_var[0][0]                  \n",
      "==================================================================================================\n",
      "Total params: 2,439,836\n",
      "Trainable params: 2,439,836\n",
      "Non-trainable params: 0\n",
      "__________________________________________________________________________________________________\n"
     ]
    }
   ],
   "source": [
    "encoder = Model(inputs, [z_mean, z_log_var, z], name='encoder')\n",
    "encoder.summary()\n",
    "#plot_model(encoder, to_file='vae_cnn_encoder.png', show_shapes=True)\n"
   ]
  },
  {
   "cell_type": "code",
   "execution_count": 102,
   "metadata": {},
   "outputs": [],
   "source": [
    "#Defining Decoder\n",
    "latent_inputs = Input(shape=(latent_dim,), name='z_sampling')\n",
    "#x = Dense(64, activation='relu')(latent_inputs)\n",
    "x = Dense(64, activation='relu')(latent_inputs)\n",
    "#x = Dense(512, activation='relu')(x)\n",
    "\n",
    "#x = Dense(512, activation='relu')(latent_inputs)\n",
    "\n",
    "x = Dense(shape[1] * shape[2] * shape[3], activation='relu')(x)\n",
    "x = Reshape((shape[1], shape[2], shape[3]))(x)\n",
    "\n",
    "\n",
    "x = Conv2DTranspose(filters_2, stride_3, activation='relu', padding='same')(x)\n",
    "x = UpSampling2D(pool_3)(x)\n",
    "\n",
    "x = Conv2DTranspose(filters_1, stride_2, activation='relu', padding='same')(x)\n",
    "x = UpSampling2D(pool_2)(x)\n",
    "\n",
    "#x = Conv3DTranspose(filters_1, stride_1, activation='relu', padding='same')(x)\n",
    "#x = UpSampling3D(pool_1)(x)\n",
    "\n",
    "x = Conv2DTranspose(filters=2,\n",
    "                          kernel_size=3,\n",
    "                          activation='relu',\n",
    "                          padding='same',\n",
    "                          name='decoder_output')(x)\n",
    "outputs = UpSampling2D(pool_1)(x)\n"
   ]
  },
  {
   "cell_type": "code",
   "execution_count": 103,
   "metadata": {},
   "outputs": [
    {
     "name": "stdout",
     "output_type": "stream",
     "text": [
      "_________________________________________________________________\n",
      "Layer (type)                 Output Shape              Param #   \n",
      "=================================================================\n",
      "z_sampling (InputLayer)      (None, 30)                0         \n",
      "_________________________________________________________________\n",
      "dense_11 (Dense)             (None, 64)                1984      \n",
      "_________________________________________________________________\n",
      "dense_12 (Dense)             (None, 36608)             2379520   \n",
      "_________________________________________________________________\n",
      "reshape_4 (Reshape)          (None, 13, 22, 128)       0         \n",
      "_________________________________________________________________\n",
      "conv2d_transpose_7 (Conv2DTr (None, 13, 22, 64)        73792     \n",
      "_________________________________________________________________\n",
      "up_sampling2d_10 (UpSampling (None, 26, 44, 64)        0         \n",
      "_________________________________________________________________\n",
      "conv2d_transpose_8 (Conv2DTr (None, 26, 44, 32)        18464     \n",
      "_________________________________________________________________\n",
      "up_sampling2d_11 (UpSampling (None, 52, 88, 32)        0         \n",
      "_________________________________________________________________\n",
      "decoder_output (Conv2DTransp (None, 52, 88, 2)         578       \n",
      "_________________________________________________________________\n",
      "up_sampling2d_12 (UpSampling (None, 104, 176, 2)       0         \n",
      "=================================================================\n",
      "Total params: 2,474,338\n",
      "Trainable params: 2,474,338\n",
      "Non-trainable params: 0\n",
      "_________________________________________________________________\n"
     ]
    }
   ],
   "source": [
    "decoder = Model(latent_inputs, outputs, name='decoder')\n",
    "decoder.summary()\n",
    "#plot_model(decoder, to_file='vae_cnn_decoder.png', show_shapes=True)"
   ]
  },
  {
   "cell_type": "code",
   "execution_count": 104,
   "metadata": {},
   "outputs": [],
   "source": [
    "# instantiate VAE model\n",
    "outputs = decoder(encoder(inputs)[2])\n",
    "vae = Model(inputs, outputs, name='vae_mlp')\n",
    "vae_test=Model(inputs, outputs, name='vae_test')"
   ]
  },
  {
   "cell_type": "code",
   "execution_count": 105,
   "metadata": {},
   "outputs": [],
   "source": [
    "from math import pow"
   ]
  },
  {
   "cell_type": "code",
   "execution_count": 106,
   "metadata": {},
   "outputs": [
    {
     "name": "stdout",
     "output_type": "stream",
     "text": [
      "_________________________________________________________________\n",
      "Layer (type)                 Output Shape              Param #   \n",
      "=================================================================\n",
      "input_4 (InputLayer)         (None, 104, 176, 2)       0         \n",
      "_________________________________________________________________\n",
      "encoder (Model)              [(None, 30), (None, 30),  2439836   \n",
      "_________________________________________________________________\n",
      "decoder (Model)              (None, 104, 176, 2)       2474338   \n",
      "=================================================================\n",
      "Total params: 4,914,174\n",
      "Trainable params: 4,914,174\n",
      "Non-trainable params: 0\n",
      "_________________________________________________________________\n",
      "_________________________________________________________________\n",
      "Layer (type)                 Output Shape              Param #   \n",
      "=================================================================\n",
      "input_4 (InputLayer)         (None, 104, 176, 2)       0         \n",
      "_________________________________________________________________\n",
      "encoder (Model)              [(None, 30), (None, 30),  2439836   \n",
      "_________________________________________________________________\n",
      "decoder (Model)              (None, 104, 176, 2)       2474338   \n",
      "=================================================================\n",
      "Total params: 4,914,174\n",
      "Trainable params: 4,914,174\n",
      "Non-trainable params: 0\n",
      "_________________________________________________________________\n"
     ]
    }
   ],
   "source": [
    "# Compute VAE loss\n",
    "\n",
    "# comparison = tf.math.greater(inputs, 0)\n",
    "# new_out =  tf.where (comparison, outputs * 1000, outputs)\n",
    "# x.assign(new_out)\n",
    "# K.set_value(outputs, new_out)\n",
    "# conditional_assignment_o = tf.assign(outputs, new_out)\n",
    "# conditional_assignment_i = inputs.assign(inputs * 1000)\n",
    "\n",
    "\n",
    "# xent_loss =  2312*binary_crossentropy(K.flatten(conditional_assignment_i), K.flatten(conditional_assignment_o))\n",
    "\n",
    "xent_loss =  2312*binary_crossentropy(K.flatten(inputs), K.flatten(outputs))\n",
    "#xent_loss = 439296 * binary_crossentropy(K.flatten(inputs), K.flatten(outputs))\n",
    "#xent_loss = 422400*binary_crossentropy(inputs, outputs)\n",
    "\n",
    "kl_loss = -0.5*K.sum(1 + z_log_var - K.square(z_mean) - K.exp(z_log_var), axis=-1)\n",
    "# vae_loss =abs(K.mean(xent_loss + kl_loss))\n",
    "#vae_loss =abs(K.mean(xent_loss + 20*kl_loss))\n",
    "vae_loss =abs(K.mean(xent_loss + kl_loss))\n",
    "\n",
    "#    return vae_loss\n",
    "\n",
    "#opt = Adam(lr=0.01, beta_1=0.9, beta_2=0.999)\n",
    "vae.add_loss(vae_loss)\n",
    "vae.compile(optimizer='adam',  metrics=['accuracy'])\n",
    "vae_test.compile(optimizer='adam',loss='binary_crossentropy', metrics=['accuracy'])\n",
    "vae.summary()\n",
    "vae_test.summary()"
   ]
  },
  {
   "cell_type": "code",
   "execution_count": 107,
   "metadata": {},
   "outputs": [
    {
     "data": {
      "text/plain": [
       "TensorShape([Dimension(None)])"
      ]
     },
     "execution_count": 107,
     "metadata": {},
     "output_type": "execute_result"
    }
   ],
   "source": [
    "K.flatten(inputs).shape"
   ]
  },
  {
   "cell_type": "code",
   "execution_count": 108,
   "metadata": {},
   "outputs": [
    {
     "name": "stdout",
     "output_type": "stream",
     "text": [
      "Start learning at 2019-03-25 20:32:53.623619\n",
      "Train on 38400 samples, validate on 9600 samples\n",
      "Epoch 1/10\n",
      "38400/38400 [==============================] - 133s 3ms/step - loss: 89.6314 - val_loss: 75.4197\n",
      "Epoch 2/10\n",
      "38400/38400 [==============================] - 84s 2ms/step - loss: 83.0203 - val_loss: 72.1793\n",
      "Epoch 3/10\n",
      "38400/38400 [==============================] - 83s 2ms/step - loss: 81.2696 - val_loss: 71.4046\n",
      "Epoch 4/10\n",
      "38400/38400 [==============================] - 83s 2ms/step - loss: 80.8481 - val_loss: 71.5569\n",
      "Epoch 5/10\n",
      "38400/38400 [==============================] - 82s 2ms/step - loss: 81.1760 - val_loss: 71.8422\n",
      "Epoch 6/10\n",
      "38400/38400 [==============================] - 81s 2ms/step - loss: 83.9789 - val_loss: 74.7965\n",
      "Epoch 7/10\n",
      "38400/38400 [==============================] - 94s 2ms/step - loss: 87.4487 - val_loss: 73.9796\n",
      "Epoch 8/10\n",
      "38400/38400 [==============================] - 83s 2ms/step - loss: 82.1577 - val_loss: 71.3508\n",
      "Epoch 9/10\n",
      "38400/38400 [==============================] - 81s 2ms/step - loss: 83.0202 - val_loss: 72.4061\n",
      "Epoch 10/10\n",
      "38400/38400 [==============================] - 81s 2ms/step - loss: 86.9626 - val_loss: 77.0336\n",
      "Stop learning 2019-03-25 20:47:48.354229\n",
      "Elapsed learning 0:14:54.730610\n"
     ]
    }
   ],
   "source": [
    "#STOP HERE\n",
    "start_time = dt.datetime.now()\n",
    "print('Start learning at {}'.format(str(start_time)))\n",
    "\n",
    "vae.fit(\n",
    "        x=x_train, \n",
    "        shuffle = True,\n",
    "        epochs = epochs,\n",
    "        batch_size=32,\n",
    "        validation_split = 0.2)\n",
    "\n",
    "end_time = dt.datetime.now() \n",
    "print('Stop learning {}'.format(str(end_time)))\n",
    "elapsed_time= end_time - start_time\n",
    "print('Elapsed learning {}'.format(str(elapsed_time)))"
   ]
  },
  {
   "cell_type": "code",
   "execution_count": 121,
   "metadata": {},
   "outputs": [],
   "source": [
    "from keras.models import load_model\n",
    "\n",
    "# Creates a HDF5 file 'my_model.h5'\n",
    "vae.save('CVAE_Chingis_3.h5')\n",
    "encoder.save('encoder_Chingis_3.h5')\n",
    "decoder.save('decoder_Chingis_3.h5')"
   ]
  },
  {
   "cell_type": "code",
   "execution_count": 110,
   "metadata": {},
   "outputs": [
    {
     "name": "stdout",
     "output_type": "stream",
     "text": [
      "(4992, 104, 176, 2)\n"
     ]
    }
   ],
   "source": [
    "print(x_test.shape)"
   ]
  },
  {
   "cell_type": "code",
   "execution_count": 111,
   "metadata": {},
   "outputs": [],
   "source": [
    "models = (encoder, decoder)\n",
    "data = (x_test, y_test)"
   ]
  },
  {
   "cell_type": "code",
   "execution_count": 90,
   "metadata": {},
   "outputs": [],
   "source": [
    "def plot_results(models,\n",
    "                 data,\n",
    "                 batch_size=batch_size,\n",
    "                 model_name=\"vae_mnist\"):\n",
    "    \"\"\"Plots labels and MNIST digits as function of 2-dim latent vector\n",
    "    # Arguments:\n",
    "        models (tuple): encoder and decoder models\n",
    "        data (tuple): test data and label\n",
    "        batch_size (int): prediction batch size\n",
    "        model_name (string): which model is using this function\n",
    "    \"\"\"\n",
    "\n",
    "    encoder, decoder = models\n",
    "    x_test, y_test = data\n",
    "    os.makedirs(model_name, exist_ok=True)\n",
    "\n",
    "    filename = os.path.join(model_name, \"vae_mean.png\")\n",
    "    # display a 2D plot of the digit classes in the latent space\n",
    "    z_mean, _, _ = encoder.predict(x_test,\n",
    "                                   batch_size=32)\n",
    "    print(z_mean)\n",
    "    plt.figure(figsize=(12, 10))\n",
    "    plt.scatter(z_mean[:, 0], z_mean[:, 1], c=y_test)\n",
    "    plt.colorbar()\n",
    "    plt.xlabel(\"z[0]\")\n",
    "    plt.ylabel(\"z[1]\")\n",
    "    plt.savefig(filename)\n",
    "    plt.show()\n",
    "\n",
    "    filename = os.path.join(model_name, \"digits_over_latent.png\")\n",
    "    # display a 30x30 2D manifold of digits\n",
    "    n = 30\n",
    "    digit_size = 28\n",
    "    figure = np.zeros((digit_size * n, digit_size * n))\n",
    "    # linearly spaced coordinates corresponding to the 2D plot\n",
    "    # of digit classes in the latent space\n",
    "    grid_x = np.linspace(-4, 4, n)\n",
    "    grid_y = np.linspace(-4, 4, n)[::-1]"
   ]
  },
  {
   "cell_type": "code",
   "execution_count": 91,
   "metadata": {},
   "outputs": [
    {
     "name": "stdout",
     "output_type": "stream",
     "text": [
      "[[-0.01833358  0.00205114  0.00392317 ... -0.00055724  0.00636136\n",
      "   0.00216633]\n",
      " [-0.01833358  0.00205114  0.00392317 ... -0.00055724  0.00636136\n",
      "   0.00216633]\n",
      " [-0.01833358  0.00205114  0.00392317 ... -0.00055724  0.00636136\n",
      "   0.00216633]\n",
      " ...\n",
      " [-0.01833358  0.00205114  0.00392317 ... -0.00055724  0.00636136\n",
      "   0.00216633]\n",
      " [-0.01833358  0.00205114  0.00392317 ... -0.00055724  0.00636136\n",
      "   0.00216633]\n",
      " [-0.01833358  0.00205114  0.00392317 ... -0.00055724  0.00636136\n",
      "   0.00216633]]\n"
     ]
    },
    {
     "ename": "ValueError",
     "evalue": "'c' argument must either be valid as mpl color(s) or as numbers to be mapped to colors. Here c = ['Swiping_Left' 'Swiping_Left' 'Swiping_Left' 'Swiping_Left'\n 'Swiping_Left' 'Swiping_Left' 'Swiping_Left' 'Swiping_Left'\n 'Swiping_Left' 'Swiping_Left' 'Swiping_Left' 'Swiping_Left'\n 'Swiping_Left' 'Swiping_Left' 'Swiping_Left' 'Swiping_Left'\n 'Swiping_Left' 'Swiping_Left' 'Swiping_Left' 'Swiping_Left'\n 'Swiping_Left' 'Swiping_Left' 'Swiping_Left' 'Swiping_Left'\n 'Swiping_Left' 'Swiping_Left' 'Swiping_Left' 'Swiping_Left'\n 'Swiping_Left' 'Swiping_Left' 'Swiping_Left' 'Swiping_Left'\n 'Swiping_Left' 'Swiping_Left' 'Swiping_Left' 'Swiping_Left'\n 'Swiping_Left' 'Swiping_Left' 'Swiping_Left' 'Swiping_Left'\n 'Swiping_Left' 'Swiping_Left' 'Swiping_Left' 'Swiping_Left'\n 'Swiping_Left' 'Swiping_Left' 'Swiping_Left' 'Swiping_Left'\n 'Swiping_Left' 'Swiping_Left' 'Swiping_Left' 'Swiping_Left'\n 'Swiping_Left' 'Swiping_Left' 'Swiping_Left' 'Swiping_Left'\n 'Swiping_Left' 'Swiping_Left' 'Swiping_Left' 'Swiping_Left'\n 'Swiping_Left' 'Swiping_Left' 'Swiping_Left' 'Swiping_Left'\n 'Swiping_Left' 'Swiping_Left' 'Swiping_Left' 'Swiping_Left'\n 'Swiping_Left' 'Swiping_Left' 'Swiping_Left' 'Swiping_Left'\n 'Swiping_Left' 'Swiping_Left' 'Swiping_Left' 'Swiping_Left'\n 'Swiping_Left' 'Swiping_Left' 'Swiping_Left' 'Swiping_Left'\n 'Swiping_Left' 'Swiping_Left' 'Swiping_Left' 'Swiping_Left'\n 'Swiping_Left' 'Swiping_Left' 'Swiping_Left' 'Swiping_Left'\n 'Swiping_Left' 'Swiping_Left' 'Swiping_Left' 'Swiping_Left'\n 'Swiping_Left' 'Swiping_Left' 'Swiping_Left' 'Swiping_Left'\n 'Swiping_Left' 'Swiping_Left' 'Swiping_Left' 'Swiping_Left'\n 'Swiping_Left' 'Swiping_Left' 'Swiping_Left' 'Swiping_Left'\n 'Swiping_Right' 'Swiping_Right' 'Swiping_Right' 'Swiping_Right'\n 'Swiping_Right' 'Swiping_Right' 'Swiping_Right' 'Swiping_Right'\n 'Swiping_Right' 'Swiping_Right' 'Swiping_Right' 'Swiping_Right'\n 'Swiping_Right' 'Swiping_Right' 'Swiping_Right' 'Swiping_Right'\n 'Swiping_Right' 'Swiping_Right' 'Swiping_Right' 'Swiping_Right'\n 'Swiping_Right' 'Swiping_Right' 'Swiping_Right' 'Swiping_Right'\n 'Swiping_Right' 'Swiping_Right' 'Swiping_Right' 'Swiping_Right'\n 'Swiping_Right' 'Swiping_Right' 'Swiping_Right' 'Swiping_Right'\n 'Swiping_Right' 'Swiping_Right' 'Swiping_Right' 'Swiping_Right'\n 'Swiping_Right' 'Swiping_Right' 'Swiping_Right' 'Swiping_Right'\n 'Swiping_Right' 'Swiping_Right' 'Swiping_Right' 'Swiping_Right'\n 'Swiping_Right' 'Swiping_Right' 'Swiping_Right' 'Swiping_Right'\n 'Swiping_Right' 'Swiping_Right' 'Swiping_Right' 'Swiping_Right'\n 'Swiping_Right' 'Swiping_Right' 'Swiping_Right' 'Swiping_Right'\n 'Swiping_Right' 'Swiping_Right' 'Swiping_Right' 'Swiping_Right'\n 'Swiping_Right' 'Swiping_Right' 'Swiping_Right' 'Swiping_Right'\n 'Swiping_Right' 'Swiping_Right' 'Swiping_Right' 'Swiping_Right'\n 'Swiping_Right' 'Swiping_Right' 'Swiping_Right' 'Swiping_Right'\n 'Swiping_Right' 'Swiping_Right' 'Swiping_Right' 'Swiping_Right'\n 'Swiping_Right' 'Swiping_Right' 'Swiping_Right' 'Swiping_Right'\n 'Swiping_Right' 'Swiping_Right' 'Swiping_Right' 'Swiping_Right'\n 'Swiping_Right' 'Swiping_Right' 'Swiping_Right' 'Swiping_Right'\n 'Swiping_Right' 'Swiping_Right' 'Swiping_Right' 'Swiping_Right'\n 'Swiping_Right' 'Swiping_Right' 'Swiping_Right' 'Swiping_Right'\n 'Swiping_Right' 'Swiping_Right' 'Swiping_Right' 'Swiping_Right'\n 'Swiping_Right' 'Swiping_Right' 'Swiping_Right' 'Swiping_Right'\n 'Swiping_Up' 'Swiping_Up' 'Swiping_Up' 'Swiping_Up' 'Swiping_Up'\n 'Swiping_Up' 'Swiping_Up' 'Swiping_Up' 'Swiping_Up' 'Swiping_Up'\n 'Swiping_Up' 'Swiping_Up' 'Swiping_Up' 'Swiping_Up' 'Swiping_Up'\n 'Swiping_Up' 'Swiping_Up' 'Swiping_Up' 'Swiping_Up' 'Swiping_Up'\n 'Swiping_Up' 'Swiping_Up' 'Swiping_Up' 'Swiping_Up' 'Swiping_Up'\n 'Swiping_Up' 'Swiping_Up' 'Swiping_Up' 'Swiping_Up' 'Swiping_Up'\n 'Swiping_Up' 'Swiping_Up' 'Swiping_Up' 'Swiping_Up' 'Swiping_Up'\n 'Swiping_Up' 'Swiping_Up' 'Swiping_Up' 'Swiping_Up' 'Swiping_Up'\n 'Swiping_Up' 'Swiping_Up' 'Swiping_Up' 'Swiping_Up' 'Swiping_Up'\n 'Swiping_Up' 'Swiping_Up' 'Swiping_Up' 'Swiping_Up' 'Swiping_Up'\n 'Swiping_Up' 'Swiping_Up' 'Swiping_Up' 'Swiping_Up' 'Swiping_Up'\n 'Swiping_Up' 'Swiping_Up' 'Swiping_Up' 'Swiping_Up' 'Swiping_Up'\n 'Swiping_Up' 'Swiping_Up' 'Swiping_Up' 'Swiping_Up' 'Swiping_Up'\n 'Swiping_Up' 'Swiping_Up' 'Swiping_Up' 'Swiping_Up' 'Swiping_Up'\n 'Swiping_Up' 'Swiping_Up' 'Swiping_Up' 'Swiping_Up' 'Swiping_Up'\n 'Swiping_Up' 'Swiping_Up' 'Swiping_Up' 'Swiping_Up' 'Swiping_Up'\n 'Swiping_Up' 'Swiping_Up' 'Swiping_Up' 'Swiping_Up' 'Swiping_Up'\n 'Swiping_Up' 'Swiping_Up' 'Swiping_Up' 'Swiping_Up' 'Swiping_Up'\n 'Swiping_Up' 'Swiping_Up' 'Swiping_Up' 'Swiping_Up' 'Swiping_Up'\n 'Swiping_Up' 'Swiping_Up' 'Swiping_Up' 'Swiping_Up' 'Swiping_Up'\n 'Swiping_Up' 'Swiping_Up' 'Swiping_Up' 'Swiping_Up' 'Swiping_Down'\n 'Swiping_Down' 'Swiping_Down' 'Swiping_Down' 'Swiping_Down'\n 'Swiping_Down' 'Swiping_Down' 'Swiping_Down' 'Swiping_Down'\n 'Swiping_Down' 'Swiping_Down' 'Swiping_Down' 'Swiping_Down'\n 'Swiping_Down' 'Swiping_Down' 'Swiping_Down' 'Swiping_Down'\n 'Swiping_Down' 'Swiping_Down' 'Swiping_Down' 'Swiping_Down'\n 'Swiping_Down' 'Swiping_Down' 'Swiping_Down' 'Swiping_Down'\n 'Swiping_Down' 'Swiping_Down' 'Swiping_Down' 'Swiping_Down'\n 'Swiping_Down' 'Swiping_Down' 'Swiping_Down' 'Swiping_Down'\n 'Swiping_Down' 'Swiping_Down' 'Swiping_Down' 'Swiping_Down'\n 'Swiping_Down' 'Swiping_Down' 'Swiping_Down' 'Swiping_Down'\n 'Swiping_Down' 'Swiping_Down' 'Swiping_Down' 'Swiping_Down'\n 'Swiping_Down' 'Swiping_Down' 'Swiping_Down' 'Swiping_Down'\n 'Swiping_Down' 'Swiping_Down' 'Swiping_Down' 'Swiping_Down'\n 'Swiping_Down' 'Swiping_Down' 'Swiping_Down' 'Swiping_Down'\n 'Swiping_Down' 'Swiping_Down' 'Swiping_Down' 'Swiping_Down'\n 'Swiping_Down' 'Swiping_Down' 'Swiping_Down' 'Swiping_Down'\n 'Swiping_Down' 'Swiping_Down' 'Swiping_Down' 'Swiping_Down'\n 'Swiping_Down' 'Swiping_Down' 'Swiping_Down' 'Swiping_Down'\n 'Swiping_Down' 'Swiping_Down' 'Swiping_Down' 'Swiping_Down'\n 'Swiping_Down' 'Swiping_Down' 'Swiping_Down' 'Swiping_Down'\n 'Swiping_Down' 'Swiping_Down' 'Swiping_Down' 'Swiping_Down'\n 'Swiping_Down' 'Swiping_Down' 'Swiping_Down' 'Swiping_Down'\n 'Swiping_Down' 'Swiping_Down' 'Swiping_Down' 'Swiping_Down'\n 'Swiping_Down' 'Swiping_Down' 'Swiping_Down' 'Swiping_Down'\n 'Swiping_Down' 'Swiping_Down' 'Swiping_Down' 'Swiping_Down'\n 'Swiping_Down' 'Swiping_Down' 'Swiping_Down'].",
     "output_type": "error",
     "traceback": [
      "\u001b[1;31m---------------------------------------------------------------------------\u001b[0m",
      "\u001b[1;31mKeyError\u001b[0m                                  Traceback (most recent call last)",
      "\u001b[1;32m~\\Anaconda3\\lib\\site-packages\\matplotlib\\colors.py\u001b[0m in \u001b[0;36mto_rgba\u001b[1;34m(c, alpha)\u001b[0m\n\u001b[0;32m    173\u001b[0m     \u001b[1;32mtry\u001b[0m\u001b[1;33m:\u001b[0m\u001b[1;33m\u001b[0m\u001b[1;33m\u001b[0m\u001b[0m\n\u001b[1;32m--> 174\u001b[1;33m         \u001b[0mrgba\u001b[0m \u001b[1;33m=\u001b[0m \u001b[0m_colors_full_map\u001b[0m\u001b[1;33m.\u001b[0m\u001b[0mcache\u001b[0m\u001b[1;33m[\u001b[0m\u001b[0mc\u001b[0m\u001b[1;33m,\u001b[0m \u001b[0malpha\u001b[0m\u001b[1;33m]\u001b[0m\u001b[1;33m\u001b[0m\u001b[1;33m\u001b[0m\u001b[0m\n\u001b[0m\u001b[0;32m    175\u001b[0m     \u001b[1;32mexcept\u001b[0m \u001b[1;33m(\u001b[0m\u001b[0mKeyError\u001b[0m\u001b[1;33m,\u001b[0m \u001b[0mTypeError\u001b[0m\u001b[1;33m)\u001b[0m\u001b[1;33m:\u001b[0m  \u001b[1;31m# Not in cache, or unhashable.\u001b[0m\u001b[1;33m\u001b[0m\u001b[1;33m\u001b[0m\u001b[0m\n",
      "\u001b[1;31mKeyError\u001b[0m: ('Swiping_Left', None)",
      "\nDuring handling of the above exception, another exception occurred:\n",
      "\u001b[1;31mValueError\u001b[0m                                Traceback (most recent call last)",
      "\u001b[1;32m~\\Anaconda3\\lib\\site-packages\\matplotlib\\axes\\_axes.py\u001b[0m in \u001b[0;36mscatter\u001b[1;34m(self, x, y, s, c, marker, cmap, norm, vmin, vmax, alpha, linewidths, verts, edgecolors, **kwargs)\u001b[0m\n\u001b[0;32m   4231\u001b[0m             \u001b[1;32mtry\u001b[0m\u001b[1;33m:\u001b[0m  \u001b[1;31m# Then is 'c' acceptable as PathCollection facecolors?\u001b[0m\u001b[1;33m\u001b[0m\u001b[1;33m\u001b[0m\u001b[0m\n\u001b[1;32m-> 4232\u001b[1;33m                 \u001b[0mcolors\u001b[0m \u001b[1;33m=\u001b[0m \u001b[0mmcolors\u001b[0m\u001b[1;33m.\u001b[0m\u001b[0mto_rgba_array\u001b[0m\u001b[1;33m(\u001b[0m\u001b[0mc\u001b[0m\u001b[1;33m)\u001b[0m\u001b[1;33m\u001b[0m\u001b[1;33m\u001b[0m\u001b[0m\n\u001b[0m\u001b[0;32m   4233\u001b[0m                 \u001b[0mn_elem\u001b[0m \u001b[1;33m=\u001b[0m \u001b[0mcolors\u001b[0m\u001b[1;33m.\u001b[0m\u001b[0mshape\u001b[0m\u001b[1;33m[\u001b[0m\u001b[1;36m0\u001b[0m\u001b[1;33m]\u001b[0m\u001b[1;33m\u001b[0m\u001b[1;33m\u001b[0m\u001b[0m\n",
      "\u001b[1;32m~\\Anaconda3\\lib\\site-packages\\matplotlib\\colors.py\u001b[0m in \u001b[0;36mto_rgba_array\u001b[1;34m(c, alpha)\u001b[0m\n\u001b[0;32m    274\u001b[0m     \u001b[1;32mfor\u001b[0m \u001b[0mi\u001b[0m\u001b[1;33m,\u001b[0m \u001b[0mcc\u001b[0m \u001b[1;32min\u001b[0m \u001b[0menumerate\u001b[0m\u001b[1;33m(\u001b[0m\u001b[0mc\u001b[0m\u001b[1;33m)\u001b[0m\u001b[1;33m:\u001b[0m\u001b[1;33m\u001b[0m\u001b[1;33m\u001b[0m\u001b[0m\n\u001b[1;32m--> 275\u001b[1;33m         \u001b[0mresult\u001b[0m\u001b[1;33m[\u001b[0m\u001b[0mi\u001b[0m\u001b[1;33m]\u001b[0m \u001b[1;33m=\u001b[0m \u001b[0mto_rgba\u001b[0m\u001b[1;33m(\u001b[0m\u001b[0mcc\u001b[0m\u001b[1;33m,\u001b[0m \u001b[0malpha\u001b[0m\u001b[1;33m)\u001b[0m\u001b[1;33m\u001b[0m\u001b[1;33m\u001b[0m\u001b[0m\n\u001b[0m\u001b[0;32m    276\u001b[0m     \u001b[1;32mreturn\u001b[0m \u001b[0mresult\u001b[0m\u001b[1;33m\u001b[0m\u001b[1;33m\u001b[0m\u001b[0m\n",
      "\u001b[1;32m~\\Anaconda3\\lib\\site-packages\\matplotlib\\colors.py\u001b[0m in \u001b[0;36mto_rgba\u001b[1;34m(c, alpha)\u001b[0m\n\u001b[0;32m    175\u001b[0m     \u001b[1;32mexcept\u001b[0m \u001b[1;33m(\u001b[0m\u001b[0mKeyError\u001b[0m\u001b[1;33m,\u001b[0m \u001b[0mTypeError\u001b[0m\u001b[1;33m)\u001b[0m\u001b[1;33m:\u001b[0m  \u001b[1;31m# Not in cache, or unhashable.\u001b[0m\u001b[1;33m\u001b[0m\u001b[1;33m\u001b[0m\u001b[0m\n\u001b[1;32m--> 176\u001b[1;33m         \u001b[0mrgba\u001b[0m \u001b[1;33m=\u001b[0m \u001b[0m_to_rgba_no_colorcycle\u001b[0m\u001b[1;33m(\u001b[0m\u001b[0mc\u001b[0m\u001b[1;33m,\u001b[0m \u001b[0malpha\u001b[0m\u001b[1;33m)\u001b[0m\u001b[1;33m\u001b[0m\u001b[1;33m\u001b[0m\u001b[0m\n\u001b[0m\u001b[0;32m    177\u001b[0m         \u001b[1;32mtry\u001b[0m\u001b[1;33m:\u001b[0m\u001b[1;33m\u001b[0m\u001b[1;33m\u001b[0m\u001b[0m\n",
      "\u001b[1;32m~\\Anaconda3\\lib\\site-packages\\matplotlib\\colors.py\u001b[0m in \u001b[0;36m_to_rgba_no_colorcycle\u001b[1;34m(c, alpha)\u001b[0m\n\u001b[0;32m    219\u001b[0m             \u001b[1;32mpass\u001b[0m\u001b[1;33m\u001b[0m\u001b[1;33m\u001b[0m\u001b[0m\n\u001b[1;32m--> 220\u001b[1;33m         \u001b[1;32mraise\u001b[0m \u001b[0mValueError\u001b[0m\u001b[1;33m(\u001b[0m\u001b[1;34m\"Invalid RGBA argument: {!r}\"\u001b[0m\u001b[1;33m.\u001b[0m\u001b[0mformat\u001b[0m\u001b[1;33m(\u001b[0m\u001b[0morig_c\u001b[0m\u001b[1;33m)\u001b[0m\u001b[1;33m)\u001b[0m\u001b[1;33m\u001b[0m\u001b[1;33m\u001b[0m\u001b[0m\n\u001b[0m\u001b[0;32m    221\u001b[0m     \u001b[1;31m# tuple color.\u001b[0m\u001b[1;33m\u001b[0m\u001b[1;33m\u001b[0m\u001b[1;33m\u001b[0m\u001b[0m\n",
      "\u001b[1;31mValueError\u001b[0m: Invalid RGBA argument: 'Swiping_Left'",
      "\nDuring handling of the above exception, another exception occurred:\n",
      "\u001b[1;31mValueError\u001b[0m                                Traceback (most recent call last)",
      "\u001b[1;32m<ipython-input-91-00a799525803>\u001b[0m in \u001b[0;36m<module>\u001b[1;34m\u001b[0m\n\u001b[0;32m      2\u001b[0m                  \u001b[0mdata\u001b[0m\u001b[1;33m,\u001b[0m\u001b[1;33m\u001b[0m\u001b[1;33m\u001b[0m\u001b[0m\n\u001b[0;32m      3\u001b[0m                  \u001b[0mbatch_size\u001b[0m\u001b[1;33m=\u001b[0m\u001b[0mbatch_size\u001b[0m\u001b[1;33m,\u001b[0m\u001b[1;33m\u001b[0m\u001b[1;33m\u001b[0m\u001b[0m\n\u001b[1;32m----> 4\u001b[1;33m                  model_name=\"vae_mlp\")\n\u001b[0m",
      "\u001b[1;32m<ipython-input-90-f8ddcd06376a>\u001b[0m in \u001b[0;36mplot_results\u001b[1;34m(models, data, batch_size, model_name)\u001b[0m\n\u001b[0;32m     21\u001b[0m     \u001b[0mprint\u001b[0m\u001b[1;33m(\u001b[0m\u001b[0mz_mean\u001b[0m\u001b[1;33m)\u001b[0m\u001b[1;33m\u001b[0m\u001b[1;33m\u001b[0m\u001b[0m\n\u001b[0;32m     22\u001b[0m     \u001b[0mplt\u001b[0m\u001b[1;33m.\u001b[0m\u001b[0mfigure\u001b[0m\u001b[1;33m(\u001b[0m\u001b[0mfigsize\u001b[0m\u001b[1;33m=\u001b[0m\u001b[1;33m(\u001b[0m\u001b[1;36m12\u001b[0m\u001b[1;33m,\u001b[0m \u001b[1;36m10\u001b[0m\u001b[1;33m)\u001b[0m\u001b[1;33m)\u001b[0m\u001b[1;33m\u001b[0m\u001b[1;33m\u001b[0m\u001b[0m\n\u001b[1;32m---> 23\u001b[1;33m     \u001b[0mplt\u001b[0m\u001b[1;33m.\u001b[0m\u001b[0mscatter\u001b[0m\u001b[1;33m(\u001b[0m\u001b[0mz_mean\u001b[0m\u001b[1;33m[\u001b[0m\u001b[1;33m:\u001b[0m\u001b[1;33m,\u001b[0m \u001b[1;36m0\u001b[0m\u001b[1;33m]\u001b[0m\u001b[1;33m,\u001b[0m \u001b[0mz_mean\u001b[0m\u001b[1;33m[\u001b[0m\u001b[1;33m:\u001b[0m\u001b[1;33m,\u001b[0m \u001b[1;36m1\u001b[0m\u001b[1;33m]\u001b[0m\u001b[1;33m,\u001b[0m \u001b[0mc\u001b[0m\u001b[1;33m=\u001b[0m\u001b[0my_test\u001b[0m\u001b[1;33m)\u001b[0m\u001b[1;33m\u001b[0m\u001b[1;33m\u001b[0m\u001b[0m\n\u001b[0m\u001b[0;32m     24\u001b[0m     \u001b[0mplt\u001b[0m\u001b[1;33m.\u001b[0m\u001b[0mcolorbar\u001b[0m\u001b[1;33m(\u001b[0m\u001b[1;33m)\u001b[0m\u001b[1;33m\u001b[0m\u001b[1;33m\u001b[0m\u001b[0m\n\u001b[0;32m     25\u001b[0m     \u001b[0mplt\u001b[0m\u001b[1;33m.\u001b[0m\u001b[0mxlabel\u001b[0m\u001b[1;33m(\u001b[0m\u001b[1;34m\"z[0]\"\u001b[0m\u001b[1;33m)\u001b[0m\u001b[1;33m\u001b[0m\u001b[1;33m\u001b[0m\u001b[0m\n",
      "\u001b[1;32m~\\Anaconda3\\lib\\site-packages\\matplotlib\\pyplot.py\u001b[0m in \u001b[0;36mscatter\u001b[1;34m(x, y, s, c, marker, cmap, norm, vmin, vmax, alpha, linewidths, verts, edgecolors, data, **kwargs)\u001b[0m\n\u001b[0;32m   2862\u001b[0m         \u001b[0mvmin\u001b[0m\u001b[1;33m=\u001b[0m\u001b[0mvmin\u001b[0m\u001b[1;33m,\u001b[0m \u001b[0mvmax\u001b[0m\u001b[1;33m=\u001b[0m\u001b[0mvmax\u001b[0m\u001b[1;33m,\u001b[0m \u001b[0malpha\u001b[0m\u001b[1;33m=\u001b[0m\u001b[0malpha\u001b[0m\u001b[1;33m,\u001b[0m \u001b[0mlinewidths\u001b[0m\u001b[1;33m=\u001b[0m\u001b[0mlinewidths\u001b[0m\u001b[1;33m,\u001b[0m\u001b[1;33m\u001b[0m\u001b[1;33m\u001b[0m\u001b[0m\n\u001b[0;32m   2863\u001b[0m         verts=verts, edgecolors=edgecolors, **({\"data\": data} if data\n\u001b[1;32m-> 2864\u001b[1;33m         is not None else {}), **kwargs)\n\u001b[0m\u001b[0;32m   2865\u001b[0m     \u001b[0msci\u001b[0m\u001b[1;33m(\u001b[0m\u001b[0m__ret\u001b[0m\u001b[1;33m)\u001b[0m\u001b[1;33m\u001b[0m\u001b[1;33m\u001b[0m\u001b[0m\n\u001b[0;32m   2866\u001b[0m     \u001b[1;32mreturn\u001b[0m \u001b[0m__ret\u001b[0m\u001b[1;33m\u001b[0m\u001b[1;33m\u001b[0m\u001b[0m\n",
      "\u001b[1;32m~\\Anaconda3\\lib\\site-packages\\matplotlib\\__init__.py\u001b[0m in \u001b[0;36minner\u001b[1;34m(ax, data, *args, **kwargs)\u001b[0m\n\u001b[0;32m   1808\u001b[0m                         \u001b[1;34m\"the Matplotlib list!)\"\u001b[0m \u001b[1;33m%\u001b[0m \u001b[1;33m(\u001b[0m\u001b[0mlabel_namer\u001b[0m\u001b[1;33m,\u001b[0m \u001b[0mfunc\u001b[0m\u001b[1;33m.\u001b[0m\u001b[0m__name__\u001b[0m\u001b[1;33m)\u001b[0m\u001b[1;33m,\u001b[0m\u001b[1;33m\u001b[0m\u001b[1;33m\u001b[0m\u001b[0m\n\u001b[0;32m   1809\u001b[0m                         RuntimeWarning, stacklevel=2)\n\u001b[1;32m-> 1810\u001b[1;33m             \u001b[1;32mreturn\u001b[0m \u001b[0mfunc\u001b[0m\u001b[1;33m(\u001b[0m\u001b[0max\u001b[0m\u001b[1;33m,\u001b[0m \u001b[1;33m*\u001b[0m\u001b[0margs\u001b[0m\u001b[1;33m,\u001b[0m \u001b[1;33m**\u001b[0m\u001b[0mkwargs\u001b[0m\u001b[1;33m)\u001b[0m\u001b[1;33m\u001b[0m\u001b[1;33m\u001b[0m\u001b[0m\n\u001b[0m\u001b[0;32m   1811\u001b[0m \u001b[1;33m\u001b[0m\u001b[0m\n\u001b[0;32m   1812\u001b[0m         inner.__doc__ = _add_data_doc(inner.__doc__,\n",
      "\u001b[1;32m~\\Anaconda3\\lib\\site-packages\\matplotlib\\axes\\_axes.py\u001b[0m in \u001b[0;36mscatter\u001b[1;34m(self, x, y, s, c, marker, cmap, norm, vmin, vmax, alpha, linewidths, verts, edgecolors, **kwargs)\u001b[0m\n\u001b[0;32m   4251\u001b[0m                     \u001b[1;34m\"or as numbers to be mapped to colors. \"\u001b[0m\u001b[1;33m\u001b[0m\u001b[1;33m\u001b[0m\u001b[0m\n\u001b[0;32m   4252\u001b[0m                     \u001b[1;34m\"Here c = {}.\"\u001b[0m  \u001b[1;31m# <- beware, could be long depending on c.\u001b[0m\u001b[1;33m\u001b[0m\u001b[1;33m\u001b[0m\u001b[0m\n\u001b[1;32m-> 4253\u001b[1;33m                     \u001b[1;33m.\u001b[0m\u001b[0mformat\u001b[0m\u001b[1;33m(\u001b[0m\u001b[0mc\u001b[0m\u001b[1;33m)\u001b[0m\u001b[1;33m\u001b[0m\u001b[1;33m\u001b[0m\u001b[0m\n\u001b[0m\u001b[0;32m   4254\u001b[0m                 )\n\u001b[0;32m   4255\u001b[0m         \u001b[1;32melse\u001b[0m\u001b[1;33m:\u001b[0m\u001b[1;33m\u001b[0m\u001b[1;33m\u001b[0m\u001b[0m\n",
      "\u001b[1;31mValueError\u001b[0m: 'c' argument must either be valid as mpl color(s) or as numbers to be mapped to colors. Here c = ['Swiping_Left' 'Swiping_Left' 'Swiping_Left' 'Swiping_Left'\n 'Swiping_Left' 'Swiping_Left' 'Swiping_Left' 'Swiping_Left'\n 'Swiping_Left' 'Swiping_Left' 'Swiping_Left' 'Swiping_Left'\n 'Swiping_Left' 'Swiping_Left' 'Swiping_Left' 'Swiping_Left'\n 'Swiping_Left' 'Swiping_Left' 'Swiping_Left' 'Swiping_Left'\n 'Swiping_Left' 'Swiping_Left' 'Swiping_Left' 'Swiping_Left'\n 'Swiping_Left' 'Swiping_Left' 'Swiping_Left' 'Swiping_Left'\n 'Swiping_Left' 'Swiping_Left' 'Swiping_Left' 'Swiping_Left'\n 'Swiping_Left' 'Swiping_Left' 'Swiping_Left' 'Swiping_Left'\n 'Swiping_Left' 'Swiping_Left' 'Swiping_Left' 'Swiping_Left'\n 'Swiping_Left' 'Swiping_Left' 'Swiping_Left' 'Swiping_Left'\n 'Swiping_Left' 'Swiping_Left' 'Swiping_Left' 'Swiping_Left'\n 'Swiping_Left' 'Swiping_Left' 'Swiping_Left' 'Swiping_Left'\n 'Swiping_Left' 'Swiping_Left' 'Swiping_Left' 'Swiping_Left'\n 'Swiping_Left' 'Swiping_Left' 'Swiping_Left' 'Swiping_Left'\n 'Swiping_Left' 'Swiping_Left' 'Swiping_Left' 'Swiping_Left'\n 'Swiping_Left' 'Swiping_Left' 'Swiping_Left' 'Swiping_Left'\n 'Swiping_Left' 'Swiping_Left' 'Swiping_Left' 'Swiping_Left'\n 'Swiping_Left' 'Swiping_Left' 'Swiping_Left' 'Swiping_Left'\n 'Swiping_Left' 'Swiping_Left' 'Swiping_Left' 'Swiping_Left'\n 'Swiping_Left' 'Swiping_Left' 'Swiping_Left' 'Swiping_Left'\n 'Swiping_Left' 'Swiping_Left' 'Swiping_Left' 'Swiping_Left'\n 'Swiping_Left' 'Swiping_Left' 'Swiping_Left' 'Swiping_Left'\n 'Swiping_Left' 'Swiping_Left' 'Swiping_Left' 'Swiping_Left'\n 'Swiping_Left' 'Swiping_Left' 'Swiping_Left' 'Swiping_Left'\n 'Swiping_Left' 'Swiping_Left' 'Swiping_Left' 'Swiping_Left'\n 'Swiping_Right' 'Swiping_Right' 'Swiping_Right' 'Swiping_Right'\n 'Swiping_Right' 'Swiping_Right' 'Swiping_Right' 'Swiping_Right'\n 'Swiping_Right' 'Swiping_Right' 'Swiping_Right' 'Swiping_Right'\n 'Swiping_Right' 'Swiping_Right' 'Swiping_Right' 'Swiping_Right'\n 'Swiping_Right' 'Swiping_Right' 'Swiping_Right' 'Swiping_Right'\n 'Swiping_Right' 'Swiping_Right' 'Swiping_Right' 'Swiping_Right'\n 'Swiping_Right' 'Swiping_Right' 'Swiping_Right' 'Swiping_Right'\n 'Swiping_Right' 'Swiping_Right' 'Swiping_Right' 'Swiping_Right'\n 'Swiping_Right' 'Swiping_Right' 'Swiping_Right' 'Swiping_Right'\n 'Swiping_Right' 'Swiping_Right' 'Swiping_Right' 'Swiping_Right'\n 'Swiping_Right' 'Swiping_Right' 'Swiping_Right' 'Swiping_Right'\n 'Swiping_Right' 'Swiping_Right' 'Swiping_Right' 'Swiping_Right'\n 'Swiping_Right' 'Swiping_Right' 'Swiping_Right' 'Swiping_Right'\n 'Swiping_Right' 'Swiping_Right' 'Swiping_Right' 'Swiping_Right'\n 'Swiping_Right' 'Swiping_Right' 'Swiping_Right' 'Swiping_Right'\n 'Swiping_Right' 'Swiping_Right' 'Swiping_Right' 'Swiping_Right'\n 'Swiping_Right' 'Swiping_Right' 'Swiping_Right' 'Swiping_Right'\n 'Swiping_Right' 'Swiping_Right' 'Swiping_Right' 'Swiping_Right'\n 'Swiping_Right' 'Swiping_Right' 'Swiping_Right' 'Swiping_Right'\n 'Swiping_Right' 'Swiping_Right' 'Swiping_Right' 'Swiping_Right'\n 'Swiping_Right' 'Swiping_Right' 'Swiping_Right' 'Swiping_Right'\n 'Swiping_Right' 'Swiping_Right' 'Swiping_Right' 'Swiping_Right'\n 'Swiping_Right' 'Swiping_Right' 'Swiping_Right' 'Swiping_Right'\n 'Swiping_Right' 'Swiping_Right' 'Swiping_Right' 'Swiping_Right'\n 'Swiping_Right' 'Swiping_Right' 'Swiping_Right' 'Swiping_Right'\n 'Swiping_Right' 'Swiping_Right' 'Swiping_Right' 'Swiping_Right'\n 'Swiping_Up' 'Swiping_Up' 'Swiping_Up' 'Swiping_Up' 'Swiping_Up'\n 'Swiping_Up' 'Swiping_Up' 'Swiping_Up' 'Swiping_Up' 'Swiping_Up'\n 'Swiping_Up' 'Swiping_Up' 'Swiping_Up' 'Swiping_Up' 'Swiping_Up'\n 'Swiping_Up' 'Swiping_Up' 'Swiping_Up' 'Swiping_Up' 'Swiping_Up'\n 'Swiping_Up' 'Swiping_Up' 'Swiping_Up' 'Swiping_Up' 'Swiping_Up'\n 'Swiping_Up' 'Swiping_Up' 'Swiping_Up' 'Swiping_Up' 'Swiping_Up'\n 'Swiping_Up' 'Swiping_Up' 'Swiping_Up' 'Swiping_Up' 'Swiping_Up'\n 'Swiping_Up' 'Swiping_Up' 'Swiping_Up' 'Swiping_Up' 'Swiping_Up'\n 'Swiping_Up' 'Swiping_Up' 'Swiping_Up' 'Swiping_Up' 'Swiping_Up'\n 'Swiping_Up' 'Swiping_Up' 'Swiping_Up' 'Swiping_Up' 'Swiping_Up'\n 'Swiping_Up' 'Swiping_Up' 'Swiping_Up' 'Swiping_Up' 'Swiping_Up'\n 'Swiping_Up' 'Swiping_Up' 'Swiping_Up' 'Swiping_Up' 'Swiping_Up'\n 'Swiping_Up' 'Swiping_Up' 'Swiping_Up' 'Swiping_Up' 'Swiping_Up'\n 'Swiping_Up' 'Swiping_Up' 'Swiping_Up' 'Swiping_Up' 'Swiping_Up'\n 'Swiping_Up' 'Swiping_Up' 'Swiping_Up' 'Swiping_Up' 'Swiping_Up'\n 'Swiping_Up' 'Swiping_Up' 'Swiping_Up' 'Swiping_Up' 'Swiping_Up'\n 'Swiping_Up' 'Swiping_Up' 'Swiping_Up' 'Swiping_Up' 'Swiping_Up'\n 'Swiping_Up' 'Swiping_Up' 'Swiping_Up' 'Swiping_Up' 'Swiping_Up'\n 'Swiping_Up' 'Swiping_Up' 'Swiping_Up' 'Swiping_Up' 'Swiping_Up'\n 'Swiping_Up' 'Swiping_Up' 'Swiping_Up' 'Swiping_Up' 'Swiping_Up'\n 'Swiping_Up' 'Swiping_Up' 'Swiping_Up' 'Swiping_Up' 'Swiping_Down'\n 'Swiping_Down' 'Swiping_Down' 'Swiping_Down' 'Swiping_Down'\n 'Swiping_Down' 'Swiping_Down' 'Swiping_Down' 'Swiping_Down'\n 'Swiping_Down' 'Swiping_Down' 'Swiping_Down' 'Swiping_Down'\n 'Swiping_Down' 'Swiping_Down' 'Swiping_Down' 'Swiping_Down'\n 'Swiping_Down' 'Swiping_Down' 'Swiping_Down' 'Swiping_Down'\n 'Swiping_Down' 'Swiping_Down' 'Swiping_Down' 'Swiping_Down'\n 'Swiping_Down' 'Swiping_Down' 'Swiping_Down' 'Swiping_Down'\n 'Swiping_Down' 'Swiping_Down' 'Swiping_Down' 'Swiping_Down'\n 'Swiping_Down' 'Swiping_Down' 'Swiping_Down' 'Swiping_Down'\n 'Swiping_Down' 'Swiping_Down' 'Swiping_Down' 'Swiping_Down'\n 'Swiping_Down' 'Swiping_Down' 'Swiping_Down' 'Swiping_Down'\n 'Swiping_Down' 'Swiping_Down' 'Swiping_Down' 'Swiping_Down'\n 'Swiping_Down' 'Swiping_Down' 'Swiping_Down' 'Swiping_Down'\n 'Swiping_Down' 'Swiping_Down' 'Swiping_Down' 'Swiping_Down'\n 'Swiping_Down' 'Swiping_Down' 'Swiping_Down' 'Swiping_Down'\n 'Swiping_Down' 'Swiping_Down' 'Swiping_Down' 'Swiping_Down'\n 'Swiping_Down' 'Swiping_Down' 'Swiping_Down' 'Swiping_Down'\n 'Swiping_Down' 'Swiping_Down' 'Swiping_Down' 'Swiping_Down'\n 'Swiping_Down' 'Swiping_Down' 'Swiping_Down' 'Swiping_Down'\n 'Swiping_Down' 'Swiping_Down' 'Swiping_Down' 'Swiping_Down'\n 'Swiping_Down' 'Swiping_Down' 'Swiping_Down' 'Swiping_Down'\n 'Swiping_Down' 'Swiping_Down' 'Swiping_Down' 'Swiping_Down'\n 'Swiping_Down' 'Swiping_Down' 'Swiping_Down' 'Swiping_Down'\n 'Swiping_Down' 'Swiping_Down' 'Swiping_Down' 'Swiping_Down'\n 'Swiping_Down' 'Swiping_Down' 'Swiping_Down' 'Swiping_Down'\n 'Swiping_Down' 'Swiping_Down' 'Swiping_Down']."
     ]
    },
    {
     "data": {
      "image/png": "[encoded data removed]",
      "text/plain": [
       "<Figure size 864x720 with 1 Axes>"
      ]
     },
     "metadata": {
      "needs_background": "light"
     },
     "output_type": "display_data"
    }
   ],
   "source": [
    "plot_results(models,\n",
    "                 data,\n",
    "                 batch_size=batch_size,\n",
    "                 model_name=\"vae_mlp\")"
   ]
  },
  {
   "cell_type": "code",
   "execution_count": 112,
   "metadata": {},
   "outputs": [],
   "source": [
    "def plot_autoencoder_outputs(encoder,k, n, dims):\n",
    "    #decoded_imgs = enconder.predict(x_test)\n",
    "    #x_test_encoded = vae.predict(x_test, batch_size = batch_size)\n",
    "    # number of example digits to show\n",
    "    #n = 5\n",
    "    j=8000\n",
    "    plt.figure(figsize=(20, 5))\n",
    "    for i in range(k, n):\n",
    "        # plot original image\n",
    "        ax = plt.subplot(2, n, i + 1)\n",
    "        plt.imshow(x_test[j].reshape(*dims))\n",
    "        #plt.gray()\n",
    "        ax.get_xaxis().set_visible(False)\n",
    "        ax.get_yaxis().set_visible(False)\n",
    "        if i == n/2:\n",
    "            ax.set_title('Original Images')\n",
    "\n",
    "        # plot reconstruction \n",
    "        ax = plt.subplot(2, n, i + 1 + n)\n",
    "        plt.imshow(x_test_encoded[j].reshape(*dims))\n",
    "        #plt.gray()\n",
    "        ax.get_xaxis().set_visible(False)\n",
    "        ax.get_yaxis().set_visible(False)\n",
    "        if i == n/2:\n",
    "            ax.set_title('Reconstructed Images')\n",
    "        j=j+1\n",
    "    plt.show()"
   ]
  },
  {
   "cell_type": "code",
   "execution_count": 113,
   "metadata": {},
   "outputs": [],
   "source": [
    "x_test_encoded = vae.predict(x_test, batch_size = batch_size)"
   ]
  },
  {
   "cell_type": "code",
   "execution_count": 35,
   "metadata": {},
   "outputs": [],
   "source": [
    "x_test_encoded = None"
   ]
  },
  {
   "cell_type": "code",
   "execution_count": 114,
   "metadata": {
    "scrolled": true
   },
   "outputs": [
    {
     "name": "stdout",
     "output_type": "stream",
     "text": [
      "[[[0.         0.        ]\n",
      "  [0.         0.        ]\n",
      "  [0.         0.        ]\n",
      "  ...\n",
      "  [0.00308764 0.00693544]\n",
      "  [0.00287987 0.00698996]\n",
      "  [0.00287987 0.00698996]]\n",
      "\n",
      " [[0.         0.        ]\n",
      "  [0.         0.        ]\n",
      "  [0.         0.        ]\n",
      "  ...\n",
      "  [0.00308764 0.00693544]\n",
      "  [0.00287987 0.00698996]\n",
      "  [0.00287987 0.00698996]]\n",
      "\n",
      " [[0.         0.        ]\n",
      "  [0.         0.        ]\n",
      "  [0.         0.        ]\n",
      "  ...\n",
      "  [0.00296429 0.0070178 ]\n",
      "  [0.00266254 0.0069656 ]\n",
      "  [0.00266254 0.0069656 ]]\n",
      "\n",
      " ...\n",
      "\n",
      " [[0.         0.        ]\n",
      "  [0.         0.        ]\n",
      "  [0.         0.        ]\n",
      "  ...\n",
      "  [0.         0.        ]\n",
      "  [0.         0.        ]\n",
      "  [0.         0.        ]]\n",
      "\n",
      " [[0.         0.        ]\n",
      "  [0.         0.        ]\n",
      "  [0.         0.        ]\n",
      "  ...\n",
      "  [0.         0.        ]\n",
      "  [0.         0.        ]\n",
      "  [0.         0.        ]]\n",
      "\n",
      " [[0.         0.        ]\n",
      "  [0.         0.        ]\n",
      "  [0.         0.        ]\n",
      "  ...\n",
      "  [0.         0.        ]\n",
      "  [0.         0.        ]\n",
      "  [0.         0.        ]]]\n"
     ]
    }
   ],
   "source": [
    "print(x_test_encoded[10])"
   ]
  },
  {
   "cell_type": "code",
   "execution_count": 115,
   "metadata": {},
   "outputs": [
    {
     "data": {
      "text/plain": [
       "0.47971037"
      ]
     },
     "execution_count": 115,
     "metadata": {},
     "output_type": "execute_result"
    }
   ],
   "source": [
    "np.amax(x_test_encoded)"
   ]
  },
  {
   "cell_type": "code",
   "execution_count": 116,
   "metadata": {},
   "outputs": [
    {
     "name": "stdout",
     "output_type": "stream",
     "text": [
      "[[[0. 0.]\n",
      "  [0. 0.]\n",
      "  [0. 0.]\n",
      "  ...\n",
      "  [0. 0.]\n",
      "  [0. 0.]\n",
      "  [0. 0.]]\n",
      "\n",
      " [[0. 0.]\n",
      "  [0. 0.]\n",
      "  [0. 0.]\n",
      "  ...\n",
      "  [0. 0.]\n",
      "  [0. 0.]\n",
      "  [0. 0.]]\n",
      "\n",
      " [[0. 0.]\n",
      "  [0. 0.]\n",
      "  [0. 0.]\n",
      "  ...\n",
      "  [0. 0.]\n",
      "  [0. 0.]\n",
      "  [0. 0.]]\n",
      "\n",
      " ...\n",
      "\n",
      " [[0. 0.]\n",
      "  [0. 0.]\n",
      "  [0. 0.]\n",
      "  ...\n",
      "  [0. 0.]\n",
      "  [0. 0.]\n",
      "  [0. 0.]]\n",
      "\n",
      " [[0. 0.]\n",
      "  [0. 0.]\n",
      "  [0. 0.]\n",
      "  ...\n",
      "  [0. 0.]\n",
      "  [0. 0.]\n",
      "  [0. 0.]]\n",
      "\n",
      " [[0. 0.]\n",
      "  [0. 0.]\n",
      "  [0. 0.]\n",
      "  ...\n",
      "  [0. 0.]\n",
      "  [0. 0.]\n",
      "  [0. 0.]]]\n"
     ]
    }
   ],
   "source": [
    "print(x_test[10])"
   ]
  },
  {
   "cell_type": "code",
   "execution_count": 117,
   "metadata": {},
   "outputs": [
    {
     "name": "stdout",
     "output_type": "stream",
     "text": [
      "4992/4992 [==============================] - 6s 1ms/step\n",
      "Test loss: 0.038311531116517306\n",
      "Test accuracy: 0.9570099478348707\n"
     ]
    }
   ],
   "source": [
    "vae_test.set_weights(vae.get_weights())\n",
    "\n",
    "#from random import shuffle\n",
    "\n",
    "#shuffle(x_test)\n",
    "\n",
    "score = vae_test.evaluate(x_test, x_test, verbose=1, batch_size=batch_size,steps=None)\n",
    "#score = vae.evaluate(x_test)\n",
    "print('Test loss:', score[0])\n",
    "print('Test accuracy:', score[1])"
   ]
  },
  {
   "cell_type": "code",
   "execution_count": 120,
   "metadata": {},
   "outputs": [
    {
     "data": {
      "image/png": "[encoded data removed]",
      "text/plain": [
       "<Figure size 1280x640 with 12 Axes>"
      ]
     },
     "metadata": {},
     "output_type": "display_data"
    },
    {
     "data": {
      "image/png": "[encoded data removed]",
      "text/plain": [
       "<Figure size 1280x640 with 12 Axes>"
      ]
     },
     "metadata": {},
     "output_type": "display_data"
    }
   ],
   "source": [
    "#Visualisation in 12 chunks\n",
    "x_test_4 = (x_test.astype('float32'))\n",
    "\n",
    "A0= x_test_4.reshape(416,12,2,104,176)\n",
    "\n",
    "A = A0[122]\n",
    "fig=plt.figure(figsize=(16, 8), dpi= 80, facecolor='w', edgecolor='k')\n",
    "for cnt,i in enumerate(range(12)):\n",
    "    ax = plt.subplot(3,4, i + 1)\n",
    "    ax.set_title('Original Images')\n",
    "    plt.imshow(A[i][0], cmap='afmhot', interpolation='nearest')\n",
    "    plt.gca().invert_yaxis()\n",
    "    #plt.savefig(\"mytable{}.png\".format(cnt*2))\n",
    "    plt.imshow(A[i][1], cmap='afmhot', interpolation='nearest')\n",
    "    plt.gca().invert_yaxis()\n",
    "    #plt.savefig(\"mytable{}.png\".format((cnt*2)+1))\n",
    "\n",
    "    \n",
    "#Visualisation in 12 chunks\n",
    "A1= x_test_encoded.reshape(416,12,2,104,176)\n",
    "A = A1[122]\n",
    "fig=plt.figure(figsize=(16, 8), dpi= 80, facecolor='w', edgecolor='k')\n",
    "for cnt,i in enumerate(range(12)):\n",
    "    ax = plt.subplot(3, 4, i + 1)\n",
    "    ax.set_title('Reconstructed Images')\n",
    "    plt.imshow(A[i][0], cmap='afmhot', interpolation='nearest')\n",
    "    plt.gca().invert_yaxis()\n",
    "    #plt.savefig(\"mytable{}.png\".format(cnt*2))\n",
    "    plt.imshow(A[i][1], cmap='afmhot', interpolation='nearest')\n",
    "    plt.gca().invert_yaxis()\n",
    "    #plt.savefig(\"mytable{}.png\".format((cnt*2)+1)"
   ]
  },
  {
   "cell_type": "code",
   "execution_count": 94,
   "metadata": {},
   "outputs": [
    {
     "name": "stdout",
     "output_type": "stream",
     "text": [
      "(4992, 176, 104, 2)\n"
     ]
    }
   ],
   "source": [
    "print(x_test_4.shape)"
   ]
  },
  {
   "cell_type": "code",
   "execution_count": null,
   "metadata": {},
   "outputs": [],
   "source": []
  }
 ],
 "metadata": {
  "kernelspec": {
   "display_name": "TensorFlow-GPU",
   "language": "python",
   "name": "base"
  },
  "language_info": {
   "codemirror_mode": {
    "name": "ipython",
    "version": 3
   },
   "file_extension": ".py",
   "mimetype": "text/x-python",
   "name": "python",
   "nbconvert_exporter": "python",
   "pygments_lexer": "ipython3",
   "version": "3.6.7"
  }
 },
 "nbformat": 4,
 "nbformat_minor": 2
}
