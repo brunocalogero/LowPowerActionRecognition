{
 "cells": [
  {
   "cell_type": "code",
   "execution_count": 1,
   "metadata": {},
   "outputs": [
    {
     "name": "stderr",
     "output_type": "stream",
     "text": [
      "Using TensorFlow backend.\n"
     ]
    }
   ],
   "source": [
    "from keras.layers import Lambda, Input, Dense, Conv2D, Flatten, MaxPooling2D, UpSampling2D, Reshape, Conv2DTranspose\n",
    "from keras.layers import MaxPooling3D, Conv3D, UpSampling3D, Conv3DTranspose\n",
    "from keras.models import Model, Sequential\n",
    "from keras.losses import mse, binary_crossentropy\n",
    "from keras.utils import plot_model\n",
    "from keras import backend as K\n",
    "from keras import metrics\n",
    "from keras.utils import to_categorical\n",
    "\n",
    "\n",
    "import numpy as np\n",
    "import matplotlib.pyplot as plt\n",
    "import argparse\n",
    "import os\n",
    "import datetime as dt\n",
    "import time\n",
    "import glob\n",
    "from IPython import display\n",
    "import tensorflow as tf\n",
    "\n",
    "import datetime as dt"
   ]
  },
  {
   "cell_type": "code",
   "execution_count": 2,
   "metadata": {},
   "outputs": [],
   "source": [
    "def plot_autoencoder_outputs(encoder, n, dims):\n",
    "    #decoded_imgs = enconder.predict(x_test)\n",
    "    x_test_encoded = vae.predict(x_test, batch_size = batch_size)\n",
    "    # number of example digits to show\n",
    "    n = 5\n",
    "    plt.figure(figsize=(20, 9))\n",
    "    for i in range(n):\n",
    "        # plot original image\n",
    "        ax = plt.subplot(2, n, i + 1)\n",
    "        plt.imshow(x_test[i].reshape(*dims))\n",
    "        #plt.gray()\n",
    "        ax.get_xaxis().set_visible(False)\n",
    "        ax.get_yaxis().set_visible(False)\n",
    "        if i == n/2:\n",
    "            ax.set_title('Original Images')\n",
    "\n",
    "        # plot reconstruction \n",
    "        ax = plt.subplot(2, n, i + 1 + n)\n",
    "        plt.imshow(x_test_encoded[i].reshape(*dims))\n",
    "        #plt.gray()\n",
    "        ax.get_xaxis().set_visible(False)\n",
    "        ax.get_yaxis().set_visible(False)\n",
    "        if i == n/2:\n",
    "            ax.set_title('Reconstructed Images')\n",
    "    plt.show()\n",
    "\n",
    "def plot_loss(history):\n",
    "    historydf = pd.DataFrame(history.history, index=history.epoch)\n",
    "    plt.figure(figsize=(8, 6))\n",
    "    historydf.plot(ylim=(0, historydf.values.max()))\n",
    "    plt.title('Loss: %.3f' % history.history['loss'][-1])\n",
    "    \n",
    "def plot_compare_histories(history_list, name_list, plot_accuracy=True):\n",
    "    dflist = []\n",
    "    min_epoch = len(history_list[0].epoch)\n",
    "    losses = []\n",
    "    for history in history_list:\n",
    "        h = {key: val for key, val in history.history.items() if not key.startswith('val_')}\n",
    "        dflist.append(pd.DataFrame(h, index=history.epoch))\n",
    "        min_epoch = min(min_epoch, len(history.epoch))\n",
    "        losses.append(h['loss'][-1])\n",
    "\n",
    "    historydf = pd.concat(dflist, axis=1)\n",
    "\n",
    "    metrics = dflist[0].columns\n",
    "    idx = pd.MultiIndex.from_product([name_list, metrics], names=['model', 'metric'])\n",
    "    historydf.columns = idx\n",
    "    \n",
    "    plt.figure(figsize=(6, 8))\n",
    "\n",
    "    ax = plt.subplot(211)\n",
    "    historydf.xs('loss', axis=1, level='metric').plot(ylim=(0,1), ax=ax)\n",
    "    plt.title(\"Training Loss: \" + ' vs '.join([str(round(x, 3)) for x in losses]))\n",
    "    \n",
    "    if plot_accuracy:\n",
    "        ax = plt.subplot(212)\n",
    "        historydf.xs('acc', axis=1, level='metric').plot(ylim=(0,1), ax=ax)\n",
    "        plt.title(\"Accuracy\")\n",
    "        plt.xlabel(\"Epochs\")\n",
    "    \n",
    "    plt.xlim(0, min_epoch-1)\n",
    "    plt.tight_layout()"
   ]
  },
  {
   "cell_type": "code",
   "execution_count": 3,
   "metadata": {},
   "outputs": [],
   "source": [
    "def load_JESTER(path):\n",
    "    \"\"\"\n",
    "    Imports the JESTER Dataset (12,2,100,176)\n",
    "    \"\"\"\n",
    "    xs_train, ys_train, xs_test, ys_test = [], [], [], []\n",
    "\n",
    "    classList=['Swiping_Down', 'Swiping_Left', 'Swiping_Right', 'Swiping_Up',\n",
    "                      'Sliding_Two_Fingers_Down', 'Sliding_Two_Fingers_Left', 'Sliding_Two_Fingers_Right', 'Sliding_Two_Fingers_Up',\n",
    "                      'Zooming_In_With_Two_Fingers', 'Zooming_Out_With_Two_Fingers']\n",
    "    \n",
    "    #classList=['Swiping_Left', 'Swiping_Right', 'Swiping_Up']    \n",
    "    for class_index in classList:\n",
    "        for (root, dirs, f) in os.walk('{0}/n_train_10/{1}'.format(path, str(class_index))):\n",
    "            cnt=0\n",
    "            print('Loading Train set')\n",
    "            for file in f:\n",
    "                cnt += 1\n",
    "                if (cnt == 1001):\n",
    "                    #print('Percent : {}%'.format(round((cnt / len(f)) * 100, 2)))\n",
    "                    break\n",
    "                \n",
    "                X=np.load('{0}/n_train_10/{1}/{2}'.format(path, str(class_index), file))\n",
    "                xs_train.append(X)\n",
    "                ys_train.append(class_index)\n",
    "\n",
    "        for (root, dirs, f) in os.walk('{0}/n_test/{1}'.format(path, str(class_index))):\n",
    "            cnt=0\n",
    "            print('Loading Test set')\n",
    "            for file in f:\n",
    "                cnt += 1\n",
    "                if (cnt == 105):\n",
    "                    print('Percent : {}%'.format(round((cnt / len(f)) * 100, 2)))\n",
    "                    break\n",
    "                        \n",
    "                X = np.load('{0}/n_test/{1}/{2}'.format(path, str(class_index), file))\n",
    "                xs_test.append(X)\n",
    "                ys_test.append(class_index)\n",
    "\n",
    "    Xtr = np.array(xs_train)\n",
    "    Ytr = np.array(ys_train)\n",
    "    Xte = np.array(xs_test)\n",
    "    Yte = np.array(ys_test)\n",
    "    \n",
    "    return Xtr, Ytr, Xte, Yte"
   ]
  },
  {
   "cell_type": "code",
   "execution_count": 4,
   "metadata": {},
   "outputs": [
    {
     "name": "stdout",
     "output_type": "stream",
     "text": [
      "Loading Train set\n",
      "Loading Test set\n",
      "Percent : 20.83%\n",
      "Loading Train set\n",
      "Loading Test set\n",
      "Percent : 21.88%\n",
      "Loading Train set\n",
      "Loading Test set\n",
      "Percent : 22.15%\n",
      "Loading Train set\n",
      "Loading Test set\n",
      "Percent : 21.3%\n",
      "Loading Train set\n",
      "Loading Test set\n",
      "Percent : 20.59%\n",
      "Loading Train set\n",
      "Loading Test set\n",
      "Percent : 20.79%\n",
      "Loading Train set\n",
      "Loading Test set\n",
      "Percent : 20.87%\n",
      "Loading Train set\n",
      "Loading Test set\n",
      "Percent : 20.87%\n",
      "Loading Train set\n",
      "Loading Test set\n",
      "Percent : 20.55%\n",
      "Loading Train set\n",
      "Loading Test set\n",
      "Percent : 31.44%\n",
      "Training data shape:  (10000, 12, 2, 100, 176)\n",
      "Training labels shape:  (10000,)\n",
      "Test data shape:  (1040, 12, 2, 100, 176)\n",
      "Test labels shape:  (1040,)\n"
     ]
    }
   ],
   "source": [
    "dataset_class_path = 'M:/LowPowerActionRecognition/CNN/JESTER/datasets/n_JESTURE_10'\n",
    "x_train_1, y_train, x_test_1, y_test = load_JESTER(dataset_class_path)\n",
    "\n",
    "# As a sanity check, we print out the size of the training and test data.\n",
    "print('Training data shape: ', x_train_1.shape)\n",
    "print('Training labels shape: ', y_train.shape)\n",
    "print('Test data shape: ', x_test_1.shape)\n",
    "print('Test labels shape: ', y_test.shape)"
   ]
  },
  {
   "cell_type": "code",
   "execution_count": 5,
   "metadata": {},
   "outputs": [],
   "source": [
    "# to check memory size of the objects\n",
    "import sys"
   ]
  },
  {
   "cell_type": "code",
   "execution_count": 6,
   "metadata": {},
   "outputs": [
    {
     "name": "stdout",
     "output_type": "stream",
     "text": [
      "Memory size of x_train_1 is 16896000160 bytes\n",
      "Memory size of x_test_1 is 1757184160 bytes\n"
     ]
    }
   ],
   "source": [
    "print(\"Memory size of x_train_1 is \" + str(sys.getsizeof(x_train_1)) + \" bytes\")\n",
    "print(\"Memory size of x_test_1 is \" + str(sys.getsizeof(x_test_1)) + \" bytes\")"
   ]
  },
  {
   "cell_type": "code",
   "execution_count": 7,
   "metadata": {},
   "outputs": [
    {
     "name": "stdout",
     "output_type": "stream",
     "text": [
      "Training data shape:  (10000, 12, 2, 100, 176)\n",
      "Training labels shape:  (10000,)\n",
      "Test data shape:  (1040, 12, 2, 100, 176)\n",
      "Test labels shape:  (1040,)\n",
      "Training data shape:  (120000, 100, 176, 2)\n",
      "Test data shape:  (12480, 100, 176, 2)\n",
      "\n",
      "Memory size of x_train_1 is 16 bytes\n",
      "Memory size of x_test_1 is 16 bytes\n",
      "Memory size of x_train_2 is 144 bytes\n",
      "Memory size of x_test_2 is 144 bytes\n"
     ]
    }
   ],
   "source": [
    "# As a sanity check, we print out the size of the training and test data.\n",
    "print('Training data shape: ', x_train_1.shape)\n",
    "print('Training labels shape: ', y_train.shape)\n",
    "print('Test data shape: ', x_test_1.shape)\n",
    "print('Test labels shape: ', y_test.shape)\n",
    "\n",
    "x_train_2 = x_train_1.reshape(120000, 100, 176, 2)\n",
    "x_train_1 = None\n",
    "\n",
    "x_test_2 = x_test_1.reshape(12480, 100, 176, 2)\n",
    "x_test_1 = None\n",
    "\n",
    "print('Training data shape: ', x_train_2.shape)\n",
    "print('Test data shape: ', x_test_2.shape)\n",
    "print()\n",
    "print(\"Memory size of x_train_1 is \" + str(sys.getsizeof(x_train_1)) + \" bytes\")\n",
    "print(\"Memory size of x_test_1 is \" + str(sys.getsizeof(x_test_1)) + \" bytes\")\n",
    "print(\"Memory size of x_train_2 is \" + str(sys.getsizeof(x_train_2)) + \" bytes\")\n",
    "print(\"Memory size of x_test_2 is \" + str(sys.getsizeof(x_test_2)) + \" bytes\")"
   ]
  },
  {
   "cell_type": "code",
   "execution_count": 8,
   "metadata": {},
   "outputs": [
    {
     "data": {
      "text/plain": [
       "0"
      ]
     },
     "execution_count": 8,
     "metadata": {},
     "output_type": "execute_result"
    }
   ],
   "source": [
    "np.amin(x_train_2[0])"
   ]
  },
  {
   "cell_type": "code",
   "execution_count": 9,
   "metadata": {},
   "outputs": [
    {
     "name": "stdout",
     "output_type": "stream",
     "text": [
      "Training data shape:  (120000, 104, 176, 2)\n",
      "Training labels shape:  (10000,)\n",
      "Test data shape:  (12480, 104, 176, 2)\n",
      "Test labels shape:  (1040,)\n",
      "\n",
      "Memory size of x_train_2 is 144 bytes\n",
      "Memory size of x_test_2 is 144 bytes\n",
      "Memory size of x_train_3 is 35143680144 bytes\n",
      "Memory size of x_test_3 is 3654942864 bytes\n"
     ]
    }
   ],
   "source": [
    "x_train_3 = np.zeros((120000, 104, 176, 2))\n",
    "x_test_3 = np.zeros((12480, 104, 176, 2))\n",
    "4992\n",
    "for i in range (0, x_train_2.shape[0]):\n",
    "    #print(i)\n",
    "    x_train_3[i] = np.pad(x_train_2[i], ((2, 2), (0, 0), (0, 0)), 'edge')\n",
    "    if (i < x_test_2.shape[0]):\n",
    "        x_test_3[i] = np.pad(x_test_2[i], ((2, 2), (0, 0), (0, 0)), 'edge')\n",
    "\n",
    "\n",
    "# As a sanity check, we print out the size of the training and test data.\n",
    "print('Training data shape: ', x_train_3.shape)\n",
    "print('Training labels shape: ', y_train.shape)\n",
    "print('Test data shape: ', x_test_3.shape)\n",
    "print('Test labels shape: ', y_test.shape)\n",
    "\n",
    "\n",
    "print()\n",
    "print(\"Memory size of x_train_2 is \" + str(sys.getsizeof(x_train_2)) + \" bytes\")\n",
    "print(\"Memory size of x_test_2 is \" + str(sys.getsizeof(x_test_2)) + \" bytes\")\n",
    "print(\"Memory size of x_train_3 is \" + str(sys.getsizeof(x_train_3)) + \" bytes\")\n",
    "print(\"Memory size of x_test_3 is \" + str(sys.getsizeof(x_test_3)) + \" bytes\")"
   ]
  },
  {
   "cell_type": "code",
   "execution_count": 10,
   "metadata": {},
   "outputs": [],
   "source": [
    "x_train_2 = None\n",
    "x_train_2 = None"
   ]
  },
  {
   "cell_type": "code",
   "execution_count": 11,
   "metadata": {},
   "outputs": [
    {
     "name": "stdout",
     "output_type": "stream",
     "text": [
      "\n",
      "Memory size of x_train_3 is 16 bytes\n",
      "Memory size of x_test_3 is 16 bytes\n",
      "Memory size of x_train is 8785920144 bytes\n",
      "Memory size of x_test is 913735824 bytes\n"
     ]
    }
   ],
   "source": [
    "# Flatten the dataset from range -1 to 1. Since the maxima and minima lies btw 15 so we divide it by 15.\n",
    "x_train = (x_train_3.astype('float16'))\n",
    "x_train_3 = None\n",
    "\n",
    "x_test = (x_test_3.astype('float16'))\n",
    "x_test_3 = None\n",
    "\n",
    "print()\n",
    "print(\"Memory size of x_train_3 is \" + str(sys.getsizeof(x_train_3)) + \" bytes\")\n",
    "print(\"Memory size of x_test_3 is \" + str(sys.getsizeof(x_test_3)) + \" bytes\")\n",
    "print(\"Memory size of x_train is \" + str(sys.getsizeof(x_train)) + \" bytes\")\n",
    "print(\"Memory size of x_test is \" + str(sys.getsizeof(x_test)) + \" bytes\")\n"
   ]
  },
  {
   "cell_type": "code",
   "execution_count": 12,
   "metadata": {
    "scrolled": true
   },
   "outputs": [
    {
     "name": "stdout",
     "output_type": "stream",
     "text": [
      "(120000, 104, 176, 2)\n",
      "(12480, 104, 176, 2)\n"
     ]
    }
   ],
   "source": [
    "print(x_train.shape)\n",
    "print(x_test.shape)"
   ]
  },
  {
   "cell_type": "code",
   "execution_count": 13,
   "metadata": {},
   "outputs": [
    {
     "data": {
      "text/plain": [
       "4.0"
      ]
     },
     "execution_count": 13,
     "metadata": {},
     "output_type": "execute_result"
    }
   ],
   "source": [
    "np.amax(x_test)"
   ]
  },
  {
   "cell_type": "code",
   "execution_count": 14,
   "metadata": {},
   "outputs": [
    {
     "name": "stdout",
     "output_type": "stream",
     "text": [
      "Normalisation stage:\n",
      "Start learning at 2019-04-02 02:30:57.867857\n",
      "Stop learning 2019-04-02 02:33:00.617255\n",
      "Elapsed learning 0:02:02.749398\n"
     ]
    }
   ],
   "source": [
    "# print('1')\n",
    "# x_train[x_train!=0]+=10\n",
    "# x_test[x_test!=0]+=10\n",
    "\n",
    "# print('2')\n",
    "\n",
    "# #Jesture range from 0-5\n",
    "# #x_train = x_train/45\n",
    "# x_train[:] = [x / 15 for x in x_train]\n",
    "# #x_test = x_test/45\n",
    "# x_test[:] = [x / 15 for x in x_test]\n",
    "\n",
    "\n",
    "\n",
    "print(\"Normalisation stage:\")\n",
    "\n",
    "#Jesture range from 0-5\n",
    "#x_train = x_train/45\n",
    "start_time = dt.datetime.now()\n",
    "print('Start learning at {}'.format(str(start_time)))\n",
    "\n",
    "x_train[:] = [x / 5 for x in x_train]\n",
    "#x_test = x_test/45\n",
    "x_test[:] = [x / 5 for x in x_test]\n",
    "\n",
    "end_time = dt.datetime.now() \n",
    "print('Stop learning {}'.format(str(end_time)))\n",
    "elapsed_time= end_time - start_time\n",
    "print('Elapsed learning {}'.format(str(elapsed_time)))"
   ]
  },
  {
   "cell_type": "code",
   "execution_count": 15,
   "metadata": {},
   "outputs": [
    {
     "data": {
      "text/plain": [
       "0.0"
      ]
     },
     "execution_count": 15,
     "metadata": {},
     "output_type": "execute_result"
    }
   ],
   "source": [
    "np.amin(x_train[0])"
   ]
  },
  {
   "cell_type": "code",
   "execution_count": 30,
   "metadata": {},
   "outputs": [],
   "source": [
    "epsilon_std=0.001\n",
    "\n",
    "# z = z_mean + sqrt(var)*eps\n",
    "#returns random value of z with the gives mean and variance\n",
    "def sampling(args):\n",
    "    z_mean, z_log_sigma = args\n",
    "    epsilon = K.random_normal(shape=(batch_size, latent_dim), mean=0.0, stddev=epsilon_std)\n",
    "    return z_mean + K.exp(z_log_sigma/2) * epsilon"
   ]
  },
  {
   "cell_type": "code",
   "execution_count": 31,
   "metadata": {},
   "outputs": [],
   "source": [
    "#Defining number of kernels, strides and pooling sizes per layer\n",
    "\n",
    "filters_1 = 32\n",
    "filters_2 = 64\n",
    "filters_3 = 128\n",
    "#filters_1 = 32\n",
    "#filters_2 = 64\n",
    "#filters_3 = 128\n",
    "\n",
    "# filters_4 = 64\n",
    "# filters_5 = 128\n",
    "# filters_6 = 256\n",
    "# filters_7 = 512\n",
    "\n",
    "stride_1 = (3, 3)\n",
    "stride_2 = (3, 3)\n",
    "stride_3 = (3, 3)\n",
    "# stride_4 = (2, 2)\n",
    "# stride_5 = (2, 2)\n",
    "# stride_6 = (2, 2)\n",
    "# stride_7 = (2, 2)\n",
    "\n",
    "pool_1 = (2, 2)\n",
    "pool_2 = (2, 2)\n",
    "pool_3 = (2, 2)\n",
    "# pool_4 = (2, 2)\n",
    "# pool_5 = (2, 2)\n",
    "# pool_6 = (2, 2)\n",
    "# pool_7 = (2, 2)"
   ]
  },
  {
   "cell_type": "code",
   "execution_count": 32,
   "metadata": {},
   "outputs": [],
   "source": [
    "#input_shape = (image_size, image_size, 1)\n",
    "batch_size = 32 #fit_generator\n",
    "#kernel_size = 3\n",
    "#filters = 16\n",
    "latent_dim = 70\n",
    "epochs = 10"
   ]
  },
  {
   "cell_type": "code",
   "execution_count": 33,
   "metadata": {},
   "outputs": [],
   "source": [
    "#Defining encoder\n",
    "\n",
    "inputs = Input(shape = x_train[0].shape)\n",
    "\n",
    "x = MaxPooling2D(pool_1, padding='same')(inputs)\n",
    "\n",
    "x = Conv2D(filters_1, stride_1, activation='relu', padding='same')(x)\n",
    "x = MaxPooling2D(pool_2, padding='same')(x)\n",
    "\n",
    "x = Conv2D(filters_2, stride_2, activation='relu', padding='same')(x)\n",
    "x = MaxPooling2D(pool_2, padding='same')(x)\n",
    "\n",
    "x = Conv2D(filters_3, stride_3, activation='relu', padding='same')(x)\n",
    "#x = MaxPooling3D(pool_3, padding='same')(x)\n",
    "\n",
    "shape = K.int_shape(x)\n",
    "\n",
    "x = Flatten()(x)\n",
    "\n",
    "#Adding 1 hidden layer\n",
    "#x = Dense(512, activation='relu')(x)\n",
    "x = Dense(128, activation='relu')(x)\n",
    "#x = Dense(64, activation='relu')(x)\n",
    "\n",
    "\n",
    "z_mean = Dense(latent_dim, name='z_mean')(x)\n",
    "z_log_var = Dense(latent_dim, name='z_log_var')(x)\n",
    "z = Lambda(sampling, output_shape=(latent_dim,), name='z')([z_mean, z_log_var])"
   ]
  },
  {
   "cell_type": "code",
   "execution_count": 34,
   "metadata": {},
   "outputs": [
    {
     "name": "stdout",
     "output_type": "stream",
     "text": [
      "__________________________________________________________________________________________________\n",
      "Layer (type)                    Output Shape         Param #     Connected to                     \n",
      "==================================================================================================\n",
      "input_2 (InputLayer)            (None, 104, 176, 2)  0                                            \n",
      "__________________________________________________________________________________________________\n",
      "max_pooling2d_4 (MaxPooling2D)  (None, 52, 88, 2)    0           input_2[0][0]                    \n",
      "__________________________________________________________________________________________________\n",
      "conv2d_4 (Conv2D)               (None, 52, 88, 32)   608         max_pooling2d_4[0][0]            \n",
      "__________________________________________________________________________________________________\n",
      "max_pooling2d_5 (MaxPooling2D)  (None, 26, 44, 32)   0           conv2d_4[0][0]                   \n",
      "__________________________________________________________________________________________________\n",
      "conv2d_5 (Conv2D)               (None, 26, 44, 64)   18496       max_pooling2d_5[0][0]            \n",
      "__________________________________________________________________________________________________\n",
      "max_pooling2d_6 (MaxPooling2D)  (None, 13, 22, 64)   0           conv2d_5[0][0]                   \n",
      "__________________________________________________________________________________________________\n",
      "conv2d_6 (Conv2D)               (None, 13, 22, 128)  73856       max_pooling2d_6[0][0]            \n",
      "__________________________________________________________________________________________________\n",
      "flatten_2 (Flatten)             (None, 36608)        0           conv2d_6[0][0]                   \n",
      "__________________________________________________________________________________________________\n",
      "dense_4 (Dense)                 (None, 128)          4685952     flatten_2[0][0]                  \n",
      "__________________________________________________________________________________________________\n",
      "z_mean (Dense)                  (None, 70)           9030        dense_4[0][0]                    \n",
      "__________________________________________________________________________________________________\n",
      "z_log_var (Dense)               (None, 70)           9030        dense_4[0][0]                    \n",
      "__________________________________________________________________________________________________\n",
      "z (Lambda)                      (None, 70)           0           z_mean[0][0]                     \n",
      "                                                                 z_log_var[0][0]                  \n",
      "==================================================================================================\n",
      "Total params: 4,796,972\n",
      "Trainable params: 4,796,972\n",
      "Non-trainable params: 0\n",
      "__________________________________________________________________________________________________\n"
     ]
    }
   ],
   "source": [
    "encoder = Model(inputs, [z_mean, z_log_var, z], name='encoder')\n",
    "encoder.summary()\n",
    "#plot_model(encoder, to_file='vae_cnn_encoder.png', show_shapes=True)\n"
   ]
  },
  {
   "cell_type": "code",
   "execution_count": 35,
   "metadata": {},
   "outputs": [],
   "source": [
    "#Defining Decoder\n",
    "latent_inputs = Input(shape=(latent_dim,), name='z_sampling')\n",
    "#x = Dense(64, activation='relu')(latent_inputs)\n",
    "x = Dense(128, activation='relu')(latent_inputs)\n",
    "#x = Dense(512, activation='relu')(x)\n",
    "\n",
    "#x = Dense(512, activation='relu')(latent_inputs)\n",
    "\n",
    "x = Dense(shape[1] * shape[2] * shape[3], activation='relu')(x)\n",
    "x = Reshape((shape[1], shape[2], shape[3]))(x)\n",
    "\n",
    "\n",
    "x = Conv2DTranspose(filters_2, stride_3, activation='relu', padding='same')(x)\n",
    "x = UpSampling2D(pool_3)(x)\n",
    "\n",
    "x = Conv2DTranspose(filters_1, stride_2, activation='relu', padding='same')(x)\n",
    "x = UpSampling2D(pool_2)(x)\n",
    "\n",
    "#x = Conv3DTranspose(filters_1, stride_1, activation='relu', padding='same')(x)\n",
    "#x = UpSampling3D(pool_1)(x)\n",
    "\n",
    "x = Conv2DTranspose(filters=2,\n",
    "                          kernel_size=3,\n",
    "                          activation='relu',\n",
    "                          padding='same',\n",
    "                          name='decoder_output')(x)\n",
    "outputs = UpSampling2D(pool_1)(x)\n"
   ]
  },
  {
   "cell_type": "code",
   "execution_count": 36,
   "metadata": {},
   "outputs": [
    {
     "name": "stdout",
     "output_type": "stream",
     "text": [
      "_________________________________________________________________\n",
      "Layer (type)                 Output Shape              Param #   \n",
      "=================================================================\n",
      "z_sampling (InputLayer)      (None, 70)                0         \n",
      "_________________________________________________________________\n",
      "dense_5 (Dense)              (None, 128)               9088      \n",
      "_________________________________________________________________\n",
      "dense_6 (Dense)              (None, 36608)             4722432   \n",
      "_________________________________________________________________\n",
      "reshape_2 (Reshape)          (None, 13, 22, 128)       0         \n",
      "_________________________________________________________________\n",
      "conv2d_transpose_3 (Conv2DTr (None, 13, 22, 64)        73792     \n",
      "_________________________________________________________________\n",
      "up_sampling2d_4 (UpSampling2 (None, 26, 44, 64)        0         \n",
      "_________________________________________________________________\n",
      "conv2d_transpose_4 (Conv2DTr (None, 26, 44, 32)        18464     \n",
      "_________________________________________________________________\n",
      "up_sampling2d_5 (UpSampling2 (None, 52, 88, 32)        0         \n",
      "_________________________________________________________________\n",
      "decoder_output (Conv2DTransp (None, 52, 88, 2)         578       \n",
      "_________________________________________________________________\n",
      "up_sampling2d_6 (UpSampling2 (None, 104, 176, 2)       0         \n",
      "=================================================================\n",
      "Total params: 4,824,354\n",
      "Trainable params: 4,824,354\n",
      "Non-trainable params: 0\n",
      "_________________________________________________________________\n"
     ]
    }
   ],
   "source": [
    "decoder = Model(latent_inputs, outputs, name='decoder')\n",
    "decoder.summary()\n",
    "#plot_model(decoder, to_file='vae_cnn_decoder.png', show_shapes=True)"
   ]
  },
  {
   "cell_type": "code",
   "execution_count": 37,
   "metadata": {},
   "outputs": [],
   "source": [
    "# instantiate VAE model\n",
    "outputs = decoder(encoder(inputs)[2])\n",
    "vae = Model(inputs, outputs, name='vae_mlp')\n",
    "vae_test=Model(inputs, outputs, name='vae_test')"
   ]
  },
  {
   "cell_type": "code",
   "execution_count": 38,
   "metadata": {},
   "outputs": [],
   "source": [
    "from math import pow"
   ]
  },
  {
   "cell_type": "code",
   "execution_count": 39,
   "metadata": {},
   "outputs": [
    {
     "name": "stdout",
     "output_type": "stream",
     "text": [
      "_________________________________________________________________\n",
      "Layer (type)                 Output Shape              Param #   \n",
      "=================================================================\n",
      "input_2 (InputLayer)         (None, 104, 176, 2)       0         \n",
      "_________________________________________________________________\n",
      "encoder (Model)              [(None, 70), (None, 70),  4796972   \n",
      "_________________________________________________________________\n",
      "decoder (Model)              (None, 104, 176, 2)       4824354   \n",
      "=================================================================\n",
      "Total params: 9,621,326\n",
      "Trainable params: 9,621,326\n",
      "Non-trainable params: 0\n",
      "_________________________________________________________________\n",
      "_________________________________________________________________\n",
      "Layer (type)                 Output Shape              Param #   \n",
      "=================================================================\n",
      "input_2 (InputLayer)         (None, 104, 176, 2)       0         \n",
      "_________________________________________________________________\n",
      "encoder (Model)              [(None, 70), (None, 70),  4796972   \n",
      "_________________________________________________________________\n",
      "decoder (Model)              (None, 104, 176, 2)       4824354   \n",
      "=================================================================\n",
      "Total params: 9,621,326\n",
      "Trainable params: 9,621,326\n",
      "Non-trainable params: 0\n",
      "_________________________________________________________________\n"
     ]
    }
   ],
   "source": [
    "# Compute VAE loss\n",
    "\n",
    "# comparison = tf.math.greater(inputs, 0)\n",
    "# new_out =  tf.where (comparison, outputs * 1000, outputs)\n",
    "# x.assign(new_out)\n",
    "# K.set_value(outputs, new_out)\n",
    "# conditional_assignment_o = tf.assign(outputs, new_out)\n",
    "# conditional_assignment_i = inputs.assign(inputs * 1000)\n",
    "from keras.optimizers import Adam \n",
    "\n",
    "# xent_loss =  2312*binary_crossentropy(K.flatten(conditional_assignment_i), K.flatten(conditional_assignment_o))\n",
    "xent_loss =  36608*binary_crossentropy(K.flatten(inputs), K.flatten(outputs))\n",
    "#xent_loss = 439296 * binary_crossentropy(K.flatten(inputs), K.flatten(outputs))\n",
    "#xent_loss = 422400*binary_crossentropy(inputs, outputs)\n",
    "\n",
    "kl_loss = -0.5*K.sum(1 + z_log_var - K.square(z_mean) - K.exp(z_log_var), axis=-1)\n",
    "# vae_loss =abs(K.mean(xent_loss + kl_loss))\n",
    "vae_loss =abs(K.mean(xent_loss + 20*kl_loss))\n",
    "\n",
    "opt = Adam(lr=0.0001, beta_1=0.9, beta_2=0.999)\n",
    "vae.add_loss(vae_loss)\n",
    "vae.compile(optimizer=opt, metrics=['accuracy'])\n",
    "vae_test.compile(optimizer='adam',loss='binary_crossentropy', metrics=['accuracy'])\n",
    "vae.summary()\n",
    "vae_test.summary()"
   ]
  },
  {
   "cell_type": "code",
   "execution_count": 40,
   "metadata": {},
   "outputs": [],
   "source": [
    "from keras.callbacks import TensorBoard, ModelCheckpoint, EarlyStopping, CSVLogger\n",
    "import time \n",
    "\n",
    "class_path = 'M:/LowPowerActionRecognition'\n",
    "# Helper: Save the model.\n",
    "checkpointer = ModelCheckpoint(\n",
    "    filepath=os.path.join(class_path, 'autoencoder', 'JESTER', 'scripts2', 'checkpoints' \\\n",
    "    '.{epoch:03d}-{val_loss:.3f}.hdf5'),\n",
    "    verbose=1,\n",
    "    save_best_only=True)\n",
    "# Helper: TensorBoard\n",
    "tb = TensorBoard(log_dir=os.path.join(class_path, 'autoencoder', 'JESTER', 'scripts2','tf_logs'))\n",
    "\n",
    "# Helper: Stop when we stop learning.\n",
    "early_stopper = EarlyStopping(patience=3)\n",
    "\n",
    "# Helper: Save results.\n",
    "timestamp = time.time()\n",
    "csv_logger = CSVLogger(os.path.join(class_path, 'autoencoder', 'JESTER', 'scripts2', 'result_logs','training-' + \\\n",
    "    str(timestamp) + '.log'))"
   ]
  },
  {
   "cell_type": "code",
   "execution_count": 41,
   "metadata": {},
   "outputs": [
    {
     "name": "stdout",
     "output_type": "stream",
     "text": [
      "Start learning at 2019-04-02 02:59:53.365241\n",
      "Train on 108000 samples, validate on 12000 samples\n",
      "Epoch 1/10\n",
      "108000/108000 [==============================] - 2852s 26ms/step - loss: 1183.7514 - val_loss: 714.6708\n",
      "\n",
      "Epoch 00001: val_loss improved from inf to 714.67077, saving model to M:/LowPowerActionRecognition\\autoencoder\\JESTER\\scripts2\\checkpoints.001-714.671.hdf5\n",
      "Epoch 2/10\n",
      "108000/108000 [==============================] - 2842s 26ms/step - loss: 1095.1784 - val_loss: 689.1772\n",
      "\n",
      "Epoch 00002: val_loss improved from 714.67077 to 689.17717, saving model to M:/LowPowerActionRecognition\\autoencoder\\JESTER\\scripts2\\checkpoints.002-689.177.hdf5\n",
      "Epoch 3/10\n",
      "108000/108000 [==============================] - 2851s 26ms/step - loss: 1076.4515 - val_loss: 709.0744\n",
      "\n",
      "Epoch 00003: val_loss did not improve from 689.17717\n",
      "Epoch 4/10\n",
      "108000/108000 [==============================] - 2846s 26ms/step - loss: 1065.5870 - val_loss: 680.7769\n",
      "\n",
      "Epoch 00004: val_loss improved from 689.17717 to 680.77693, saving model to M:/LowPowerActionRecognition\\autoencoder\\JESTER\\scripts2\\checkpoints.004-680.777.hdf5\n",
      "Epoch 5/10\n",
      "108000/108000 [==============================] - 2844s 26ms/step - loss: 1060.5190 - val_loss: 671.7019\n",
      "\n",
      "Epoch 00005: val_loss improved from 680.77693 to 671.70193, saving model to M:/LowPowerActionRecognition\\autoencoder\\JESTER\\scripts2\\checkpoints.005-671.702.hdf5\n",
      "Epoch 6/10\n",
      "108000/108000 [==============================] - 2841s 26ms/step - loss: 1054.4882 - val_loss: 669.0452\n",
      "\n",
      "Epoch 00006: val_loss improved from 671.70193 to 669.04521, saving model to M:/LowPowerActionRecognition\\autoencoder\\JESTER\\scripts2\\checkpoints.006-669.045.hdf5\n",
      "Epoch 7/10\n",
      "108000/108000 [==============================] - 2843s 26ms/step - loss: 1053.9752 - val_loss: 667.7164\n",
      "\n",
      "Epoch 00007: val_loss improved from 669.04521 to 667.71637, saving model to M:/LowPowerActionRecognition\\autoencoder\\JESTER\\scripts2\\checkpoints.007-667.716.hdf5\n",
      "Epoch 8/10\n",
      "108000/108000 [==============================] - 2841s 26ms/step - loss: 1047.6794 - val_loss: 662.7455\n",
      "\n",
      "Epoch 00008: val_loss improved from 667.71637 to 662.74546, saving model to M:/LowPowerActionRecognition\\autoencoder\\JESTER\\scripts2\\checkpoints.008-662.745.hdf5\n",
      "Epoch 9/10\n",
      "108000/108000 [==============================] - 2841s 26ms/step - loss: 1048.0099 - val_loss: 662.8874\n",
      "\n",
      "Epoch 00009: val_loss did not improve from 662.74546\n",
      "Epoch 10/10\n",
      "108000/108000 [==============================] - 2840s 26ms/step - loss: 1045.5084 - val_loss: 679.0485\n",
      "\n",
      "Epoch 00010: val_loss did not improve from 662.74546\n",
      "Stop learning 2019-04-02 10:54:02.440410\n",
      "Elapsed learning 7:54:09.075169\n"
     ]
    }
   ],
   "source": [
    "#STOP HERE\n",
    "start_time = dt.datetime.now()\n",
    "print('Start learning at {}'.format(str(start_time)))\n",
    "\n",
    "history=vae.fit(\n",
    "        x=x_train, \n",
    "        shuffle = True,\n",
    "        epochs = epochs, #10\n",
    "        batch_size= 32,\n",
    "        callbacks = [tb, early_stopper, csv_logger, checkpointer],\n",
    "        validation_split = 0.1)\n",
    "\n",
    "end_time = dt.datetime.now() \n",
    "print('Stop learning {}'.format(str(end_time)))\n",
    "elapsed_time= end_time - start_time\n",
    "print('Elapsed learning {}'.format(str(elapsed_time)))"
   ]
  },
  {
   "cell_type": "code",
   "execution_count": 42,
   "metadata": {},
   "outputs": [],
   "source": [
    "from keras.models import load_model\n",
    "\n",
    "# Creates a HDF5 file 'my_model.h5'\n",
    "vae.save('CVAE_10class_6.h5')\n",
    "encoder.save('encoder_10class_6.h5')\n",
    "decoder.save('decoder_10class_6.h5')"
   ]
  },
  {
   "cell_type": "markdown",
   "metadata": {},
   "source": [
    "ver1. all data is dark and erased. Not learning\n",
    "ver2. some data is there but very wek and noisy. It can be because of the latent space being small or need to change the architecture.\n",
    "ver3. Change dense value to 128 and keep latent space to 50, also beta =1. Result not bad but lots of noise and not clear for 2 fingers swipe. So want to increase dense to store more information as a test.\n",
    "ver4. Increase the dense to 256, overfit like crazy!Solution can be decrease the learning rate or decrease the complexity of the model assuming using the same dataset. \n",
    "ver5. Change dense back to 128 and increase the latent space to 70. The idea is to reduce the complexity of the model and also increase the space the data can be store in. If this doesnt work then go back to ver3 and include beta and also reduce the learning rate to stop overfitting.\n",
    "ver6. Goes back to ver3 but this time changes the reconstruction loss without multiplying and add beta=20. Adam learning rate changes to 0.0001 to make it learn slower. Also change the validation split to 0.1 to train more data."
   ]
  },
  {
   "cell_type": "code",
   "execution_count": null,
   "metadata": {},
   "outputs": [],
   "source": [
    "print(x_test.shape)"
   ]
  },
  {
   "cell_type": "code",
   "execution_count": 43,
   "metadata": {},
   "outputs": [
    {
     "data": {
      "text/plain": [
       "<Figure size 576x432 with 0 Axes>"
      ]
     },
     "metadata": {},
     "output_type": "display_data"
    },
    {
     "data": {
      "image/png": "[encoded data removed]",
      "text/plain": [
       "<Figure size 432x288 with 1 Axes>"
      ]
     },
     "metadata": {
      "needs_background": "light"
     },
     "output_type": "display_data"
    }
   ],
   "source": [
    "import pandas as pd\n",
    "plot_loss(history)"
   ]
  },
  {
   "cell_type": "code",
   "execution_count": null,
   "metadata": {},
   "outputs": [],
   "source": [
    "#np.save('encoded_10x_train.npy',x_train)\n",
    "#np.save('encoded_10x_test.npy',x_test)"
   ]
  },
  {
   "cell_type": "code",
   "execution_count": null,
   "metadata": {},
   "outputs": [],
   "source": [
    "models = (encoder, decoder)\n",
    "data = (x_test, y_test)"
   ]
  },
  {
   "cell_type": "code",
   "execution_count": null,
   "metadata": {},
   "outputs": [],
   "source": [
    "def plot_results(models,\n",
    "                 data,\n",
    "                 batch_size=batch_size,\n",
    "                 model_name=\"vae_mnist\"):\n",
    "    \"\"\"Plots labels and MNIST digits as function of 2-dim latent vector\n",
    "    # Arguments:\n",
    "        models (tuple): encoder and decoder models\n",
    "        data (tuple): test data and label\n",
    "        batch_size (int): prediction batch size\n",
    "        model_name (string): which model is using this function\n",
    "    \"\"\"\n",
    "\n",
    "    encoder, decoder = models\n",
    "    x_test, y_test = data\n",
    "    os.makedirs(model_name, exist_ok=True)\n",
    "\n",
    "    filename = os.path.join(model_name, \"vae_mean.png\")\n",
    "    # display a 2D plot of the digit classes in the latent space\n",
    "    z_mean, _, _ = encoder.predict(x_test,\n",
    "                                   batch_size=32)\n",
    "    print(z_mean)\n",
    "    plt.figure(figsize=(12, 10))\n",
    "    plt.scatter(z_mean[:, 0], z_mean[:, 1], c=y_test)\n",
    "    plt.colorbar()\n",
    "    plt.xlabel(\"z[0]\")\n",
    "    plt.ylabel(\"z[1]\")\n",
    "    plt.savefig(filename)\n",
    "    plt.show()\n",
    "\n",
    "    filename = os.path.join(model_name, \"digits_over_latent.png\")\n",
    "    # display a 30x30 2D manifold of digits\n",
    "    n = 30\n",
    "    digit_size = 28\n",
    "    figure = np.zeros((digit_size * n, digit_size * n))\n",
    "    # linearly spaced coordinates corresponding to the 2D plot\n",
    "    # of digit classes in the latent space\n",
    "    grid_x = np.linspace(-4, 4, n)\n",
    "    grid_y = np.linspace(-4, 4, n)[::-1]"
   ]
  },
  {
   "cell_type": "code",
   "execution_count": null,
   "metadata": {},
   "outputs": [],
   "source": [
    "plot_results(models,\n",
    "                 data,\n",
    "                 batch_size=batch_size,\n",
    "                 model_name=\"vae_mlp\")"
   ]
  },
  {
   "cell_type": "code",
   "execution_count": null,
   "metadata": {},
   "outputs": [],
   "source": [
    "def plot_autoencoder_outputs(encoder,k, n, dims):\n",
    "    #decoded_imgs = enconder.predict(x_test)\n",
    "    #x_test_encoded = vae.predict(x_test, batch_size = batch_size)\n",
    "    # number of example digits to show\n",
    "    #n = 5\n",
    "    j=8000\n",
    "    plt.figure(figsize=(20, 5))\n",
    "    for i in range(k, n):\n",
    "        # plot original image\n",
    "        ax = plt.subplot(2, n, i + 1)\n",
    "        plt.imshow(x_test[j].reshape(*dims))\n",
    "        #plt.gray()\n",
    "        ax.get_xaxis().set_visible(False)\n",
    "        ax.get_yaxis().set_visible(False)\n",
    "        if i == n/2:\n",
    "            ax.set_title('Original Images')\n",
    "\n",
    "        # plot reconstruction \n",
    "        ax = plt.subplot(2, n, i + 1 + n)\n",
    "        plt.imshow(x_test_encoded[j].reshape(*dims))\n",
    "        #plt.gray()\n",
    "        ax.get_xaxis().set_visible(False)\n",
    "        ax.get_yaxis().set_visible(False)\n",
    "        if i == n/2:\n",
    "            ax.set_title('Reconstructed Images')\n",
    "        j=j+1\n",
    "    plt.show()"
   ]
  },
  {
   "cell_type": "code",
   "execution_count": 44,
   "metadata": {},
   "outputs": [],
   "source": [
    "x_test_encoded = vae.predict(x_test, batch_size = batch_size)"
   ]
  },
  {
   "cell_type": "code",
   "execution_count": null,
   "metadata": {},
   "outputs": [],
   "source": [
    "x_test_encoded = None"
   ]
  },
  {
   "cell_type": "code",
   "execution_count": null,
   "metadata": {
    "scrolled": true
   },
   "outputs": [],
   "source": [
    "print(x_test_encoded[10])"
   ]
  },
  {
   "cell_type": "code",
   "execution_count": 45,
   "metadata": {},
   "outputs": [
    {
     "name": "stdout",
     "output_type": "stream",
     "text": [
      "0.66887945\n",
      "0.8\n"
     ]
    }
   ],
   "source": [
    "print(np.amax(x_test_encoded))\n",
    "print(np.amax(x_test))"
   ]
  },
  {
   "cell_type": "code",
   "execution_count": null,
   "metadata": {},
   "outputs": [],
   "source": [
    "print(x_test[10])"
   ]
  },
  {
   "cell_type": "code",
   "execution_count": 46,
   "metadata": {},
   "outputs": [
    {
     "name": "stdout",
     "output_type": "stream",
     "text": [
      "12480/12480 [==============================] - 77s 6ms/step\n",
      "Test loss: 0.029123979908987307\n",
      "Test accuracy: 0.963631312816571\n"
     ]
    }
   ],
   "source": [
    "vae_test.set_weights(vae.get_weights())\n",
    "\n",
    "#from random import shuffle\n",
    "\n",
    "#shuffle(x_test)\n",
    "\n",
    "score = vae_test.evaluate(x_test, x_test, verbose=1, batch_size=batch_size,steps=None)\n",
    "#score = vae.evaluate(x_test)\n",
    "print('Test loss:', score[0])\n",
    "print('Test accuracy:', score[1])"
   ]
  },
  {
   "cell_type": "code",
   "execution_count": 56,
   "metadata": {},
   "outputs": [
    {
     "data": {
      "image/png": "[encoded data removed]",
      "text/plain": [
       "<Figure size 1280x640 with 12 Axes>"
      ]
     },
     "metadata": {},
     "output_type": "display_data"
    },
    {
     "data": {
      "image/png": "[encoded data removed]",
      "text/plain": [
       "<Figure size 1280x640 with 12 Axes>"
      ]
     },
     "metadata": {},
     "output_type": "display_data"
    }
   ],
   "source": [
    "#Visualisation in 12 chunks\n",
    "x_test_4 = (x_test.astype('float32'))\n",
    "\n",
    "A0= x_test_4.reshape(1040,12,2,104,176)\n",
    "\n",
    "id = 988\n",
    "\n",
    "A = A0[id]\n",
    "fig=plt.figure(figsize=(16, 8), dpi= 80, facecolor='w', edgecolor='k')\n",
    "for cnt,i in enumerate(range(12)):\n",
    "    ax = plt.subplot(3,4, i + 1)\n",
    "    ax.set_title('Original Images')\n",
    "    plt.imshow(A[i][0], cmap='afmhot', interpolation='nearest')\n",
    "    plt.gca().invert_yaxis()\n",
    "    #plt.savefig(\"mytable{}.png\".format(cnt*2))\n",
    "    plt.imshow(A[i][1], cmap='afmhot', interpolation='nearest')\n",
    "    plt.gca().invert_yaxis()\n",
    "    #plt.savefig(\"mytable{}.png\".format((cnt*2)+1))\n",
    "\n",
    "    \n",
    "#Visualisation in 12 chunks\n",
    "A1= x_test_encoded.reshape(1040,12,2,104,176)\n",
    "A = A1[id]\n",
    "fig=plt.figure(figsize=(16, 8), dpi= 80, facecolor='w', edgecolor='k')\n",
    "for cnt,i in enumerate(range(12)):\n",
    "    ax = plt.subplot(3, 4, i + 1)\n",
    "    ax.set_title('Reconstructed Images')\n",
    "    plt.imshow(A[i][0], cmap='afmhot', interpolation='nearest')\n",
    "    plt.gca().invert_yaxis()\n",
    "    #plt.savefig(\"mytable{}.png\".format(cnt*2))\n",
    "    plt.imshow(A[i][1], cmap='afmhot', interpolation='nearest')\n",
    "    plt.gca().invert_yaxis()\n",
    "    #plt.savefig(\"mytable{}.png\".format((cnt*2)+1)"
   ]
  },
  {
   "cell_type": "code",
   "execution_count": null,
   "metadata": {},
   "outputs": [],
   "source": [
    "print(x_test_4.shape)"
   ]
  },
  {
   "cell_type": "code",
   "execution_count": 53,
   "metadata": {},
   "outputs": [
    {
     "name": "stdout",
     "output_type": "stream",
     "text": [
      "Swiping_Down\n"
     ]
    }
   ],
   "source": [
    "print(y_test[0])"
   ]
  },
  {
   "cell_type": "code",
   "execution_count": null,
   "metadata": {},
   "outputs": [],
   "source": []
  }
 ],
 "metadata": {
  "kernelspec": {
   "display_name": "Python 3",
   "language": "python",
   "name": "python3"
  },
  "language_info": {
   "codemirror_mode": {
    "name": "ipython",
    "version": 3
   },
   "file_extension": ".py",
   "mimetype": "text/x-python",
   "name": "python",
   "nbconvert_exporter": "python",
   "pygments_lexer": "ipython3",
   "version": "3.6.6"
  }
 },
 "nbformat": 4,
 "nbformat_minor": 2
}
