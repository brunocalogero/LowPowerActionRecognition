{
 "cells": [
  {
   "cell_type": "markdown",
   "metadata": {},
   "source": [
    "# SVM with normal data "
   ]
  },
  {
   "cell_type": "code",
   "execution_count": 13,
   "metadata": {},
   "outputs": [],
   "source": [
    "import numpy as np\n",
    "from sklearn import svm, metrics\n",
    "import datetime as dt"
   ]
  },
  {
   "cell_type": "code",
   "execution_count": 4,
   "metadata": {},
   "outputs": [],
   "source": [
    "#Load data\n",
    "\n",
    "x_train = np.load('x_train_1.npy')\n",
    "y_train = np.load('y_train.npy')\n",
    "x_test  = np.load('x_test_1.npy')\n",
    "y_test  = np.load('x_test.npy')"
   ]
  },
  {
   "cell_type": "code",
   "execution_count": 5,
   "metadata": {},
   "outputs": [
    {
     "name": "stdout",
     "output_type": "stream",
     "text": [
      "Training dataset shape: (60000, 2312)\n",
      "Training labels shape: (60000,)\n",
      "Testing dataset shape: (10000, 2312)\n",
      "Training labels shape: (10000,)\n"
     ]
    }
   ],
   "source": [
    "#Check for dimensions\n",
    "print(\"Training dataset shape:\", x_train.shape)\n",
    "print(\"Training labels shape:\", y_train.shape)\n",
    "print(\"Testing dataset shape:\", x_test.shape)\n",
    "print(\"Training labels shape:\", y_test.shape)"
   ]
  },
  {
   "cell_type": "code",
   "execution_count": 10,
   "metadata": {},
   "outputs": [],
   "source": [
    "num_training = 60000\n",
    "num_dev = 10000\n",
    "\n",
    "# We will also make a development set, which is a small subset of\n",
    "# the training set.\n",
    "mask = np.random.choice(num_training, num_dev, replace=False)\n",
    "X_dev = x_train[mask]\n",
    "Y_dev = y_train[mask]"
   ]
  },
  {
   "cell_type": "code",
   "execution_count": 11,
   "metadata": {},
   "outputs": [
    {
     "name": "stdout",
     "output_type": "stream",
     "text": [
      "(10000, 2312)\n"
     ]
    }
   ],
   "source": [
    "#Check input_data dimensions\n",
    "print(X_dev.shape)"
   ]
  },
  {
   "cell_type": "code",
   "execution_count": 14,
   "metadata": {},
   "outputs": [
    {
     "name": "stdout",
     "output_type": "stream",
     "text": [
      "Start learning at 2019-01-30 12:30:31.474808\n",
      "Stop learning 2019-01-30 12:44:11.103883\n",
      "Elapsed learning 0:13:39.629075\n"
     ]
    }
   ],
   "source": [
    "#SVM\n",
    "#classifier = svm.SVC(C=5,kernel='rbf',gamma=0.01,cache_size=8000,probability=False)\n",
    "classifier = svm.SVC(C=5,kernel='rbf',gamma=0.0005,cache_size=8000,probability=False)\n",
    "\n",
    "start_time = dt.datetime.now()\n",
    "print('Start learning at {}'.format(str(start_time)))\n",
    "\n",
    "classifier.fit(X_dev, Y_dev)\n",
    "\n",
    "end_time = dt.datetime.now() \n",
    "print('Stop learning {}'.format(str(end_time)))\n",
    "elapsed_time= end_time - start_time\n",
    "print('Elapsed learning {}'.format(str(elapsed_time))) "
   ]
  },
  {
   "cell_type": "code",
   "execution_count": 17,
   "metadata": {},
   "outputs": [
    {
     "name": "stdout",
     "output_type": "stream",
     "text": [
      "Classification report for classifier SVC(C=5, cache_size=8000, class_weight=None, coef0=0.0,\n",
      "  decision_function_shape='ovr', degree=3, gamma=0.0005, kernel='rbf',\n",
      "  max_iter=-1, probability=False, random_state=None, shrinking=True,\n",
      "  tol=0.001, verbose=False):\n",
      "              precision    recall  f1-score   support\n",
      "\n",
      "           0       0.95      0.97      0.96       980\n",
      "           1       0.96      0.99      0.97      1135\n",
      "           2       0.93      0.93      0.93      1032\n",
      "           3       0.93      0.94      0.94      1010\n",
      "           4       0.93      0.95      0.94       982\n",
      "           5       0.92      0.92      0.92       892\n",
      "           6       0.95      0.96      0.95       958\n",
      "           7       0.94      0.92      0.93      1028\n",
      "           8       0.93      0.91      0.92       974\n",
      "           9       0.94      0.90      0.92      1009\n",
      "\n",
      "   micro avg       0.94      0.94      0.94     10000\n",
      "   macro avg       0.94      0.94      0.94     10000\n",
      "weighted avg       0.94      0.94      0.94     10000\n",
      "\n",
      "\n",
      "Confusion matrix:\n",
      "[[ 948    1    8    2    0    5    5    5    4    2]\n",
      " [   0 1120    4    3    0    0    2    0    5    1]\n",
      " [  12    6  956    8    4    4    9   14   18    1]\n",
      " [   1    3   14  952    1   17    1    9    9    3]\n",
      " [   1    4    8    1  935    0   10    3    3   17]\n",
      " [   6    3    0   24    3  821   16    5    9    5]\n",
      " [  10    5    3    0    8    8  918    0    6    0]\n",
      " [   1   15   24    3    5    1    1  949    5   24]\n",
      " [   5    1    8   17    9   25    2   13  890    4]\n",
      " [   9    7    3   10   36    8    1   13   11  911]]\n",
      "Accuracy=0.94\n"
     ]
    }
   ],
   "source": [
    "# Now predict the value of the test\n",
    "expected = y_test\n",
    "\n",
    "predicted = classifier.predict(x_test)\n",
    "\n",
    "\n",
    "print(\"Classification report for classifier %s:\\n%s\\n\"\n",
    "      % (classifier, metrics.classification_report(expected, predicted)))\n",
    "      \n",
    "cm = metrics.confusion_matrix(expected, predicted)\n",
    "print(\"Confusion matrix:\\n%s\" % cm)\n",
    "\n",
    "# plot_confusion_matrix(cm)\n",
    "\n",
    "print(\"Accuracy={}\".format(metrics.accuracy_score(expected, predicted)))"
   ]
  },
  {
   "cell_type": "code",
   "execution_count": null,
   "metadata": {},
   "outputs": [],
   "source": []
  }
 ],
 "metadata": {
  "kernelspec": {
   "display_name": "Python 3",
   "language": "python",
   "name": "python3"
  },
  "language_info": {
   "codemirror_mode": {
    "name": "ipython",
    "version": 3
   },
   "file_extension": ".py",
   "mimetype": "text/x-python",
   "name": "python",
   "nbconvert_exporter": "python",
   "pygments_lexer": "ipython3",
   "version": "3.6.8"
  }
 },
 "nbformat": 4,
 "nbformat_minor": 2
}
